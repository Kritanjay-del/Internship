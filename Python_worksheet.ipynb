{
 "cells": [
  {
   "cell_type": "markdown",
   "id": "e86b500e",
   "metadata": {},
   "source": [
    "1. Which of the following operators is used to calculate remainder in a division?\n",
    "A) # B) &\n",
    "C) % D) $\n",
    "Ans)C\n",
    "\n",
    "2. In python 2//3 is equal to?\n",
    "A) 0.666 B) 0\n",
    "C) 1 D) 0.67\n",
    "Ans)B\n",
    "\n",
    "3. In python, 6<<2 is equal to?\n",
    "A) 36 B) 10\n",
    "C) 24 D) 45\n",
    "Ans)C\n",
    "\n",
    "4. In python, 6&2 will give which of the following as output?\n",
    "A) 2 B) True\n",
    "C) False D) 0\n",
    "Ans)A\n",
    "\n",
    "5. In python, 6|2 will give which of the following as output?\n",
    "A) 2 B) 4\n",
    "C) 0 D) 6\n",
    "Ans)6\n",
    "\n",
    "6. What does the finally keyword denotes in python?\n",
    "A) It is used to mark the end of the code\n",
    "B) It encloses the lines of code which will be executed if any error occurs while executing the lines of code in \n",
    "the try block.\n",
    "C) the finally block will be executed no matter if the try block raises an error or not.\n",
    "D) None of the above\n",
    "Ans)C\n",
    "\n",
    "7. What does raise keyword is used for in python?\n",
    "A) It is used to raise an exception. B) It is used to define lambda function\n",
    "C) it's not a keyword in python. D) None of the above\n",
    "Ans)A\n",
    "\n",
    "8. Which of the following is a common use case of yield keyword in python?\n",
    "A) in defining an iterator B) while defining a lambda function\n",
    "C) in defining a generator D) in for loop.\n",
    "Ans)C\n",
    "\n",
    "9. Which of the following are the valid variable names?\n",
    "A) _abc B) 1abc\n",
    "C) abc2 D) None of the above\n",
    "Ans)A,B,C\n",
    "\n",
    "10. Which of the following are the keywords in python?\n",
    "A) yield B) raise\n",
    "C) look-in D) all of the above\n",
    "Ans)A ,B\n"
   ]
  },
  {
   "cell_type": "markdown",
   "id": "f945a625",
   "metadata": {},
   "source": [
    "# Python program to find the factorial of a number"
   ]
  },
  {
   "cell_type": "code",
   "execution_count": 8,
   "id": "e5d804bd",
   "metadata": {},
   "outputs": [
    {
     "name": "stdout",
     "output_type": "stream",
     "text": [
      "Enter any number:6\n",
      "Factorial of the number is: 720\n"
     ]
    }
   ],
   "source": [
    "X=int(input(\"Enter any number:\"))\n",
    "for i in range(1,X):\n",
    "    X=X*i\n",
    "print(\"Factorial of the number is:\",X)    \n"
   ]
  },
  {
   "cell_type": "markdown",
   "id": "e1e409f3",
   "metadata": {},
   "source": [
    "# Python program to find whether a number is prime or composite."
   ]
  },
  {
   "cell_type": "code",
   "execution_count": 13,
   "id": "72a73c74",
   "metadata": {},
   "outputs": [
    {
     "name": "stdout",
     "output_type": "stream",
     "text": [
      "Enter any number:23\n",
      "Number is prime.\n"
     ]
    }
   ],
   "source": [
    "X=int(input(\"Enter any number:\"))\n",
    "if (X%2==0):\n",
    "    print(\"Number is composite.\")\n",
    "else:\n",
    "    print(\"Number is prime.\")"
   ]
  },
  {
   "cell_type": "markdown",
   "id": "6e5f82c4",
   "metadata": {},
   "source": [
    "# Python program to check whether a given string is palindrome or not"
   ]
  },
  {
   "cell_type": "code",
   "execution_count": 24,
   "id": "9abe11d9",
   "metadata": {},
   "outputs": [
    {
     "name": "stdout",
     "output_type": "stream",
     "text": [
      "Enter any string:aba\n",
      "String is palindrome\n"
     ]
    }
   ],
   "source": [
    "X=input(\"Enter any string:\")\n",
    "if X[0]==X[len(X)-1]:\n",
    "     print(\"String is palindrome\")\n",
    "else:\n",
    "     print(\"String is not palindrome\")\n",
    "        "
   ]
  },
  {
   "cell_type": "markdown",
   "id": "71ac45c7",
   "metadata": {},
   "source": [
    "# Python program to get the third side of right-angled triangle from two given sides."
   ]
  },
  {
   "cell_type": "code",
   "execution_count": 33,
   "id": "1d3aa08a",
   "metadata": {},
   "outputs": [
    {
     "name": "stdout",
     "output_type": "stream",
     "text": [
      "Enter lenght of first side:3\n",
      "Enter lenght of 2nd side:4\n",
      "Hypotenuse of th triangle is: 5.0\n"
     ]
    }
   ],
   "source": [
    "import numpy as np\n",
    "X=int(input(\"Enter lenght of first side:\"))\n",
    "Y=int(input(\"Enter lenght of 2nd side:\"))\n",
    "print(\"Hypotenuse of th triangle is:\",np.sqrt(np.square(X)+np.square(Y)))"
   ]
  },
  {
   "cell_type": "markdown",
   "id": "b792d004",
   "metadata": {},
   "source": [
    "# Python program to print the frequency of each of the characters present in a given string"
   ]
  },
  {
   "cell_type": "code",
   "execution_count": 35,
   "id": "6c1b8130",
   "metadata": {},
   "outputs": [
    {
     "name": "stdout",
     "output_type": "stream",
     "text": [
      "Enter any string:satis\n",
      "Frequency of each character :\n",
      "  {'s': 2, 'a': 1, 't': 1, 'i': 1}\n"
     ]
    }
   ],
   "source": [
    "X=input(\"Enter any string:\")\n",
    "res = {}\n",
    "\n",
    "for keys in X:\n",
    "    res[keys] = res.get(keys, 0) + 1\n",
    "\n",
    "# Result\n",
    "print(\"Frequency of each character :\\n \",res)"
   ]
  }
 ],
 "metadata": {
  "kernelspec": {
   "display_name": "Python 3",
   "language": "python",
   "name": "python3"
  },
  "language_info": {
   "codemirror_mode": {
    "name": "ipython",
    "version": 3
   },
   "file_extension": ".py",
   "mimetype": "text/x-python",
   "name": "python",
   "nbconvert_exporter": "python",
   "pygments_lexer": "ipython3",
   "version": "3.8.5"
  }
 },
 "nbformat": 4,
 "nbformat_minor": 5
}
