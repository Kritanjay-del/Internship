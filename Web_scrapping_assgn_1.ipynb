{
 "cells": [
  {
   "cell_type": "code",
   "execution_count": 1,
   "id": "1b9b5ac1",
   "metadata": {},
   "outputs": [],
   "source": [
    "from bs4 import BeautifulSoup\n",
    "import requests"
   ]
  },
  {
   "cell_type": "markdown",
   "id": "92a384fb",
   "metadata": {},
   "source": [
    "## Write a python program to display all the header tags from wikipedia.org."
   ]
  },
  {
   "cell_type": "code",
   "execution_count": 13,
   "id": "55ebe161",
   "metadata": {},
   "outputs": [
    {
     "data": {
      "text/plain": [
       "<Response [200]>"
      ]
     },
     "execution_count": 13,
     "metadata": {},
     "output_type": "execute_result"
    }
   ],
   "source": [
    "page=requests.get('https://en.wikipedia.org/wiki/Main_Page')\n",
    "page"
   ]
  },
  {
   "cell_type": "code",
   "execution_count": 379,
   "id": "ed61b04f",
   "metadata": {},
   "outputs": [],
   "source": [
    "soup=BeautifulSoup(page.content)"
   ]
  },
  {
   "cell_type": "code",
   "execution_count": 15,
   "id": "29e0a710",
   "metadata": {},
   "outputs": [
    {
     "data": {
      "text/plain": [
       "[\"From today's featured article\",\n",
       " 'Did you know\\xa0...',\n",
       " 'In the news',\n",
       " 'On this day',\n",
       " \"Today's featured picture\",\n",
       " 'Other areas of Wikipedia',\n",
       " \"Wikipedia's sister projects\",\n",
       " 'Wikipedia languages']"
      ]
     },
     "execution_count": 15,
     "metadata": {},
     "output_type": "execute_result"
    }
   ],
   "source": [
    "header=[]\n",
    "for i in soup.find_all('span',class_=\"mw-headline\"):\n",
    "    header.append(i.text)\n",
    "header"
   ]
  },
  {
   "cell_type": "markdown",
   "id": "cf55243b",
   "metadata": {},
   "source": [
    " ## Write a python program to display IMDB’s Top rated 100 movies’ data (i.e. name, rating, year of release)and make data frame."
   ]
  },
  {
   "cell_type": "code",
   "execution_count": 17,
   "id": "10cc91dc",
   "metadata": {},
   "outputs": [
    {
     "data": {
      "text/plain": [
       "<Response [200]>"
      ]
     },
     "execution_count": 17,
     "metadata": {},
     "output_type": "execute_result"
    }
   ],
   "source": [
    "page=requests.get('https://www.imdb.com/list/ls055592025/')\n",
    "page"
   ]
  },
  {
   "cell_type": "code",
   "execution_count": 380,
   "id": "5f51e924",
   "metadata": {},
   "outputs": [],
   "source": [
    "soup=BeautifulSoup(page.content)"
   ]
  },
  {
   "cell_type": "code",
   "execution_count": 91,
   "id": "2863a768",
   "metadata": {},
   "outputs": [],
   "source": [
    "title=[]\n",
    "for i in soup.find_all('h3',class_=\"lister-item-header\"):\n",
    "    title.append(i.text.split('\\n')[2].replace(',',''))\n"
   ]
  },
  {
   "cell_type": "code",
   "execution_count": 92,
   "id": "61895cd5",
   "metadata": {},
   "outputs": [],
   "source": [
    "year=[]\n",
    "for i in soup.find_all('h3',class_=\"lister-item-header\"):\n",
    "    year.append(i.text.split('\\n')[3].replace('(','').replace(')',''))\n"
   ]
  },
  {
   "cell_type": "code",
   "execution_count": 90,
   "id": "b9dcae81",
   "metadata": {},
   "outputs": [],
   "source": [
    "\n",
    "rating=[]\n",
    "\n",
    "for i in soup.find_all('span',class_='ipl-rating-star__rating'):\n",
    "    rating.append(i.text)\n"
   ]
  },
  {
   "cell_type": "code",
   "execution_count": 62,
   "id": "e0152173",
   "metadata": {},
   "outputs": [
    {
     "data": {
      "text/plain": [
       "100"
      ]
     },
     "execution_count": 62,
     "metadata": {},
     "output_type": "execute_result"
    }
   ],
   "source": [
    "rate=[]\n",
    "for i in np.arange(0,2300,23):\n",
    "    rate.append(rating[i])\n",
    "len(rate)    \n",
    "    "
   ]
  },
  {
   "cell_type": "code",
   "execution_count": 66,
   "id": "8c7e6414",
   "metadata": {},
   "outputs": [
    {
     "name": "stdout",
     "output_type": "stream",
     "text": [
      "100 100 100\n"
     ]
    }
   ],
   "source": [
    "print(len(title),len(year),len(rate))"
   ]
  },
  {
   "cell_type": "code",
   "execution_count": 67,
   "id": "0d672624",
   "metadata": {},
   "outputs": [
    {
     "data": {
      "text/html": [
       "<div>\n",
       "<style scoped>\n",
       "    .dataframe tbody tr th:only-of-type {\n",
       "        vertical-align: middle;\n",
       "    }\n",
       "\n",
       "    .dataframe tbody tr th {\n",
       "        vertical-align: top;\n",
       "    }\n",
       "\n",
       "    .dataframe thead th {\n",
       "        text-align: right;\n",
       "    }\n",
       "</style>\n",
       "<table border=\"1\" class=\"dataframe\">\n",
       "  <thead>\n",
       "    <tr style=\"text-align: right;\">\n",
       "      <th></th>\n",
       "      <th>Title</th>\n",
       "      <th>Year</th>\n",
       "      <th>Rating</th>\n",
       "    </tr>\n",
       "  </thead>\n",
       "  <tbody>\n",
       "    <tr>\n",
       "      <th>0</th>\n",
       "      <td>The Godfather</td>\n",
       "      <td>1972</td>\n",
       "      <td>9.2</td>\n",
       "    </tr>\n",
       "    <tr>\n",
       "      <th>1</th>\n",
       "      <td>The Shawshank Redemption</td>\n",
       "      <td>1994</td>\n",
       "      <td>9.3</td>\n",
       "    </tr>\n",
       "    <tr>\n",
       "      <th>2</th>\n",
       "      <td>Schindler's List</td>\n",
       "      <td>1993</td>\n",
       "      <td>8.9</td>\n",
       "    </tr>\n",
       "    <tr>\n",
       "      <th>3</th>\n",
       "      <td>Raging Bull</td>\n",
       "      <td>1980</td>\n",
       "      <td>8.2</td>\n",
       "    </tr>\n",
       "    <tr>\n",
       "      <th>4</th>\n",
       "      <td>Casablanca</td>\n",
       "      <td>1942</td>\n",
       "      <td>8.5</td>\n",
       "    </tr>\n",
       "    <tr>\n",
       "      <th>...</th>\n",
       "      <td>...</td>\n",
       "      <td>...</td>\n",
       "      <td>...</td>\n",
       "    </tr>\n",
       "    <tr>\n",
       "      <th>95</th>\n",
       "      <td>Rear Window</td>\n",
       "      <td>1954</td>\n",
       "      <td>8.5</td>\n",
       "    </tr>\n",
       "    <tr>\n",
       "      <th>96</th>\n",
       "      <td>The Third Man</td>\n",
       "      <td>1949</td>\n",
       "      <td>8.1</td>\n",
       "    </tr>\n",
       "    <tr>\n",
       "      <th>97</th>\n",
       "      <td>Rebel Without a Cause</td>\n",
       "      <td>1955</td>\n",
       "      <td>7.7</td>\n",
       "    </tr>\n",
       "    <tr>\n",
       "      <th>98</th>\n",
       "      <td>North by Northwest</td>\n",
       "      <td>1959</td>\n",
       "      <td>8.3</td>\n",
       "    </tr>\n",
       "    <tr>\n",
       "      <th>99</th>\n",
       "      <td>Yankee Doodle Dandy</td>\n",
       "      <td>1942</td>\n",
       "      <td>7.7</td>\n",
       "    </tr>\n",
       "  </tbody>\n",
       "</table>\n",
       "<p>100 rows × 3 columns</p>\n",
       "</div>"
      ],
      "text/plain": [
       "                       Title  Year Rating\n",
       "0              The Godfather  1972    9.2\n",
       "1   The Shawshank Redemption  1994    9.3\n",
       "2           Schindler's List  1993    8.9\n",
       "3                Raging Bull  1980    8.2\n",
       "4                 Casablanca  1942    8.5\n",
       "..                       ...   ...    ...\n",
       "95               Rear Window  1954    8.5\n",
       "96             The Third Man  1949    8.1\n",
       "97     Rebel Without a Cause  1955    7.7\n",
       "98        North by Northwest  1959    8.3\n",
       "99       Yankee Doodle Dandy  1942    7.7\n",
       "\n",
       "[100 rows x 3 columns]"
      ]
     },
     "execution_count": 67,
     "metadata": {},
     "output_type": "execute_result"
    }
   ],
   "source": [
    "import pandas as pd\n",
    "df=pd.DataFrame({'Title':title,\n",
    "             'Year':year,\n",
    "             'Rating':rate})\n",
    "df"
   ]
  },
  {
   "cell_type": "markdown",
   "id": "966e6363",
   "metadata": {},
   "source": [
    "## Write a python program to display IMDB’s Top rated 100 Indian movies’ data (i.e. name, rating, year ofrelease) and make data frame."
   ]
  },
  {
   "cell_type": "code",
   "execution_count": 300,
   "id": "4e428220",
   "metadata": {},
   "outputs": [
    {
     "data": {
      "text/plain": [
       "<Response [200]>"
      ]
     },
     "execution_count": 300,
     "metadata": {},
     "output_type": "execute_result"
    }
   ],
   "source": [
    "page=requests.get(\"https://www.imdb.com/india/top-rated-indian-movies/\")\n",
    "page"
   ]
  },
  {
   "cell_type": "code",
   "execution_count": 299,
   "id": "166d3319",
   "metadata": {},
   "outputs": [],
   "source": [
    "soup=BeautifulSoup(page.content)\n"
   ]
  },
  {
   "cell_type": "code",
   "execution_count": 127,
   "id": "416ccc15",
   "metadata": {},
   "outputs": [
    {
     "data": {
      "text/plain": [
       "250"
      ]
     },
     "execution_count": 127,
     "metadata": {},
     "output_type": "execute_result"
    }
   ],
   "source": [
    "title=[]\n",
    "for i in soup.find_all('td',class_='titleColumn'):\n",
    "    title.append(i.text.split('\\n')[2])\n",
    "len(title)"
   ]
  },
  {
   "cell_type": "code",
   "execution_count": 99,
   "id": "4632fa78",
   "metadata": {},
   "outputs": [
    {
     "data": {
      "text/plain": [
       "250"
      ]
     },
     "execution_count": 99,
     "metadata": {},
     "output_type": "execute_result"
    }
   ],
   "source": [
    "year=[]\n",
    "for i in soup.find_all('td',class_='titleColumn'):\n",
    "    year.append(i.text.split('\\n')[3].replace('(','').replace(')',''))\n",
    "len(year)"
   ]
  },
  {
   "cell_type": "code",
   "execution_count": 123,
   "id": "884ed08b",
   "metadata": {},
   "outputs": [
    {
     "data": {
      "text/plain": [
       "250"
      ]
     },
     "execution_count": 123,
     "metadata": {},
     "output_type": "execute_result"
    }
   ],
   "source": [
    "rating=[]\n",
    "div_mode = soup.find(\"div\",class_=\"lister\")\n",
    "\n",
    "tbody = div_mode.find(\"tbody\",class_=\"lister-list\")\n",
    "for i in tbody.find_all('td',class_='ratingColumn imdbRating'):\n",
    "    rating.append(i.text.split('\\n')[1])\n",
    "len(rating)"
   ]
  },
  {
   "cell_type": "code",
   "execution_count": 128,
   "id": "eb7c4d86",
   "metadata": {},
   "outputs": [
    {
     "name": "stdout",
     "output_type": "stream",
     "text": [
      "250 250 250\n"
     ]
    }
   ],
   "source": [
    "print(len(title),len(year),len(rating))"
   ]
  },
  {
   "cell_type": "code",
   "execution_count": null,
   "id": "942767df",
   "metadata": {},
   "outputs": [],
   "source": []
  },
  {
   "cell_type": "code",
   "execution_count": 135,
   "id": "84985428",
   "metadata": {},
   "outputs": [
    {
     "data": {
      "text/html": [
       "<div>\n",
       "<style scoped>\n",
       "    .dataframe tbody tr th:only-of-type {\n",
       "        vertical-align: middle;\n",
       "    }\n",
       "\n",
       "    .dataframe tbody tr th {\n",
       "        vertical-align: top;\n",
       "    }\n",
       "\n",
       "    .dataframe thead th {\n",
       "        text-align: right;\n",
       "    }\n",
       "</style>\n",
       "<table border=\"1\" class=\"dataframe\">\n",
       "  <thead>\n",
       "    <tr style=\"text-align: right;\">\n",
       "      <th></th>\n",
       "      <th>Title</th>\n",
       "      <th>Year</th>\n",
       "      <th>Rating</th>\n",
       "    </tr>\n",
       "  </thead>\n",
       "  <tbody>\n",
       "    <tr>\n",
       "      <th>0</th>\n",
       "      <td>Jai Bhim</td>\n",
       "      <td>2021</td>\n",
       "      <td>8.7</td>\n",
       "    </tr>\n",
       "    <tr>\n",
       "      <th>1</th>\n",
       "      <td>Nayakan</td>\n",
       "      <td>1987</td>\n",
       "      <td>8.5</td>\n",
       "    </tr>\n",
       "    <tr>\n",
       "      <th>2</th>\n",
       "      <td>Pariyerum Perumal</td>\n",
       "      <td>2018</td>\n",
       "      <td>8.5</td>\n",
       "    </tr>\n",
       "    <tr>\n",
       "      <th>3</th>\n",
       "      <td>Anbe Sivam</td>\n",
       "      <td>2003</td>\n",
       "      <td>8.5</td>\n",
       "    </tr>\n",
       "    <tr>\n",
       "      <th>4</th>\n",
       "      <td>Sardar Udham</td>\n",
       "      <td>2021</td>\n",
       "      <td>8.5</td>\n",
       "    </tr>\n",
       "    <tr>\n",
       "      <th>...</th>\n",
       "      <td>...</td>\n",
       "      <td>...</td>\n",
       "      <td>...</td>\n",
       "    </tr>\n",
       "    <tr>\n",
       "      <th>95</th>\n",
       "      <td>Sarfarosh</td>\n",
       "      <td>1999</td>\n",
       "      <td>8.1</td>\n",
       "    </tr>\n",
       "    <tr>\n",
       "      <th>96</th>\n",
       "      <td>Queen</td>\n",
       "      <td>2013</td>\n",
       "      <td>8.1</td>\n",
       "    </tr>\n",
       "    <tr>\n",
       "      <th>97</th>\n",
       "      <td>Roja</td>\n",
       "      <td>1992</td>\n",
       "      <td>8.1</td>\n",
       "    </tr>\n",
       "    <tr>\n",
       "      <th>98</th>\n",
       "      <td>Dil Chahta Hai</td>\n",
       "      <td>2001</td>\n",
       "      <td>8.1</td>\n",
       "    </tr>\n",
       "    <tr>\n",
       "      <th>99</th>\n",
       "      <td>OMG: Oh My God!</td>\n",
       "      <td>2012</td>\n",
       "      <td>8.1</td>\n",
       "    </tr>\n",
       "  </tbody>\n",
       "</table>\n",
       "<p>100 rows × 3 columns</p>\n",
       "</div>"
      ],
      "text/plain": [
       "                      Title  Year Rating\n",
       "0                  Jai Bhim  2021    8.7\n",
       "1                   Nayakan  1987    8.5\n",
       "2         Pariyerum Perumal  2018    8.5\n",
       "3                Anbe Sivam  2003    8.5\n",
       "4              Sardar Udham  2021    8.5\n",
       "..                      ...   ...    ...\n",
       "95                Sarfarosh  1999    8.1\n",
       "96                    Queen  2013    8.1\n",
       "97                     Roja  1992    8.1\n",
       "98           Dil Chahta Hai  2001    8.1\n",
       "99          OMG: Oh My God!  2012    8.1\n",
       "\n",
       "[100 rows x 3 columns]"
      ]
     },
     "execution_count": 135,
     "metadata": {},
     "output_type": "execute_result"
    }
   ],
   "source": [
    "df=pd.DataFrame({'Title':title,\n",
    "               'Year':year,\n",
    "               'Rating':rating})\n",
    "df.head(100)"
   ]
  },
  {
   "cell_type": "markdown",
   "id": "b4f42e45",
   "metadata": {},
   "source": [
    "## Write a python program to scrape cricket rankings from icc-cricket.com. You have to scrape:\n",
    "a) Top 10 ODI teams in men’s cricket along with the records for matches, points and rating.\n",
    "b) Top 10 ODI Batsmen in men along with the records of their team and rating.\n",
    "c) Top 10 ODI bowlers along with the records of their team and rating."
   ]
  },
  {
   "cell_type": "code",
   "execution_count": 301,
   "id": "6ad4e0d2",
   "metadata": {},
   "outputs": [
    {
     "data": {
      "text/plain": [
       "<Response [200]>"
      ]
     },
     "execution_count": 301,
     "metadata": {},
     "output_type": "execute_result"
    }
   ],
   "source": [
    "page=requests.get(\"https://www.icc-cricket.com/rankings/mens/team-rankings/odi\")\n",
    "page"
   ]
  },
  {
   "cell_type": "code",
   "execution_count": 303,
   "id": "137542c9",
   "metadata": {},
   "outputs": [],
   "source": [
    "soup=BeautifulSoup(page.content)"
   ]
  },
  {
   "cell_type": "code",
   "execution_count": 207,
   "id": "67de19aa",
   "metadata": {},
   "outputs": [
    {
     "data": {
      "text/plain": [
       "['1', 'New Zealand', '17', '2,054', '                            121']"
      ]
     },
     "execution_count": 207,
     "metadata": {},
     "output_type": "execute_result"
    }
   ],
   "source": [
    "top=soup.find('tr',class_='rankings-block__banner')\n",
    "import pandas as pd\n",
    "top_team=top.text.split('\\n')\n",
    "first=[]\n",
    "for i in [top_team[1],top_team[4],top_team[7],top_team[8],top_team[10]]:\n",
    "    first.append(i)"
   ]
  },
  {
   "cell_type": "code",
   "execution_count": 226,
   "id": "05567c1b",
   "metadata": {},
   "outputs": [
    {
     "data": {
      "text/plain": [
       "20"
      ]
     },
     "execution_count": 226,
     "metadata": {},
     "output_type": "execute_result"
    }
   ],
   "source": [
    "rank=[]\n",
    "for i in soup.find_all('tr',class_='table-body'):\n",
    "    rank.append(i.text.split('\\n')[1])\n",
    "\n",
    "rank.insert(0,first[0])\n",
    "len(rank)"
   ]
  },
  {
   "cell_type": "code",
   "execution_count": 216,
   "id": "6b333ef1",
   "metadata": {},
   "outputs": [
    {
     "data": {
      "text/plain": [
       "20"
      ]
     },
     "execution_count": 216,
     "metadata": {},
     "output_type": "execute_result"
    }
   ],
   "source": [
    "team=[]\n",
    "for i in soup.find_all('tr',class_='table-body'):\n",
    "    team.append(i.text.split('\\n')[4])\n",
    "team.insert(0,first[1])\n",
    "len(team)\n"
   ]
  },
  {
   "cell_type": "code",
   "execution_count": 217,
   "id": "a2393ba6",
   "metadata": {},
   "outputs": [
    {
     "data": {
      "text/plain": [
       "20"
      ]
     },
     "execution_count": 217,
     "metadata": {},
     "output_type": "execute_result"
    }
   ],
   "source": [
    "matches=[]\n",
    "for i in soup.find_all('tr',class_='table-body'):\n",
    "    matches.append(i.text.split('\\n')[7])\n",
    "matches.insert(0,first[2])\n",
    "len(matches)\n"
   ]
  },
  {
   "cell_type": "code",
   "execution_count": 218,
   "id": "d11602e6",
   "metadata": {},
   "outputs": [
    {
     "data": {
      "text/plain": [
       "20"
      ]
     },
     "execution_count": 218,
     "metadata": {},
     "output_type": "execute_result"
    }
   ],
   "source": [
    "points=[]\n",
    "for i in soup.find_all('tr',class_='table-body'):\n",
    "    points.append(i.text.split('\\n')[8])\n",
    "points.insert(0,first[3])\n",
    "len(points)"
   ]
  },
  {
   "cell_type": "code",
   "execution_count": 225,
   "id": "6309c2bb",
   "metadata": {},
   "outputs": [
    {
     "data": {
      "text/plain": [
       "20"
      ]
     },
     "execution_count": 225,
     "metadata": {},
     "output_type": "execute_result"
    }
   ],
   "source": [
    "rating=[]\n",
    "for i in soup.find_all('tr',class_='table-body'):\n",
    "    rating.append(i.text.split('\\n')[9])\n",
    "rating.insert(0,first[4].replace('                            ' ,''))\n",
    "len(rating)"
   ]
  },
  {
   "cell_type": "code",
   "execution_count": 231,
   "id": "0880afa2",
   "metadata": {},
   "outputs": [
    {
     "data": {
      "text/html": [
       "<div>\n",
       "<style scoped>\n",
       "    .dataframe tbody tr th:only-of-type {\n",
       "        vertical-align: middle;\n",
       "    }\n",
       "\n",
       "    .dataframe tbody tr th {\n",
       "        vertical-align: top;\n",
       "    }\n",
       "\n",
       "    .dataframe thead th {\n",
       "        text-align: right;\n",
       "    }\n",
       "</style>\n",
       "<table border=\"1\" class=\"dataframe\">\n",
       "  <thead>\n",
       "    <tr style=\"text-align: right;\">\n",
       "      <th></th>\n",
       "      <th>Rank</th>\n",
       "      <th>Team</th>\n",
       "      <th>Matches</th>\n",
       "      <th>Points</th>\n",
       "      <th>Rating</th>\n",
       "    </tr>\n",
       "  </thead>\n",
       "  <tbody>\n",
       "    <tr>\n",
       "      <th>0</th>\n",
       "      <td>1</td>\n",
       "      <td>New Zealand</td>\n",
       "      <td>17</td>\n",
       "      <td>2,054</td>\n",
       "      <td>121</td>\n",
       "    </tr>\n",
       "    <tr>\n",
       "      <th>1</th>\n",
       "      <td>2</td>\n",
       "      <td>England</td>\n",
       "      <td>32</td>\n",
       "      <td>3,793</td>\n",
       "      <td>119</td>\n",
       "    </tr>\n",
       "    <tr>\n",
       "      <th>2</th>\n",
       "      <td>3</td>\n",
       "      <td>Australia</td>\n",
       "      <td>28</td>\n",
       "      <td>3,244</td>\n",
       "      <td>116</td>\n",
       "    </tr>\n",
       "    <tr>\n",
       "      <th>3</th>\n",
       "      <td>4</td>\n",
       "      <td>India</td>\n",
       "      <td>32</td>\n",
       "      <td>3,624</td>\n",
       "      <td>113</td>\n",
       "    </tr>\n",
       "    <tr>\n",
       "      <th>4</th>\n",
       "      <td>5</td>\n",
       "      <td>South Africa</td>\n",
       "      <td>25</td>\n",
       "      <td>2,459</td>\n",
       "      <td>98</td>\n",
       "    </tr>\n",
       "    <tr>\n",
       "      <th>5</th>\n",
       "      <td>6</td>\n",
       "      <td>Pakistan</td>\n",
       "      <td>27</td>\n",
       "      <td>2,524</td>\n",
       "      <td>93</td>\n",
       "    </tr>\n",
       "    <tr>\n",
       "      <th>6</th>\n",
       "      <td>7</td>\n",
       "      <td>Bangladesh</td>\n",
       "      <td>30</td>\n",
       "      <td>2,740</td>\n",
       "      <td>91</td>\n",
       "    </tr>\n",
       "    <tr>\n",
       "      <th>7</th>\n",
       "      <td>8</td>\n",
       "      <td>West Indies</td>\n",
       "      <td>30</td>\n",
       "      <td>2,523</td>\n",
       "      <td>84</td>\n",
       "    </tr>\n",
       "    <tr>\n",
       "      <th>8</th>\n",
       "      <td>9</td>\n",
       "      <td>Sri Lanka</td>\n",
       "      <td>32</td>\n",
       "      <td>2,657</td>\n",
       "      <td>83</td>\n",
       "    </tr>\n",
       "    <tr>\n",
       "      <th>9</th>\n",
       "      <td>10</td>\n",
       "      <td>Afghanistan</td>\n",
       "      <td>17</td>\n",
       "      <td>1,054</td>\n",
       "      <td>62</td>\n",
       "    </tr>\n",
       "  </tbody>\n",
       "</table>\n",
       "</div>"
      ],
      "text/plain": [
       "  Rank          Team Matches Points Rating\n",
       "0    1   New Zealand      17  2,054    121\n",
       "1    2       England      32  3,793    119\n",
       "2    3     Australia      28  3,244    116\n",
       "3    4         India      32  3,624    113\n",
       "4    5  South Africa      25  2,459     98\n",
       "5    6      Pakistan      27  2,524     93\n",
       "6    7    Bangladesh      30  2,740     91\n",
       "7    8   West Indies      30  2,523     84\n",
       "8    9     Sri Lanka      32  2,657     83\n",
       "9   10   Afghanistan      17  1,054     62"
      ]
     },
     "execution_count": 231,
     "metadata": {},
     "output_type": "execute_result"
    }
   ],
   "source": [
    "Top_odi_teams=pd.DataFrame({'Rank':rank,\n",
    "             'Team':team,\n",
    "             'Matches':matches,\n",
    "             'Points':points,\n",
    "             'Rating':rating},index=None)\n",
    "Top_odi_teams.head(10)"
   ]
  },
  {
   "cell_type": "code",
   "execution_count": null,
   "id": "a34aff2e",
   "metadata": {},
   "outputs": [],
   "source": [
    "#Top 10 ODI Batsmen in men along with the records of their team and rating"
   ]
  },
  {
   "cell_type": "code",
   "execution_count": 414,
   "id": "63653dc7",
   "metadata": {},
   "outputs": [
    {
     "data": {
      "text/plain": [
       "<Response [200]>"
      ]
     },
     "execution_count": 414,
     "metadata": {},
     "output_type": "execute_result"
    }
   ],
   "source": [
    "page=requests.get(\"https://www.icc-cricket.com/rankings/mens/player-rankings/odi\")\n",
    "page"
   ]
  },
  {
   "cell_type": "code",
   "execution_count": 415,
   "id": "9b35f823",
   "metadata": {},
   "outputs": [],
   "source": [
    "soup=BeautifulSoup(page.content)"
   ]
  },
  {
   "cell_type": "code",
   "execution_count": 417,
   "id": "47493676",
   "metadata": {},
   "outputs": [
    {
     "data": {
      "text/plain": [
       "54"
      ]
     },
     "execution_count": 417,
     "metadata": {},
     "output_type": "execute_result"
    }
   ],
   "source": [
    "player=[]\n",
    "for i in soup.find_all('td',class_='table-body__cell name'):\n",
    "    player.append(i.text.replace('\\n',''))\n",
    "len(player)"
   ]
  },
  {
   "cell_type": "code",
   "execution_count": 418,
   "id": "41849e03",
   "metadata": {},
   "outputs": [
    {
     "data": {
      "text/plain": [
       "54"
      ]
     },
     "execution_count": 418,
     "metadata": {},
     "output_type": "execute_result"
    }
   ],
   "source": [
    "country=[]\n",
    "for i in soup.find_all('td',class_='table-body__cell nationality-logo'):\n",
    "    country.append(i.text.replace('\\n',''))\n",
    "len(country)"
   ]
  },
  {
   "cell_type": "code",
   "execution_count": 419,
   "id": "3d9ab145",
   "metadata": {},
   "outputs": [
    {
     "data": {
      "text/plain": [
       "54"
      ]
     },
     "execution_count": 419,
     "metadata": {},
     "output_type": "execute_result"
    }
   ],
   "source": [
    "rating=[]\n",
    "for i in soup.find_all('td',class_='table-body__cell u-text-right rating'):\n",
    "    rating.append(i.text.replace('\\n',''))\n",
    "len(rating)"
   ]
  },
  {
   "cell_type": "code",
   "execution_count": 420,
   "id": "1ecb9553",
   "metadata": {},
   "outputs": [
    {
     "data": {
      "text/plain": [
       "['Babar AzamPAK                            873',\n",
       " 'Trent BoultNZ                            737',\n",
       " 'Shakib Al HasanBAN                            416',\n",
       " 'Babar AzamPAK                            873',\n",
       " 'Trent BoultNZ                            737',\n",
       " 'Shakib Al HasanBAN                            416']"
      ]
     },
     "execution_count": 420,
     "metadata": {},
     "output_type": "execute_result"
    }
   ],
   "source": [
    "top=[]\n",
    "for i in soup.find_all('div',class_='rankings-block__banner--player-info'):\n",
    "    top.append(i.text.replace('\\n',''))\n",
    "top\n"
   ]
  },
  {
   "cell_type": "code",
   "execution_count": 421,
   "id": "ff1935df",
   "metadata": {},
   "outputs": [],
   "source": [
    "name=[]                                     \n",
    "for i in range(10):\n",
    "    name.append(top[0][i])\n",
    "name=''.join(name)\n",
    "list(name)\n",
    "con=[]\n",
    "for i in range(10,13):\n",
    "    con.append(top[0][i])\n",
    "con=''.join(con)\n",
    "list(con)\n",
    "rat=[]\n",
    "for i in range(41,44):\n",
    "    rat.append(top[0][i])\n",
    "rat=''.join(rat)\n",
    "player.insert(0,name)\n",
    "country.insert(0,con)\n",
    "rating.insert(0,rat)"
   ]
  },
  {
   "cell_type": "code",
   "execution_count": 422,
   "id": "e0b95513",
   "metadata": {},
   "outputs": [],
   "source": [
    "name=[]                                     \n",
    "for i in range(11):\n",
    "    name.append(top[1][i])\n",
    "name=''.join(name)\n",
    "list(name)\n",
    "con=[]\n",
    "for i in range(11,13):\n",
    "    con.append(top[1][i])\n",
    "con=''.join(con)\n",
    "list(con)\n",
    "rat=[]\n",
    "for i in range(41,44):\n",
    "    rat.append(top[1][i])\n",
    "rat=''.join(rat)\n",
    "player.insert(10,name)\n",
    "country.insert(10,con)\n",
    "rating.insert(10,rat)\n",
    "    "
   ]
  },
  {
   "cell_type": "code",
   "execution_count": 423,
   "id": "29cf4c3e",
   "metadata": {},
   "outputs": [],
   "source": [
    "players=pd.DataFrame({'Player':player,\n",
    "             'Country':country,\n",
    "             'Rating':rating,})\n",
    "Top_odi_batsman=players.iloc[0:10,:]\n",
    "top_odi_bowler=players.iloc[10:20,:]\n"
   ]
  },
  {
   "cell_type": "code",
   "execution_count": 424,
   "id": "3a1c54bd",
   "metadata": {},
   "outputs": [
    {
     "data": {
      "text/html": [
       "<div>\n",
       "<style scoped>\n",
       "    .dataframe tbody tr th:only-of-type {\n",
       "        vertical-align: middle;\n",
       "    }\n",
       "\n",
       "    .dataframe tbody tr th {\n",
       "        vertical-align: top;\n",
       "    }\n",
       "\n",
       "    .dataframe thead th {\n",
       "        text-align: right;\n",
       "    }\n",
       "</style>\n",
       "<table border=\"1\" class=\"dataframe\">\n",
       "  <thead>\n",
       "    <tr style=\"text-align: right;\">\n",
       "      <th></th>\n",
       "      <th>Player</th>\n",
       "      <th>Country</th>\n",
       "      <th>Rating</th>\n",
       "    </tr>\n",
       "  </thead>\n",
       "  <tbody>\n",
       "    <tr>\n",
       "      <th>0</th>\n",
       "      <td>Babar Azam</td>\n",
       "      <td>PAK</td>\n",
       "      <td>873</td>\n",
       "    </tr>\n",
       "    <tr>\n",
       "      <th>1</th>\n",
       "      <td>Virat Kohli</td>\n",
       "      <td>IND</td>\n",
       "      <td>844</td>\n",
       "    </tr>\n",
       "    <tr>\n",
       "      <th>2</th>\n",
       "      <td>Rohit Sharma</td>\n",
       "      <td>IND</td>\n",
       "      <td>813</td>\n",
       "    </tr>\n",
       "    <tr>\n",
       "      <th>3</th>\n",
       "      <td>Ross Taylor</td>\n",
       "      <td>NZ</td>\n",
       "      <td>801</td>\n",
       "    </tr>\n",
       "    <tr>\n",
       "      <th>4</th>\n",
       "      <td>Aaron Finch</td>\n",
       "      <td>AUS</td>\n",
       "      <td>779</td>\n",
       "    </tr>\n",
       "    <tr>\n",
       "      <th>5</th>\n",
       "      <td>Jonny Bairstow</td>\n",
       "      <td>ENG</td>\n",
       "      <td>775</td>\n",
       "    </tr>\n",
       "    <tr>\n",
       "      <th>6</th>\n",
       "      <td>David Warner</td>\n",
       "      <td>AUS</td>\n",
       "      <td>762</td>\n",
       "    </tr>\n",
       "    <tr>\n",
       "      <th>7</th>\n",
       "      <td>Shai Hope</td>\n",
       "      <td>WI</td>\n",
       "      <td>758</td>\n",
       "    </tr>\n",
       "    <tr>\n",
       "      <th>8</th>\n",
       "      <td>Kane Williamson</td>\n",
       "      <td>NZ</td>\n",
       "      <td>754</td>\n",
       "    </tr>\n",
       "    <tr>\n",
       "      <th>9</th>\n",
       "      <td>Quinton de Kock</td>\n",
       "      <td>SA</td>\n",
       "      <td>747</td>\n",
       "    </tr>\n",
       "  </tbody>\n",
       "</table>\n",
       "</div>"
      ],
      "text/plain": [
       "            Player Country Rating\n",
       "0       Babar Azam     PAK    873\n",
       "1      Virat Kohli     IND    844\n",
       "2     Rohit Sharma     IND    813\n",
       "3      Ross Taylor      NZ    801\n",
       "4      Aaron Finch     AUS    779\n",
       "5   Jonny Bairstow     ENG    775\n",
       "6     David Warner     AUS    762\n",
       "7        Shai Hope      WI    758\n",
       "8  Kane Williamson      NZ    754\n",
       "9  Quinton de Kock      SA    747"
      ]
     },
     "execution_count": 424,
     "metadata": {},
     "output_type": "execute_result"
    }
   ],
   "source": [
    "#top10_odi_batsman\n",
    "Top_odi_batsman"
   ]
  },
  {
   "cell_type": "code",
   "execution_count": 386,
   "id": "b8bb771f",
   "metadata": {},
   "outputs": [
    {
     "data": {
      "text/html": [
       "<div>\n",
       "<style scoped>\n",
       "    .dataframe tbody tr th:only-of-type {\n",
       "        vertical-align: middle;\n",
       "    }\n",
       "\n",
       "    .dataframe tbody tr th {\n",
       "        vertical-align: top;\n",
       "    }\n",
       "\n",
       "    .dataframe thead th {\n",
       "        text-align: right;\n",
       "    }\n",
       "</style>\n",
       "<table border=\"1\" class=\"dataframe\">\n",
       "  <thead>\n",
       "    <tr style=\"text-align: right;\">\n",
       "      <th></th>\n",
       "      <th>Player</th>\n",
       "      <th>Country</th>\n",
       "      <th>Rating</th>\n",
       "    </tr>\n",
       "  </thead>\n",
       "  <tbody>\n",
       "    <tr>\n",
       "      <th>10</th>\n",
       "      <td>Trent Boult</td>\n",
       "      <td>NZ</td>\n",
       "      <td>737</td>\n",
       "    </tr>\n",
       "    <tr>\n",
       "      <th>11</th>\n",
       "      <td>Josh Hazlewood</td>\n",
       "      <td>AUS</td>\n",
       "      <td>709</td>\n",
       "    </tr>\n",
       "    <tr>\n",
       "      <th>12</th>\n",
       "      <td>Mujeeb Ur Rahman</td>\n",
       "      <td>AFG</td>\n",
       "      <td>708</td>\n",
       "    </tr>\n",
       "    <tr>\n",
       "      <th>13</th>\n",
       "      <td>Chris Woakes</td>\n",
       "      <td>ENG</td>\n",
       "      <td>700</td>\n",
       "    </tr>\n",
       "    <tr>\n",
       "      <th>14</th>\n",
       "      <td>Mehedi Hasan</td>\n",
       "      <td>BAN</td>\n",
       "      <td>692</td>\n",
       "    </tr>\n",
       "    <tr>\n",
       "      <th>15</th>\n",
       "      <td>Matt Henry</td>\n",
       "      <td>NZ</td>\n",
       "      <td>691</td>\n",
       "    </tr>\n",
       "    <tr>\n",
       "      <th>16</th>\n",
       "      <td>Jasprit Bumrah</td>\n",
       "      <td>IND</td>\n",
       "      <td>679</td>\n",
       "    </tr>\n",
       "    <tr>\n",
       "      <th>17</th>\n",
       "      <td>Mitchell Starc</td>\n",
       "      <td>AUS</td>\n",
       "      <td>652</td>\n",
       "    </tr>\n",
       "    <tr>\n",
       "      <th>18</th>\n",
       "      <td>Shakib Al Hasan</td>\n",
       "      <td>BAN</td>\n",
       "      <td>650</td>\n",
       "    </tr>\n",
       "    <tr>\n",
       "      <th>19</th>\n",
       "      <td>Kagiso Rabada</td>\n",
       "      <td>SA</td>\n",
       "      <td>646</td>\n",
       "    </tr>\n",
       "  </tbody>\n",
       "</table>\n",
       "</div>"
      ],
      "text/plain": [
       "              Player Country Rating\n",
       "10       Trent Boult      NZ    737\n",
       "11    Josh Hazlewood     AUS    709\n",
       "12  Mujeeb Ur Rahman     AFG    708\n",
       "13      Chris Woakes     ENG    700\n",
       "14      Mehedi Hasan     BAN    692\n",
       "15        Matt Henry      NZ    691\n",
       "16    Jasprit Bumrah     IND    679\n",
       "17    Mitchell Starc     AUS    652\n",
       "18   Shakib Al Hasan     BAN    650\n",
       "19     Kagiso Rabada      SA    646"
      ]
     },
     "execution_count": 386,
     "metadata": {},
     "output_type": "execute_result"
    }
   ],
   "source": [
    "#top10_odi_bowlers\n",
    "top_odi_bowler"
   ]
  },
  {
   "cell_type": "markdown",
   "id": "ba9a2710",
   "metadata": {},
   "source": [
    "## Write a python program to scrape cricket rankings from icc-cricket.com. You have to scrape:\n",
    "a) Top 10 ODI teams in women’s cricket along with the records for matches, points and rating.\n",
    "b) Top 10 women’s ODI players along with the records of their team and rating.\n",
    "c) Top 10 women’s ODI all-rounder along with the records of their team and rating"
   ]
  },
  {
   "cell_type": "code",
   "execution_count": 387,
   "id": "1a56c9e1",
   "metadata": {},
   "outputs": [
    {
     "data": {
      "text/plain": [
       "<Response [200]>"
      ]
     },
     "execution_count": 387,
     "metadata": {},
     "output_type": "execute_result"
    }
   ],
   "source": [
    "page=requests.get(\"https://www.icc-cricket.com/rankings/womens/team-rankings/odi\")\n",
    "page"
   ]
  },
  {
   "cell_type": "code",
   "execution_count": 388,
   "id": "6fad0990",
   "metadata": {},
   "outputs": [],
   "source": [
    "soup=BeautifulSoup(page.content)"
   ]
  },
  {
   "cell_type": "code",
   "execution_count": 391,
   "id": "45c3aa25",
   "metadata": {},
   "outputs": [
    {
     "data": {
      "text/plain": [
       "['1', 'Australia', '17', '2,746', '                            162']"
      ]
     },
     "execution_count": 391,
     "metadata": {},
     "output_type": "execute_result"
    }
   ],
   "source": [
    "top=soup.find('tr',class_='rankings-block__banner')\n",
    "import pandas as pd\n",
    "top_team=top.text.split('\\n')\n",
    "first=[]\n",
    "for i in [top_team[1],top_team[4],top_team[7],top_team[8],top_team[10]]:\n",
    "    first.append(i)"
   ]
  },
  {
   "cell_type": "code",
   "execution_count": 392,
   "id": "29d190a3",
   "metadata": {},
   "outputs": [
    {
     "data": {
      "text/plain": [
       "11"
      ]
     },
     "execution_count": 392,
     "metadata": {},
     "output_type": "execute_result"
    }
   ],
   "source": [
    "rank=[]\n",
    "for i in soup.find_all('tr',class_='table-body'):\n",
    "    rank.append(i.text.split('\\n')[1])\n",
    "\n",
    "rank.insert(0,first[0])\n",
    "len(rank)"
   ]
  },
  {
   "cell_type": "code",
   "execution_count": 393,
   "id": "1920da11",
   "metadata": {},
   "outputs": [
    {
     "data": {
      "text/plain": [
       "11"
      ]
     },
     "execution_count": 393,
     "metadata": {},
     "output_type": "execute_result"
    }
   ],
   "source": [
    "team=[]\n",
    "for i in soup.find_all('tr',class_='table-body'):\n",
    "    team.append(i.text.split('\\n')[4])\n",
    "team.insert(0,first[1])\n",
    "len(team)"
   ]
  },
  {
   "cell_type": "code",
   "execution_count": 394,
   "id": "c9666519",
   "metadata": {},
   "outputs": [
    {
     "data": {
      "text/plain": [
       "11"
      ]
     },
     "execution_count": 394,
     "metadata": {},
     "output_type": "execute_result"
    }
   ],
   "source": [
    "matches=[]\n",
    "for i in soup.find_all('tr',class_='table-body'):\n",
    "    matches.append(i.text.split('\\n')[7])\n",
    "matches.insert(0,first[2])\n",
    "len(matches)"
   ]
  },
  {
   "cell_type": "code",
   "execution_count": 395,
   "id": "c56f6100",
   "metadata": {},
   "outputs": [
    {
     "data": {
      "text/plain": [
       "11"
      ]
     },
     "execution_count": 395,
     "metadata": {},
     "output_type": "execute_result"
    }
   ],
   "source": [
    "points=[]\n",
    "for i in soup.find_all('tr',class_='table-body'):\n",
    "    points.append(i.text.split('\\n')[8])\n",
    "points.insert(0,first[3])\n",
    "len(points)"
   ]
  },
  {
   "cell_type": "code",
   "execution_count": 396,
   "id": "23a2c58e",
   "metadata": {},
   "outputs": [
    {
     "data": {
      "text/plain": [
       "11"
      ]
     },
     "execution_count": 396,
     "metadata": {},
     "output_type": "execute_result"
    }
   ],
   "source": [
    "rating=[]\n",
    "for i in soup.find_all('tr',class_='table-body'):\n",
    "    rating.append(i.text.split('\\n')[9])\n",
    "rating.insert(0,first[4].replace('                            ' ,''))\n",
    "len(rating)"
   ]
  },
  {
   "cell_type": "code",
   "execution_count": 397,
   "id": "a2dcfa41",
   "metadata": {},
   "outputs": [
    {
     "data": {
      "text/html": [
       "<div>\n",
       "<style scoped>\n",
       "    .dataframe tbody tr th:only-of-type {\n",
       "        vertical-align: middle;\n",
       "    }\n",
       "\n",
       "    .dataframe tbody tr th {\n",
       "        vertical-align: top;\n",
       "    }\n",
       "\n",
       "    .dataframe thead th {\n",
       "        text-align: right;\n",
       "    }\n",
       "</style>\n",
       "<table border=\"1\" class=\"dataframe\">\n",
       "  <thead>\n",
       "    <tr style=\"text-align: right;\">\n",
       "      <th></th>\n",
       "      <th>Rank</th>\n",
       "      <th>Team</th>\n",
       "      <th>Matches</th>\n",
       "      <th>Points</th>\n",
       "      <th>Rating</th>\n",
       "    </tr>\n",
       "  </thead>\n",
       "  <tbody>\n",
       "    <tr>\n",
       "      <th>0</th>\n",
       "      <td>1</td>\n",
       "      <td>Australia</td>\n",
       "      <td>17</td>\n",
       "      <td>2,746</td>\n",
       "      <td>162</td>\n",
       "    </tr>\n",
       "    <tr>\n",
       "      <th>1</th>\n",
       "      <td>2</td>\n",
       "      <td>South Africa</td>\n",
       "      <td>19</td>\n",
       "      <td>2,307</td>\n",
       "      <td>121</td>\n",
       "    </tr>\n",
       "    <tr>\n",
       "      <th>2</th>\n",
       "      <td>3</td>\n",
       "      <td>England</td>\n",
       "      <td>18</td>\n",
       "      <td>2,148</td>\n",
       "      <td>119</td>\n",
       "    </tr>\n",
       "    <tr>\n",
       "      <th>3</th>\n",
       "      <td>4</td>\n",
       "      <td>India</td>\n",
       "      <td>17</td>\n",
       "      <td>1,899</td>\n",
       "      <td>112</td>\n",
       "    </tr>\n",
       "    <tr>\n",
       "      <th>4</th>\n",
       "      <td>5</td>\n",
       "      <td>Bangladesh</td>\n",
       "      <td>5</td>\n",
       "      <td>475</td>\n",
       "      <td>95</td>\n",
       "    </tr>\n",
       "    <tr>\n",
       "      <th>5</th>\n",
       "      <td>6</td>\n",
       "      <td>New Zealand</td>\n",
       "      <td>19</td>\n",
       "      <td>1,668</td>\n",
       "      <td>88</td>\n",
       "    </tr>\n",
       "    <tr>\n",
       "      <th>6</th>\n",
       "      <td>7</td>\n",
       "      <td>West Indies</td>\n",
       "      <td>19</td>\n",
       "      <td>1,658</td>\n",
       "      <td>87</td>\n",
       "    </tr>\n",
       "    <tr>\n",
       "      <th>7</th>\n",
       "      <td>8</td>\n",
       "      <td>Pakistan</td>\n",
       "      <td>18</td>\n",
       "      <td>1,226</td>\n",
       "      <td>68</td>\n",
       "    </tr>\n",
       "    <tr>\n",
       "      <th>8</th>\n",
       "      <td>9</td>\n",
       "      <td>Ireland</td>\n",
       "      <td>5</td>\n",
       "      <td>240</td>\n",
       "      <td>48</td>\n",
       "    </tr>\n",
       "    <tr>\n",
       "      <th>9</th>\n",
       "      <td>10</td>\n",
       "      <td>Sri Lanka</td>\n",
       "      <td>5</td>\n",
       "      <td>233</td>\n",
       "      <td>47</td>\n",
       "    </tr>\n",
       "  </tbody>\n",
       "</table>\n",
       "</div>"
      ],
      "text/plain": [
       "  Rank          Team Matches Points Rating\n",
       "0    1     Australia      17  2,746    162\n",
       "1    2  South Africa      19  2,307    121\n",
       "2    3       England      18  2,148    119\n",
       "3    4         India      17  1,899    112\n",
       "4    5    Bangladesh       5    475     95\n",
       "5    6   New Zealand      19  1,668     88\n",
       "6    7   West Indies      19  1,658     87\n",
       "7    8      Pakistan      18  1,226     68\n",
       "8    9       Ireland       5    240     48\n",
       "9   10     Sri Lanka       5    233     47"
      ]
     },
     "execution_count": 397,
     "metadata": {},
     "output_type": "execute_result"
    }
   ],
   "source": [
    "Top_odi_teams=pd.DataFrame({'Rank':rank,\n",
    "             'Team':team,\n",
    "             'Matches':matches,\n",
    "             'Points':points,\n",
    "             'Rating':rating},index=None)\n",
    "Top_odi_teams.head(10)"
   ]
  },
  {
   "cell_type": "code",
   "execution_count": 446,
   "id": "cdf4628a",
   "metadata": {},
   "outputs": [
    {
     "data": {
      "text/plain": [
       "<Response [200]>"
      ]
     },
     "execution_count": 446,
     "metadata": {},
     "output_type": "execute_result"
    }
   ],
   "source": [
    "page=requests.get(\"https://www.icc-cricket.com/rankings/womens/player-rankings/odi\")\n",
    "page"
   ]
  },
  {
   "cell_type": "code",
   "execution_count": 447,
   "id": "de1dc3e9",
   "metadata": {},
   "outputs": [],
   "source": [
    "soup=BeautifulSoup(page.content)"
   ]
  },
  {
   "cell_type": "code",
   "execution_count": 448,
   "id": "aa71e7ff",
   "metadata": {},
   "outputs": [
    {
     "data": {
      "text/plain": [
       "27"
      ]
     },
     "execution_count": 448,
     "metadata": {},
     "output_type": "execute_result"
    }
   ],
   "source": [
    "player=[]\n",
    "for i in soup.find_all('td',class_='table-body__cell name'):\n",
    "    player.append(i.text.replace('\\n',''))\n",
    "len(player)"
   ]
  },
  {
   "cell_type": "code",
   "execution_count": 449,
   "id": "ef5995da",
   "metadata": {},
   "outputs": [
    {
     "data": {
      "text/plain": [
       "27"
      ]
     },
     "execution_count": 449,
     "metadata": {},
     "output_type": "execute_result"
    }
   ],
   "source": [
    "country=[]\n",
    "for i in soup.find_all('td',class_='table-body__cell nationality-logo'):\n",
    "    country.append(i.text.replace('\\n',''))\n",
    "len(country)"
   ]
  },
  {
   "cell_type": "code",
   "execution_count": 450,
   "id": "4dcfa2ad",
   "metadata": {},
   "outputs": [
    {
     "data": {
      "text/plain": [
       "27"
      ]
     },
     "execution_count": 450,
     "metadata": {},
     "output_type": "execute_result"
    }
   ],
   "source": [
    "rating=[]\n",
    "for i in soup.find_all('td',class_='table-body__cell u-text-right rating'):\n",
    "    rating.append(i.text.replace('\\n',''))\n",
    "len(rating)"
   ]
  },
  {
   "cell_type": "code",
   "execution_count": 451,
   "id": "b3681f7f",
   "metadata": {},
   "outputs": [
    {
     "data": {
      "text/plain": [
       "['Lizelle LeeSA                            761',\n",
       " 'Jess JonassenAUS                            760',\n",
       " 'Marizanne KappSA                            384']"
      ]
     },
     "execution_count": 451,
     "metadata": {},
     "output_type": "execute_result"
    }
   ],
   "source": [
    "top=[]\n",
    "for i in soup.find_all('div',class_='rankings-block__banner--player-info'):\n",
    "    top.append(i.text.replace('\\n',''))\n",
    "top\n"
   ]
  },
  {
   "cell_type": "code",
   "execution_count": 452,
   "id": "3c875f7d",
   "metadata": {},
   "outputs": [],
   "source": [
    "name=[]                                     \n",
    "for i in range(11):\n",
    "    name.append(top[0][i])\n",
    "name=''.join(name)\n",
    "list(name)\n",
    "con=[]\n",
    "for i in range(11,13):\n",
    "    con.append(top[0][i])\n",
    "con=''.join(con)\n",
    "list(con)\n",
    "rat=[]\n",
    "for i in range(41,44):\n",
    "    rat.append(top[0][i])\n",
    "rat=''.join(rat)\n",
    "player.insert(0,name)\n",
    "country.insert(0,con)\n",
    "rating.insert(0,rat)"
   ]
  },
  {
   "cell_type": "code",
   "execution_count": 453,
   "id": "664a3f8c",
   "metadata": {},
   "outputs": [],
   "source": [
    "name=[]                                     \n",
    "for i in range(13):\n",
    "    name.append(top[1][i])\n",
    "name=''.join(name)\n",
    "list(name)\n",
    "con=[]\n",
    "for i in range(13,16):\n",
    "    con.append(top[1][i])\n",
    "con=''.join(con)\n",
    "list(con)\n",
    "rat=[]\n",
    "for i in range(44,47):\n",
    "    rat.append(top[1][i])\n",
    "rat=''.join(rat)\n",
    "player.insert(10,name)\n",
    "country.insert(10,con)\n",
    "rating.insert(10,rat)"
   ]
  },
  {
   "cell_type": "code",
   "execution_count": 454,
   "id": "7de15881",
   "metadata": {},
   "outputs": [],
   "source": [
    "name=[]                                     \n",
    "for i in range(14):\n",
    "    name.append(top[2][i])\n",
    "name=''.join(name)\n",
    "list(name)\n",
    "con=[]\n",
    "for i in range(14,16):\n",
    "    con.append(top[2][i])\n",
    "con=''.join(con)\n",
    "list(con)\n",
    "rat=[]\n",
    "for i in range(44,47):\n",
    "    rat.append(top[2][i])\n",
    "rat=''.join(rat)\n",
    "player.insert(20,name)\n",
    "country.insert(20,con)\n",
    "rating.insert(20,rat)"
   ]
  },
  {
   "cell_type": "code",
   "execution_count": 455,
   "id": "b2d18730",
   "metadata": {},
   "outputs": [
    {
     "name": "stdout",
     "output_type": "stream",
     "text": [
      "30 30 30\n"
     ]
    }
   ],
   "source": [
    "print(len(player),len(country),len(rating))"
   ]
  },
  {
   "cell_type": "code",
   "execution_count": 456,
   "id": "a2eb66ea",
   "metadata": {},
   "outputs": [],
   "source": [
    "players=pd.DataFrame({'Player':player,\n",
    "             'Country':country,\n",
    "             'Rating':rating,})\n",
    "Top_odi_batsman=players.iloc[0:10,:]\n",
    "top_odi_all=players.iloc[20:30,:]"
   ]
  },
  {
   "cell_type": "code",
   "execution_count": 457,
   "id": "e2ad298a",
   "metadata": {},
   "outputs": [
    {
     "data": {
      "text/html": [
       "<div>\n",
       "<style scoped>\n",
       "    .dataframe tbody tr th:only-of-type {\n",
       "        vertical-align: middle;\n",
       "    }\n",
       "\n",
       "    .dataframe tbody tr th {\n",
       "        vertical-align: top;\n",
       "    }\n",
       "\n",
       "    .dataframe thead th {\n",
       "        text-align: right;\n",
       "    }\n",
       "</style>\n",
       "<table border=\"1\" class=\"dataframe\">\n",
       "  <thead>\n",
       "    <tr style=\"text-align: right;\">\n",
       "      <th></th>\n",
       "      <th>Player</th>\n",
       "      <th>Country</th>\n",
       "      <th>Rating</th>\n",
       "    </tr>\n",
       "  </thead>\n",
       "  <tbody>\n",
       "    <tr>\n",
       "      <th>0</th>\n",
       "      <td>Lizelle Lee</td>\n",
       "      <td>SA</td>\n",
       "      <td>761</td>\n",
       "    </tr>\n",
       "    <tr>\n",
       "      <th>1</th>\n",
       "      <td>Alyssa Healy</td>\n",
       "      <td>AUS</td>\n",
       "      <td>750</td>\n",
       "    </tr>\n",
       "    <tr>\n",
       "      <th>2</th>\n",
       "      <td>Mithali Raj</td>\n",
       "      <td>IND</td>\n",
       "      <td>738</td>\n",
       "    </tr>\n",
       "    <tr>\n",
       "      <th>3</th>\n",
       "      <td>Tammy Beaumont</td>\n",
       "      <td>ENG</td>\n",
       "      <td>728</td>\n",
       "    </tr>\n",
       "    <tr>\n",
       "      <th>4</th>\n",
       "      <td>Amy Satterthwaite</td>\n",
       "      <td>NZ</td>\n",
       "      <td>717</td>\n",
       "    </tr>\n",
       "    <tr>\n",
       "      <th>5</th>\n",
       "      <td>Smriti Mandhana</td>\n",
       "      <td>IND</td>\n",
       "      <td>710</td>\n",
       "    </tr>\n",
       "    <tr>\n",
       "      <th>6</th>\n",
       "      <td>Meg Lanning</td>\n",
       "      <td>AUS</td>\n",
       "      <td>699</td>\n",
       "    </tr>\n",
       "    <tr>\n",
       "      <th>7</th>\n",
       "      <td>Beth Mooney</td>\n",
       "      <td>AUS</td>\n",
       "      <td>690</td>\n",
       "    </tr>\n",
       "    <tr>\n",
       "      <th>8</th>\n",
       "      <td>Heather Knight</td>\n",
       "      <td>ENG</td>\n",
       "      <td>674</td>\n",
       "    </tr>\n",
       "    <tr>\n",
       "      <th>9</th>\n",
       "      <td>Laura Wolvaardt</td>\n",
       "      <td>SA</td>\n",
       "      <td>672</td>\n",
       "    </tr>\n",
       "  </tbody>\n",
       "</table>\n",
       "</div>"
      ],
      "text/plain": [
       "              Player Country Rating\n",
       "0        Lizelle Lee      SA    761\n",
       "1       Alyssa Healy     AUS    750\n",
       "2        Mithali Raj     IND    738\n",
       "3     Tammy Beaumont     ENG    728\n",
       "4  Amy Satterthwaite      NZ    717\n",
       "5    Smriti Mandhana     IND    710\n",
       "6        Meg Lanning     AUS    699\n",
       "7        Beth Mooney     AUS    690\n",
       "8     Heather Knight     ENG    674\n",
       "9    Laura Wolvaardt      SA    672"
      ]
     },
     "execution_count": 457,
     "metadata": {},
     "output_type": "execute_result"
    }
   ],
   "source": [
    "Top_odi_batsman #top 10 women batsmen_odi"
   ]
  },
  {
   "cell_type": "code",
   "execution_count": 459,
   "id": "19ae848f",
   "metadata": {},
   "outputs": [
    {
     "data": {
      "text/html": [
       "<div>\n",
       "<style scoped>\n",
       "    .dataframe tbody tr th:only-of-type {\n",
       "        vertical-align: middle;\n",
       "    }\n",
       "\n",
       "    .dataframe tbody tr th {\n",
       "        vertical-align: top;\n",
       "    }\n",
       "\n",
       "    .dataframe thead th {\n",
       "        text-align: right;\n",
       "    }\n",
       "</style>\n",
       "<table border=\"1\" class=\"dataframe\">\n",
       "  <thead>\n",
       "    <tr style=\"text-align: right;\">\n",
       "      <th></th>\n",
       "      <th>Player</th>\n",
       "      <th>Country</th>\n",
       "      <th>Rating</th>\n",
       "    </tr>\n",
       "  </thead>\n",
       "  <tbody>\n",
       "    <tr>\n",
       "      <th>20</th>\n",
       "      <td>Marizanne Kapp</td>\n",
       "      <td>SA</td>\n",
       "      <td>384</td>\n",
       "    </tr>\n",
       "    <tr>\n",
       "      <th>21</th>\n",
       "      <td>Natalie Sciver</td>\n",
       "      <td>ENG</td>\n",
       "      <td>372</td>\n",
       "    </tr>\n",
       "    <tr>\n",
       "      <th>22</th>\n",
       "      <td>Ellyse Perry</td>\n",
       "      <td>AUS</td>\n",
       "      <td>365</td>\n",
       "    </tr>\n",
       "    <tr>\n",
       "      <th>23</th>\n",
       "      <td>Stafanie Taylor</td>\n",
       "      <td>WI</td>\n",
       "      <td>314</td>\n",
       "    </tr>\n",
       "    <tr>\n",
       "      <th>24</th>\n",
       "      <td>Deepti Sharma</td>\n",
       "      <td>IND</td>\n",
       "      <td>299</td>\n",
       "    </tr>\n",
       "    <tr>\n",
       "      <th>25</th>\n",
       "      <td>Ashleigh Gardner</td>\n",
       "      <td>AUS</td>\n",
       "      <td>275</td>\n",
       "    </tr>\n",
       "    <tr>\n",
       "      <th>26</th>\n",
       "      <td>Dane van Niekerk</td>\n",
       "      <td>SA</td>\n",
       "      <td>274</td>\n",
       "    </tr>\n",
       "    <tr>\n",
       "      <th>27</th>\n",
       "      <td>Jess Jonassen</td>\n",
       "      <td>AUS</td>\n",
       "      <td>272</td>\n",
       "    </tr>\n",
       "    <tr>\n",
       "      <th>28</th>\n",
       "      <td>Katherine Brunt</td>\n",
       "      <td>ENG</td>\n",
       "      <td>272</td>\n",
       "    </tr>\n",
       "    <tr>\n",
       "      <th>29</th>\n",
       "      <td>Hayley Matthews</td>\n",
       "      <td>WI</td>\n",
       "      <td>271</td>\n",
       "    </tr>\n",
       "  </tbody>\n",
       "</table>\n",
       "</div>"
      ],
      "text/plain": [
       "              Player Country Rating\n",
       "20    Marizanne Kapp      SA    384\n",
       "21    Natalie Sciver     ENG    372\n",
       "22      Ellyse Perry     AUS    365\n",
       "23   Stafanie Taylor      WI    314\n",
       "24     Deepti Sharma     IND    299\n",
       "25  Ashleigh Gardner     AUS    275\n",
       "26  Dane van Niekerk      SA    274\n",
       "27     Jess Jonassen     AUS    272\n",
       "28   Katherine Brunt     ENG    272\n",
       "29   Hayley Matthews      WI    271"
      ]
     },
     "execution_count": 459,
     "metadata": {},
     "output_type": "execute_result"
    }
   ],
   "source": [
    "#top 10 women all rounder\n",
    "top_odi_all"
   ]
  },
  {
   "cell_type": "markdown",
   "id": "c0115d65",
   "metadata": {},
   "source": [
    "## Write a python program to scrape details of all the posts from coreyms.com. Scrape the heading, date, contentand the code for the video from the link for the youtube video from the post"
   ]
  },
  {
   "cell_type": "code",
   "execution_count": 460,
   "id": "ca4e81f9",
   "metadata": {},
   "outputs": [
    {
     "data": {
      "text/plain": [
       "<Response [200]>"
      ]
     },
     "execution_count": 460,
     "metadata": {},
     "output_type": "execute_result"
    }
   ],
   "source": [
    "page=requests.get(\"https://coreyms.com/\")\n",
    "page"
   ]
  },
  {
   "cell_type": "code",
   "execution_count": 461,
   "id": "ecd321bf",
   "metadata": {},
   "outputs": [],
   "source": [
    "soup=BeautifulSoup(page.content)"
   ]
  },
  {
   "cell_type": "code",
   "execution_count": 468,
   "id": "38205614",
   "metadata": {},
   "outputs": [
    {
     "data": {
      "text/plain": [
       "10"
      ]
     },
     "execution_count": 468,
     "metadata": {},
     "output_type": "execute_result"
    }
   ],
   "source": [
    "heading=[]\n",
    "for i in soup.find_all('h2',class_='entry-title'):\n",
    "    heading.append(i.text)\n",
    "len(heading)"
   ]
  },
  {
   "cell_type": "code",
   "execution_count": 503,
   "id": "c99e503e",
   "metadata": {},
   "outputs": [],
   "source": [
    "date=[]\n",
    "for i in soup.find_all('p',class_='entry-meta'):\n",
    "    date.append(i.text)"
   ]
  },
  {
   "cell_type": "code",
   "execution_count": 502,
   "id": "0b1f69d4",
   "metadata": {},
   "outputs": [
    {
     "data": {
      "text/plain": [
       "10"
      ]
     },
     "execution_count": 502,
     "metadata": {},
     "output_type": "execute_result"
    }
   ],
   "source": [
    "dat=[]\n",
    "for i in range(0,20,2):\n",
    "    dat.append(date[i])\n",
    "len(dat)    "
   ]
  },
  {
   "cell_type": "code",
   "execution_count": 485,
   "id": "1536545a",
   "metadata": {},
   "outputs": [
    {
     "data": {
      "text/plain": [
       "10"
      ]
     },
     "execution_count": 485,
     "metadata": {},
     "output_type": "execute_result"
    }
   ],
   "source": [
    "link=[]\n",
    "for i in soup.find_all('div',class_='entry-content'):\n",
    "    link.append(i.text.replace('\\n',''))\n",
    "len(link)"
   ]
  },
  {
   "cell_type": "code",
   "execution_count": 505,
   "id": "0a8fbff6",
   "metadata": {},
   "outputs": [
    {
     "data": {
      "text/html": [
       "<div>\n",
       "<style scoped>\n",
       "    .dataframe tbody tr th:only-of-type {\n",
       "        vertical-align: middle;\n",
       "    }\n",
       "\n",
       "    .dataframe tbody tr th {\n",
       "        vertical-align: top;\n",
       "    }\n",
       "\n",
       "    .dataframe thead th {\n",
       "        text-align: right;\n",
       "    }\n",
       "</style>\n",
       "<table border=\"1\" class=\"dataframe\">\n",
       "  <thead>\n",
       "    <tr style=\"text-align: right;\">\n",
       "      <th></th>\n",
       "      <th>Heading</th>\n",
       "      <th>Date</th>\n",
       "      <th>Link</th>\n",
       "    </tr>\n",
       "  </thead>\n",
       "  <tbody>\n",
       "    <tr>\n",
       "      <th>0</th>\n",
       "      <td>Python Tutorial: Zip Files – Creating and Extr...</td>\n",
       "      <td>November 19, 2019 by Corey Schafer Leave a Com...</td>\n",
       "      <td>In this video, we will be learning how to crea...</td>\n",
       "    </tr>\n",
       "    <tr>\n",
       "      <th>1</th>\n",
       "      <td>Python Data Science Tutorial: Analyzing the 20...</td>\n",
       "      <td>October 17, 2019 by Corey Schafer Leave a Comm...</td>\n",
       "      <td>In this Python Programming video, we will be l...</td>\n",
       "    </tr>\n",
       "    <tr>\n",
       "      <th>2</th>\n",
       "      <td>Python Multiprocessing Tutorial: Run Code in P...</td>\n",
       "      <td>September 21, 2019 by Corey Schafer Leave a Co...</td>\n",
       "      <td>In this Python Programming video, we will be l...</td>\n",
       "    </tr>\n",
       "    <tr>\n",
       "      <th>3</th>\n",
       "      <td>Python Threading Tutorial: Run Code Concurrent...</td>\n",
       "      <td>September 12, 2019 by Corey Schafer Leave a Co...</td>\n",
       "      <td>In this Python Programming video, we will be l...</td>\n",
       "    </tr>\n",
       "    <tr>\n",
       "      <th>4</th>\n",
       "      <td>Update (2019-09-03)</td>\n",
       "      <td>September 3, 2019 by Corey Schafer Leave a Com...</td>\n",
       "      <td>Hey everyone. I wanted to give you an update o...</td>\n",
       "    </tr>\n",
       "    <tr>\n",
       "      <th>5</th>\n",
       "      <td>Python Quick Tip: The Difference Between “==” ...</td>\n",
       "      <td>August 6, 2019 by Corey Schafer Leave a Comment</td>\n",
       "      <td>In this Python Programming Tutorial, we will b...</td>\n",
       "    </tr>\n",
       "    <tr>\n",
       "      <th>6</th>\n",
       "      <td>Python Tutorial: Calling External Commands Usi...</td>\n",
       "      <td>July 24, 2019 by Corey Schafer Leave a Comment</td>\n",
       "      <td>In this Python Programming Tutorial, we will b...</td>\n",
       "    </tr>\n",
       "    <tr>\n",
       "      <th>7</th>\n",
       "      <td>Visual Studio Code (Windows) – Setting up a Py...</td>\n",
       "      <td>May 1, 2019 by Corey Schafer Leave a Comment</td>\n",
       "      <td>In this Python Programming Tutorial, we will b...</td>\n",
       "    </tr>\n",
       "    <tr>\n",
       "      <th>8</th>\n",
       "      <td>Visual Studio Code (Mac) – Setting up a Python...</td>\n",
       "      <td>May 1, 2019 by Corey Schafer Leave a Comment</td>\n",
       "      <td>In this Python Programming Tutorial, we will b...</td>\n",
       "    </tr>\n",
       "    <tr>\n",
       "      <th>9</th>\n",
       "      <td>Clarifying the Issues with Mutable Default Arg...</td>\n",
       "      <td>April 24, 2019 by Corey Schafer Leave a Comment</td>\n",
       "      <td>In this Python Programming Tutorial, we will b...</td>\n",
       "    </tr>\n",
       "  </tbody>\n",
       "</table>\n",
       "</div>"
      ],
      "text/plain": [
       "                                             Heading  \\\n",
       "0  Python Tutorial: Zip Files – Creating and Extr...   \n",
       "1  Python Data Science Tutorial: Analyzing the 20...   \n",
       "2  Python Multiprocessing Tutorial: Run Code in P...   \n",
       "3  Python Threading Tutorial: Run Code Concurrent...   \n",
       "4                                Update (2019-09-03)   \n",
       "5  Python Quick Tip: The Difference Between “==” ...   \n",
       "6  Python Tutorial: Calling External Commands Usi...   \n",
       "7  Visual Studio Code (Windows) – Setting up a Py...   \n",
       "8  Visual Studio Code (Mac) – Setting up a Python...   \n",
       "9  Clarifying the Issues with Mutable Default Arg...   \n",
       "\n",
       "                                                Date  \\\n",
       "0  November 19, 2019 by Corey Schafer Leave a Com...   \n",
       "1  October 17, 2019 by Corey Schafer Leave a Comm...   \n",
       "2  September 21, 2019 by Corey Schafer Leave a Co...   \n",
       "3  September 12, 2019 by Corey Schafer Leave a Co...   \n",
       "4  September 3, 2019 by Corey Schafer Leave a Com...   \n",
       "5   August 6, 2019 by Corey Schafer Leave a Comment    \n",
       "6    July 24, 2019 by Corey Schafer Leave a Comment    \n",
       "7      May 1, 2019 by Corey Schafer Leave a Comment    \n",
       "8      May 1, 2019 by Corey Schafer Leave a Comment    \n",
       "9   April 24, 2019 by Corey Schafer Leave a Comment    \n",
       "\n",
       "                                                Link  \n",
       "0  In this video, we will be learning how to crea...  \n",
       "1  In this Python Programming video, we will be l...  \n",
       "2  In this Python Programming video, we will be l...  \n",
       "3  In this Python Programming video, we will be l...  \n",
       "4  Hey everyone. I wanted to give you an update o...  \n",
       "5  In this Python Programming Tutorial, we will b...  \n",
       "6  In this Python Programming Tutorial, we will b...  \n",
       "7  In this Python Programming Tutorial, we will b...  \n",
       "8  In this Python Programming Tutorial, we will b...  \n",
       "9  In this Python Programming Tutorial, we will b...  "
      ]
     },
     "execution_count": 505,
     "metadata": {},
     "output_type": "execute_result"
    }
   ],
   "source": [
    "content=pd.DataFrame({'Heading':heading,\n",
    "             'Date':dat,\n",
    "             'Link':link})\n",
    "content"
   ]
  },
  {
   "cell_type": "markdown",
   "id": "774897ed",
   "metadata": {},
   "source": [
    "## Write a python program to scrape house details from mentioned URL. It should include house title, location,area, EMI and price from nobroker.in.\n"
   ]
  },
  {
   "cell_type": "code",
   "execution_count": 506,
   "id": "808a2d56",
   "metadata": {},
   "outputs": [
    {
     "data": {
      "text/plain": [
       "<Response [200]>"
      ]
     },
     "execution_count": 506,
     "metadata": {},
     "output_type": "execute_result"
    }
   ],
   "source": [
    "page=requests.get(\"https://www.nobroker.in/property/sale/bangalore/Electronic%20City?type=BHK4&searchParam=W3sibGF0IjoxMi44N%20DUyMTQ1LCJsb24iOjc3LjY2MDE2OTUsInBsYWNlSWQiOiJDaElKdy1GUWQ0cHNyanNSSGZkYXpnXzhYRW8%20iLCJwbGFjZU5hbWUiOiJFbGVjdHJvbmljIENpdHkifV0=&propertyAge=0&radius=2.0\")\n",
    "page"
   ]
  },
  {
   "cell_type": "code",
   "execution_count": 507,
   "id": "30c43679",
   "metadata": {},
   "outputs": [],
   "source": [
    "soup=BeautifulSoup(page.content)"
   ]
  },
  {
   "cell_type": "code",
   "execution_count": 510,
   "id": "f1959cc1",
   "metadata": {},
   "outputs": [
    {
     "data": {
      "text/plain": [
       "16"
      ]
     },
     "execution_count": 510,
     "metadata": {},
     "output_type": "execute_result"
    }
   ],
   "source": [
    "name=[]\n",
    "for i in soup.find_all('a',class_='nb__U5JyW'):\n",
    "    name.append(i.text)\n",
    "len(name) "
   ]
  },
  {
   "cell_type": "code",
   "execution_count": 516,
   "id": "008ba77a",
   "metadata": {},
   "outputs": [
    {
     "data": {
      "text/plain": [
       "16"
      ]
     },
     "execution_count": 516,
     "metadata": {},
     "output_type": "execute_result"
    }
   ],
   "source": [
    "location=[]\n",
    "for i in soup.find_all('div',class_='nb__1EwQz'):\n",
    "    location.append(i.text.replace(',',''))\n",
    "len(location)"
   ]
  },
  {
   "cell_type": "code",
   "execution_count": 520,
   "id": "43bcf6a0",
   "metadata": {},
   "outputs": [
    {
     "data": {
      "text/plain": [
       "['1,800 sqft',\n",
       " '₹77,374/Month',\n",
       " '₹1.35 Crores',\n",
       " '2,000 sqft',\n",
       " '₹39,546/Month',\n",
       " '₹69 Lacs',\n",
       " '1,120 sqft',\n",
       " '₹28,657/Month',\n",
       " '₹50 Lacs',\n",
       " '2,000 sqft',\n",
       " '₹45,851/Month',\n",
       " '₹80 Lacs',\n",
       " '1,879 sqft',\n",
       " '₹91,703/Month',\n",
       " '₹1.6 Crores',\n",
       " '2,600 sqft',\n",
       " '₹85,971/Month',\n",
       " '₹1.5 Crores',\n",
       " '2,000 sqft',\n",
       " '₹39,546/Month',\n",
       " '₹69 Lacs',\n",
       " '3,000 sqft',\n",
       " '₹71,643/Month',\n",
       " '₹1.25 Crores',\n",
       " '3,000 sqft',\n",
       " '₹1.43 Lacs/Month',\n",
       " '₹2.5 Crores',\n",
       " '1,200 sqft',\n",
       " '₹42,985/Month',\n",
       " '₹75 Lacs',\n",
       " '2,650 sqft',\n",
       " '₹68,777/Month',\n",
       " '₹1.2 Crores',\n",
       " '3,100 sqft',\n",
       " '₹85,971/Month',\n",
       " '₹1.5 Crores',\n",
       " '1,100 sqft',\n",
       " '₹40,120/Month',\n",
       " '₹70 Lacs',\n",
       " '2,350 sqft',\n",
       " '₹71,643/Month',\n",
       " '₹1.25 Crores',\n",
       " '3,000 sqft',\n",
       " '₹85,971/Month',\n",
       " '₹1.5 Crores',\n",
       " '1,500 sqft',\n",
       " '₹57,314/Month',\n",
       " '₹1 Crore']"
      ]
     },
     "execution_count": 520,
     "metadata": {},
     "output_type": "execute_result"
    }
   ],
   "source": [
    "rate=[]\n",
    "for i in soup.find_all('div',class_='font-semi-bold heading-6'):\n",
    "    rate.append(i.text)\n",
    "rate"
   ]
  },
  {
   "cell_type": "code",
   "execution_count": 522,
   "id": "68a8a727",
   "metadata": {},
   "outputs": [
    {
     "data": {
      "text/plain": [
       "16"
      ]
     },
     "execution_count": 522,
     "metadata": {},
     "output_type": "execute_result"
    }
   ],
   "source": [
    "emi=[]\n",
    "for i in range(1,48,3):\n",
    "    emi.append(rate[i])\n",
    "len(emi)"
   ]
  },
  {
   "cell_type": "code",
   "execution_count": 524,
   "id": "a8985fa1",
   "metadata": {},
   "outputs": [
    {
     "data": {
      "text/plain": [
       "16"
      ]
     },
     "execution_count": 524,
     "metadata": {},
     "output_type": "execute_result"
    }
   ],
   "source": [
    "price=[]\n",
    "for i in range(2,48,3):\n",
    "    price.append(rate[i])\n",
    "len(price)"
   ]
  },
  {
   "cell_type": "code",
   "execution_count": 526,
   "id": "1cb5a150",
   "metadata": {},
   "outputs": [
    {
     "data": {
      "text/html": [
       "<div>\n",
       "<style scoped>\n",
       "    .dataframe tbody tr th:only-of-type {\n",
       "        vertical-align: middle;\n",
       "    }\n",
       "\n",
       "    .dataframe tbody tr th {\n",
       "        vertical-align: top;\n",
       "    }\n",
       "\n",
       "    .dataframe thead th {\n",
       "        text-align: right;\n",
       "    }\n",
       "</style>\n",
       "<table border=\"1\" class=\"dataframe\">\n",
       "  <thead>\n",
       "    <tr style=\"text-align: right;\">\n",
       "      <th></th>\n",
       "      <th>Property_NAME</th>\n",
       "      <th>EMI</th>\n",
       "      <th>Price</th>\n",
       "    </tr>\n",
       "  </thead>\n",
       "  <tbody>\n",
       "    <tr>\n",
       "      <th>0</th>\n",
       "      <td>4 BHK In Independent House  For Sale  In Hebba...</td>\n",
       "      <td>₹77,374/Month</td>\n",
       "      <td>₹1.35 Crores</td>\n",
       "    </tr>\n",
       "    <tr>\n",
       "      <th>1</th>\n",
       "      <td>4 BHK In Independent House  For Sale  In Elect...</td>\n",
       "      <td>₹39,546/Month</td>\n",
       "      <td>₹69 Lacs</td>\n",
       "    </tr>\n",
       "    <tr>\n",
       "      <th>2</th>\n",
       "      <td>4 BHK Flat  For Sale  In Electronic City</td>\n",
       "      <td>₹28,657/Month</td>\n",
       "      <td>₹50 Lacs</td>\n",
       "    </tr>\n",
       "    <tr>\n",
       "      <th>3</th>\n",
       "      <td>4 BHK Apartment  For Sale  In Nisarga Residenc...</td>\n",
       "      <td>₹45,851/Month</td>\n",
       "      <td>₹80 Lacs</td>\n",
       "    </tr>\n",
       "    <tr>\n",
       "      <th>4</th>\n",
       "      <td>4 BHK Flat  For Sale  In Sobha Silicon Oasis  ...</td>\n",
       "      <td>₹91,703/Month</td>\n",
       "      <td>₹1.6 Crores</td>\n",
       "    </tr>\n",
       "    <tr>\n",
       "      <th>5</th>\n",
       "      <td>4 BHK For Sale  In Daadys Garden In Electronic...</td>\n",
       "      <td>₹85,971/Month</td>\n",
       "      <td>₹1.5 Crores</td>\n",
       "    </tr>\n",
       "    <tr>\n",
       "      <th>6</th>\n",
       "      <td>4 BHK Flat  For Sale  In , Electronic City</td>\n",
       "      <td>₹39,546/Month</td>\n",
       "      <td>₹69 Lacs</td>\n",
       "    </tr>\n",
       "    <tr>\n",
       "      <th>7</th>\n",
       "      <td>4 BHK Flat  For Sale  In Hosa Road, Parappana ...</td>\n",
       "      <td>₹71,643/Month</td>\n",
       "      <td>₹1.25 Crores</td>\n",
       "    </tr>\n",
       "    <tr>\n",
       "      <th>8</th>\n",
       "      <td>4 BHK In Independent House  For Sale  In Elect...</td>\n",
       "      <td>₹1.43 Lacs/Month</td>\n",
       "      <td>₹2.5 Crores</td>\n",
       "    </tr>\n",
       "    <tr>\n",
       "      <th>9</th>\n",
       "      <td>4 BHK In Independent House  For Sale  In Elect...</td>\n",
       "      <td>₹42,985/Month</td>\n",
       "      <td>₹75 Lacs</td>\n",
       "    </tr>\n",
       "    <tr>\n",
       "      <th>10</th>\n",
       "      <td>4 BHK Apartment  For Sale  In Gopalan Gardenia...</td>\n",
       "      <td>₹68,777/Month</td>\n",
       "      <td>₹1.2 Crores</td>\n",
       "    </tr>\n",
       "    <tr>\n",
       "      <th>11</th>\n",
       "      <td>4 BHK For Sale  In Gpr Royale In Gpr Royale</td>\n",
       "      <td>₹85,971/Month</td>\n",
       "      <td>₹1.5 Crores</td>\n",
       "    </tr>\n",
       "    <tr>\n",
       "      <th>12</th>\n",
       "      <td>4 BHK In Independent House  For Sale  In Sarja...</td>\n",
       "      <td>₹40,120/Month</td>\n",
       "      <td>₹70 Lacs</td>\n",
       "    </tr>\n",
       "    <tr>\n",
       "      <th>13</th>\n",
       "      <td>4 BHK Flat  For Sale  In Heena Enclave In Elec...</td>\n",
       "      <td>₹71,643/Month</td>\n",
       "      <td>₹1.25 Crores</td>\n",
       "    </tr>\n",
       "    <tr>\n",
       "      <th>14</th>\n",
       "      <td>4 BHK For Sale  In Deccan Palms Park In Electr...</td>\n",
       "      <td>₹85,971/Month</td>\n",
       "      <td>₹1.5 Crores</td>\n",
       "    </tr>\n",
       "    <tr>\n",
       "      <th>15</th>\n",
       "      <td>4 BHK In Independent House  For Sale  In Elect...</td>\n",
       "      <td>₹57,314/Month</td>\n",
       "      <td>₹1 Crore</td>\n",
       "    </tr>\n",
       "  </tbody>\n",
       "</table>\n",
       "</div>"
      ],
      "text/plain": [
       "                                        Property_NAME               EMI  \\\n",
       "0   4 BHK In Independent House  For Sale  In Hebba...     ₹77,374/Month   \n",
       "1   4 BHK In Independent House  For Sale  In Elect...     ₹39,546/Month   \n",
       "2           4 BHK Flat  For Sale  In Electronic City      ₹28,657/Month   \n",
       "3   4 BHK Apartment  For Sale  In Nisarga Residenc...     ₹45,851/Month   \n",
       "4   4 BHK Flat  For Sale  In Sobha Silicon Oasis  ...     ₹91,703/Month   \n",
       "5   4 BHK For Sale  In Daadys Garden In Electronic...     ₹85,971/Month   \n",
       "6         4 BHK Flat  For Sale  In , Electronic City      ₹39,546/Month   \n",
       "7   4 BHK Flat  For Sale  In Hosa Road, Parappana ...     ₹71,643/Month   \n",
       "8   4 BHK In Independent House  For Sale  In Elect...  ₹1.43 Lacs/Month   \n",
       "9   4 BHK In Independent House  For Sale  In Elect...     ₹42,985/Month   \n",
       "10  4 BHK Apartment  For Sale  In Gopalan Gardenia...     ₹68,777/Month   \n",
       "11       4 BHK For Sale  In Gpr Royale In Gpr Royale      ₹85,971/Month   \n",
       "12  4 BHK In Independent House  For Sale  In Sarja...     ₹40,120/Month   \n",
       "13  4 BHK Flat  For Sale  In Heena Enclave In Elec...     ₹71,643/Month   \n",
       "14  4 BHK For Sale  In Deccan Palms Park In Electr...     ₹85,971/Month   \n",
       "15  4 BHK In Independent House  For Sale  In Elect...     ₹57,314/Month   \n",
       "\n",
       "           Price  \n",
       "0   ₹1.35 Crores  \n",
       "1       ₹69 Lacs  \n",
       "2       ₹50 Lacs  \n",
       "3       ₹80 Lacs  \n",
       "4    ₹1.6 Crores  \n",
       "5    ₹1.5 Crores  \n",
       "6       ₹69 Lacs  \n",
       "7   ₹1.25 Crores  \n",
       "8    ₹2.5 Crores  \n",
       "9       ₹75 Lacs  \n",
       "10   ₹1.2 Crores  \n",
       "11   ₹1.5 Crores  \n",
       "12      ₹70 Lacs  \n",
       "13  ₹1.25 Crores  \n",
       "14   ₹1.5 Crores  \n",
       "15      ₹1 Crore  "
      ]
     },
     "execution_count": 526,
     "metadata": {},
     "output_type": "execute_result"
    }
   ],
   "source": [
    "no_broker=pd.DataFrame({'Property_NAME':name,\n",
    "             'EMI':emi,\n",
    "             'Price':price})\n",
    "no_broker"
   ]
  },
  {
   "cell_type": "markdown",
   "id": "7b992ede",
   "metadata": {},
   "source": [
    "## Write a python program to scrape mentioned details from dineout.co.in :\n",
    "i) Restaurant name\n",
    "ii) Cuisine\n",
    "iii) Location\n",
    "iv) Ratings\n",
    "v) Image URL"
   ]
  },
  {
   "cell_type": "code",
   "execution_count": 527,
   "id": "17ed948d",
   "metadata": {},
   "outputs": [
    {
     "data": {
      "text/plain": [
       "<Response [200]>"
      ]
     },
     "execution_count": 527,
     "metadata": {},
     "output_type": "execute_result"
    }
   ],
   "source": [
    "page=requests.get(\"https://www.dineout.co.in/delhi-restaurants/buffet-special\")\n",
    "page"
   ]
  },
  {
   "cell_type": "code",
   "execution_count": 528,
   "id": "0ea9a320",
   "metadata": {},
   "outputs": [],
   "source": [
    "soup=BeautifulSoup(page.content)"
   ]
  },
  {
   "cell_type": "code",
   "execution_count": 542,
   "id": "c235f258",
   "metadata": {},
   "outputs": [
    {
     "data": {
      "text/plain": [
       "13"
      ]
     },
     "execution_count": 542,
     "metadata": {},
     "output_type": "execute_result"
    }
   ],
   "source": [
    "location=[]\n",
    "for i in soup.find_all('div',class_='restnt-info cursor'):\n",
    "    location.append(i.text.split(',')[1])\n",
    "len(location)"
   ]
  },
  {
   "cell_type": "code",
   "execution_count": 546,
   "id": "fa4424c3",
   "metadata": {},
   "outputs": [
    {
     "data": {
      "text/plain": [
       "13"
      ]
     },
     "execution_count": 546,
     "metadata": {},
     "output_type": "execute_result"
    }
   ],
   "source": [
    "cuisine=[]\n",
    "for i in soup.find_all('div',class_='detail-info'):\n",
    "    cuisine.append(i.text.split('|')[1])\n",
    "len(cuisine)"
   ]
  },
  {
   "cell_type": "code",
   "execution_count": 551,
   "id": "ba4fb22b",
   "metadata": {},
   "outputs": [
    {
     "data": {
      "text/plain": [
       "13"
      ]
     },
     "execution_count": 551,
     "metadata": {},
     "output_type": "execute_result"
    }
   ],
   "source": [
    "rating=[]\n",
    "for i in soup.find_all('div',class_='restnt-rating-widget pull-right text-right'):\n",
    "    rating.append(i.text.split(' ')[0])\n",
    "len(rating)"
   ]
  },
  {
   "cell_type": "code",
   "execution_count": 554,
   "id": "beb4754e",
   "metadata": {},
   "outputs": [
    {
     "data": {
      "text/plain": [
       "['Castle Barbeque',\n",
       " 'Jungle Jamboree',\n",
       " 'Castle Barbeque',\n",
       " 'Cafe Knosh',\n",
       " 'The Barbeque Company',\n",
       " 'India Grill',\n",
       " 'Delhi Barbeque',\n",
       " 'The Monarch - Bar Be Que Village',\n",
       " 'World Cafe',\n",
       " 'Indian Grill Room',\n",
       " 'Mad 4 Bar B Que',\n",
       " 'Barbeque 29',\n",
       " 'Glasshouse']"
      ]
     },
     "execution_count": 554,
     "metadata": {},
     "output_type": "execute_result"
    }
   ],
   "source": [
    "name=[]\n",
    "for i in soup.find_all('a',class_='restnt-name ellipsis'):\n",
    "    name.append(i.text)\n",
    "name"
   ]
  },
  {
   "cell_type": "code",
   "execution_count": 556,
   "id": "64729593",
   "metadata": {},
   "outputs": [
    {
     "data": {
      "text/plain": [
       "['https://im1.dineout.co.in/images/uploads/restaurant/sharpen/8/k/b/p86792-16062953735fbe1f4d3fb7e.jpg?tr=tr:n-medium',\n",
       " 'https://im1.dineout.co.in/images/uploads/restaurant/sharpen/5/a/k/p59633-16046474755fa4fa33c0e92.jpg?tr=tr:n-medium',\n",
       " 'https://im1.dineout.co.in/images/uploads/restaurant/sharpen/3/j/o/p38113-15959192065f1fcb666130c.jpg?tr=tr:n-medium',\n",
       " 'https://im1.dineout.co.in/images/uploads/restaurant/sharpen/4/j/v/p406-163401663361651d79326d0.jpg?tr=tr:n-medium',\n",
       " 'https://im1.dineout.co.in/images/uploads/restaurant/sharpen/7/q/d/p79307-16051787075fad15532bd7c.jpg?tr=tr:n-medium',\n",
       " 'https://im1.dineout.co.in/images/uploads/restaurant/sharpen/2/v/t/p2687-1482477169585cce712b90f.jpg?tr=tr:n-medium',\n",
       " 'https://im1.dineout.co.in/images/uploads/restaurant/sharpen/5/v/f/p52501-16006856545f68865616659.jpg?tr=tr:n-medium',\n",
       " 'https://im1.dineout.co.in/images/uploads/restaurant/sharpen/3/n/o/p34822-15599107305cfa594a13c24.jpg?tr=tr:n-medium',\n",
       " 'https://im1.dineout.co.in/images/uploads/restaurant/sharpen/1/p/y/p12366-1466935020576fa6ecdc359.jpg?tr=tr:n-medium',\n",
       " 'https://im1.dineout.co.in/images/uploads/restaurant/sharpen/5/y/y/p549-15143767525a438e30b3e19.jpg?tr=tr:n-medium',\n",
       " 'https://im1.dineout.co.in/images/uploads/restaurant/sharpen/4/j/e/p43488-15295778165b2b8158ceeef.jpg?tr=tr:n-medium',\n",
       " 'https://im1.dineout.co.in/images/uploads/restaurant/sharpen/5/w/r/p58842-15624171585d209806d9143.jpg?tr=tr:n-medium',\n",
       " 'https://im1.dineout.co.in/images/uploads/restaurant/sharpen/9/m/f/p9875-16057921085fb6716cc44f8.jpg?tr=tr:n-medium']"
      ]
     },
     "execution_count": 556,
     "metadata": {},
     "output_type": "execute_result"
    }
   ],
   "source": [
    "images=[]\n",
    "for i in soup.find_all('img',class_='no-img'):\n",
    "    images.append(i['data-src'])\n",
    "images "
   ]
  },
  {
   "cell_type": "code",
   "execution_count": 557,
   "id": "38e6170d",
   "metadata": {},
   "outputs": [
    {
     "data": {
      "text/html": [
       "<div>\n",
       "<style scoped>\n",
       "    .dataframe tbody tr th:only-of-type {\n",
       "        vertical-align: middle;\n",
       "    }\n",
       "\n",
       "    .dataframe tbody tr th {\n",
       "        vertical-align: top;\n",
       "    }\n",
       "\n",
       "    .dataframe thead th {\n",
       "        text-align: right;\n",
       "    }\n",
       "</style>\n",
       "<table border=\"1\" class=\"dataframe\">\n",
       "  <thead>\n",
       "    <tr style=\"text-align: right;\">\n",
       "      <th></th>\n",
       "      <th>Name</th>\n",
       "      <th>Location</th>\n",
       "      <th>Cuisine</th>\n",
       "      <th>Rating</th>\n",
       "      <th>Image_URL</th>\n",
       "    </tr>\n",
       "  </thead>\n",
       "  <tbody>\n",
       "    <tr>\n",
       "      <th>0</th>\n",
       "      <td>Castle Barbeque</td>\n",
       "      <td>Central Delhi</td>\n",
       "      <td>Chinese, North Indian1 offer available</td>\n",
       "      <td>4.3232</td>\n",
       "      <td>https://im1.dineout.co.in/images/uploads/resta...</td>\n",
       "    </tr>\n",
       "    <tr>\n",
       "      <th>1</th>\n",
       "      <td>Jungle Jamboree</td>\n",
       "      <td>Lajpat Nagar - 3</td>\n",
       "      <td>North Indian, Barbecue, Italian, Asian</td>\n",
       "      <td>4.3232</td>\n",
       "      <td>https://im1.dineout.co.in/images/uploads/resta...</td>\n",
       "    </tr>\n",
       "    <tr>\n",
       "      <th>2</th>\n",
       "      <td>Castle Barbeque</td>\n",
       "      <td>Tagore Garden</td>\n",
       "      <td>North Indian, Chinese1 offer available</td>\n",
       "      <td>4.3232</td>\n",
       "      <td>https://im1.dineout.co.in/images/uploads/resta...</td>\n",
       "    </tr>\n",
       "    <tr>\n",
       "      <th>3</th>\n",
       "      <td>Cafe Knosh</td>\n",
       "      <td>Shahdara</td>\n",
       "      <td>Multi-Cuisine, North Indian, Italian, Contine...</td>\n",
       "      <td>4.3232</td>\n",
       "      <td>https://im1.dineout.co.in/images/uploads/resta...</td>\n",
       "    </tr>\n",
       "    <tr>\n",
       "      <th>4</th>\n",
       "      <td>The Barbeque Company</td>\n",
       "      <td>Sector 38A</td>\n",
       "      <td>Barbecue, Chinese, Mughlai, North Indian</td>\n",
       "      <td>4.3232</td>\n",
       "      <td>https://im1.dineout.co.in/images/uploads/resta...</td>\n",
       "    </tr>\n",
       "    <tr>\n",
       "      <th>5</th>\n",
       "      <td>India Grill</td>\n",
       "      <td>Saket</td>\n",
       "      <td>North Indian, Italian, Oriental 1 offer avail...</td>\n",
       "      <td>4.3232</td>\n",
       "      <td>https://im1.dineout.co.in/images/uploads/resta...</td>\n",
       "    </tr>\n",
       "    <tr>\n",
       "      <th>6</th>\n",
       "      <td>Delhi Barbeque</td>\n",
       "      <td>Mahipalpur</td>\n",
       "      <td>Barbecue, North Indian</td>\n",
       "      <td>4.3232</td>\n",
       "      <td>https://im1.dineout.co.in/images/uploads/resta...</td>\n",
       "    </tr>\n",
       "    <tr>\n",
       "      <th>7</th>\n",
       "      <td>The Monarch - Bar Be Que Village</td>\n",
       "      <td>Indirapuram</td>\n",
       "      <td>North Indian, Chinese, Fast Food1 offer avail...</td>\n",
       "      <td>4.3232</td>\n",
       "      <td>https://im1.dineout.co.in/images/uploads/resta...</td>\n",
       "    </tr>\n",
       "    <tr>\n",
       "      <th>8</th>\n",
       "      <td>World Cafe</td>\n",
       "      <td>Sector 35</td>\n",
       "      <td>North Indian, Chinese, Continental1 offer ava...</td>\n",
       "      <td>4.3232</td>\n",
       "      <td>https://im1.dineout.co.in/images/uploads/resta...</td>\n",
       "    </tr>\n",
       "    <tr>\n",
       "      <th>9</th>\n",
       "      <td>Indian Grill Room</td>\n",
       "      <td>Golf Course Road</td>\n",
       "      <td>North Indian, Mughlai, Barbecue2 deals available</td>\n",
       "      <td>4.3232</td>\n",
       "      <td>https://im1.dineout.co.in/images/uploads/resta...</td>\n",
       "    </tr>\n",
       "    <tr>\n",
       "      <th>10</th>\n",
       "      <td>Mad 4 Bar B Que</td>\n",
       "      <td>Faridabad</td>\n",
       "      <td>North Indian, Mughlai</td>\n",
       "      <td>4.3232</td>\n",
       "      <td>https://im1.dineout.co.in/images/uploads/resta...</td>\n",
       "    </tr>\n",
       "    <tr>\n",
       "      <th>11</th>\n",
       "      <td>Barbeque 29</td>\n",
       "      <td>Faridabad</td>\n",
       "      <td>North Indian, Chinese, Barbecue1 deal available</td>\n",
       "      <td>4.3232</td>\n",
       "      <td>https://im1.dineout.co.in/images/uploads/resta...</td>\n",
       "    </tr>\n",
       "    <tr>\n",
       "      <th>12</th>\n",
       "      <td>Glasshouse</td>\n",
       "      <td>Sector 50</td>\n",
       "      <td>Multi-Cuisine, Asian, European, Italian, Nort...</td>\n",
       "      <td>4.3232</td>\n",
       "      <td>https://im1.dineout.co.in/images/uploads/resta...</td>\n",
       "    </tr>\n",
       "  </tbody>\n",
       "</table>\n",
       "</div>"
      ],
      "text/plain": [
       "                                Name          Location  \\\n",
       "0                    Castle Barbeque     Central Delhi   \n",
       "1                    Jungle Jamboree  Lajpat Nagar - 3   \n",
       "2                    Castle Barbeque     Tagore Garden   \n",
       "3                         Cafe Knosh          Shahdara   \n",
       "4               The Barbeque Company        Sector 38A   \n",
       "5                        India Grill             Saket   \n",
       "6                     Delhi Barbeque        Mahipalpur   \n",
       "7   The Monarch - Bar Be Que Village       Indirapuram   \n",
       "8                         World Cafe         Sector 35   \n",
       "9                  Indian Grill Room  Golf Course Road   \n",
       "10                   Mad 4 Bar B Que         Faridabad   \n",
       "11                       Barbeque 29         Faridabad   \n",
       "12                        Glasshouse         Sector 50   \n",
       "\n",
       "                                              Cuisine  Rating  \\\n",
       "0              Chinese, North Indian1 offer available  4.3232   \n",
       "1              North Indian, Barbecue, Italian, Asian  4.3232   \n",
       "2              North Indian, Chinese1 offer available  4.3232   \n",
       "3    Multi-Cuisine, North Indian, Italian, Contine...  4.3232   \n",
       "4            Barbecue, Chinese, Mughlai, North Indian  4.3232   \n",
       "5    North Indian, Italian, Oriental 1 offer avail...  4.3232   \n",
       "6                              Barbecue, North Indian  4.3232   \n",
       "7    North Indian, Chinese, Fast Food1 offer avail...  4.3232   \n",
       "8    North Indian, Chinese, Continental1 offer ava...  4.3232   \n",
       "9    North Indian, Mughlai, Barbecue2 deals available  4.3232   \n",
       "10                              North Indian, Mughlai  4.3232   \n",
       "11    North Indian, Chinese, Barbecue1 deal available  4.3232   \n",
       "12   Multi-Cuisine, Asian, European, Italian, Nort...  4.3232   \n",
       "\n",
       "                                            Image_URL  \n",
       "0   https://im1.dineout.co.in/images/uploads/resta...  \n",
       "1   https://im1.dineout.co.in/images/uploads/resta...  \n",
       "2   https://im1.dineout.co.in/images/uploads/resta...  \n",
       "3   https://im1.dineout.co.in/images/uploads/resta...  \n",
       "4   https://im1.dineout.co.in/images/uploads/resta...  \n",
       "5   https://im1.dineout.co.in/images/uploads/resta...  \n",
       "6   https://im1.dineout.co.in/images/uploads/resta...  \n",
       "7   https://im1.dineout.co.in/images/uploads/resta...  \n",
       "8   https://im1.dineout.co.in/images/uploads/resta...  \n",
       "9   https://im1.dineout.co.in/images/uploads/resta...  \n",
       "10  https://im1.dineout.co.in/images/uploads/resta...  \n",
       "11  https://im1.dineout.co.in/images/uploads/resta...  \n",
       "12  https://im1.dineout.co.in/images/uploads/resta...  "
      ]
     },
     "execution_count": 557,
     "metadata": {},
     "output_type": "execute_result"
    }
   ],
   "source": [
    "dine_out=pd.DataFrame({'Name':name,\n",
    "             'Location':location,\n",
    "             'Cuisine':cuisine,\n",
    "             'Rating':rating,\n",
    "             'Image_URL':images})\n",
    "dine_out"
   ]
  },
  {
   "cell_type": "markdown",
   "id": "8745c3fc",
   "metadata": {},
   "source": [
    "## Write a python program to scrape weather details for last 24 hours from Tutiempo.net :\n",
    "i) Hour\n",
    "ii) Temperature\n",
    "iii) Wind\n",
    "iv) Weather condition\n",
    "v) Humidity\n",
    "vi) Pressure\n"
   ]
  },
  {
   "cell_type": "code",
   "execution_count": 719,
   "id": "6329af6b",
   "metadata": {},
   "outputs": [
    {
     "data": {
      "text/plain": [
       "<Response [200]>"
      ]
     },
     "execution_count": 719,
     "metadata": {},
     "output_type": "execute_result"
    }
   ],
   "source": [
    "page=requests.get(\"https://en.tutiempo.net/mumbai.html?data=hourly\")\n",
    "page"
   ]
  },
  {
   "cell_type": "code",
   "execution_count": 720,
   "id": "09099c52",
   "metadata": {},
   "outputs": [],
   "source": [
    "soup=BeautifulSoup(page.content)"
   ]
  },
  {
   "cell_type": "code",
   "execution_count": 734,
   "id": "0748c6fc",
   "metadata": {},
   "outputs": [],
   "source": [
    "conditions=[]\n",
    "for i in list.find_all('span',class_='mash'):\n",
    "    conditions.append(i['data-weather'].split('|'))"
   ]
  },
  {
   "cell_type": "code",
   "execution_count": 723,
   "id": "636d92a8",
   "metadata": {},
   "outputs": [
    {
     "data": {
      "text/plain": [
       "82"
      ]
     },
     "execution_count": 723,
     "metadata": {},
     "output_type": "execute_result"
    }
   ],
   "source": [
    "weather=[]\n",
    "for i in range(0,82):\n",
    "    weather.append(conditions[i][1])\n",
    "len(weather)\n"
   ]
  },
  {
   "cell_type": "code",
   "execution_count": 724,
   "id": "143e45d7",
   "metadata": {},
   "outputs": [
    {
     "data": {
      "text/plain": [
       "82"
      ]
     },
     "execution_count": 724,
     "metadata": {},
     "output_type": "execute_result"
    }
   ],
   "source": [
    "hour=[]\n",
    "for i in range(0,82):\n",
    "    hour.append(conditions[i][11])\n",
    "len(hour)"
   ]
  },
  {
   "cell_type": "code",
   "execution_count": 744,
   "id": "c81cc396",
   "metadata": {},
   "outputs": [
    {
     "data": {
      "text/plain": [
       "82"
      ]
     },
     "execution_count": 744,
     "metadata": {},
     "output_type": "execute_result"
    }
   ],
   "source": [
    "temp=[]\n",
    "for i in range(0,82):\n",
    "    temp.append(conditions[i][3])\n",
    "len(temp)"
   ]
  },
  {
   "cell_type": "code",
   "execution_count": 743,
   "id": "a83265bc",
   "metadata": {},
   "outputs": [
    {
     "data": {
      "text/plain": [
       "82"
      ]
     },
     "execution_count": 743,
     "metadata": {},
     "output_type": "execute_result"
    }
   ],
   "source": [
    "humidity=[]\n",
    "for i in range(0,82):\n",
    "    humidity.append(conditions[i][7])\n",
    "len(humidity)"
   ]
  },
  {
   "cell_type": "code",
   "execution_count": 746,
   "id": "1f95172a",
   "metadata": {},
   "outputs": [
    {
     "data": {
      "text/plain": [
       "82"
      ]
     },
     "execution_count": 746,
     "metadata": {},
     "output_type": "execute_result"
    }
   ],
   "source": [
    "wind_speed=[]\n",
    "for i in range(0,82):\n",
    "    wind_speed.append(conditions[i][4])\n",
    "len(wind_speed)"
   ]
  },
  {
   "cell_type": "code",
   "execution_count": 739,
   "id": "300eaa14",
   "metadata": {},
   "outputs": [
    {
     "data": {
      "text/plain": [
       "82"
      ]
     },
     "execution_count": 739,
     "metadata": {},
     "output_type": "execute_result"
    }
   ],
   "source": [
    "pressure=[]\n",
    "for i in range(0,82):\n",
    "    pressure.append(conditions[i][10])\n",
    "len(pressure)"
   ]
  },
  {
   "cell_type": "code",
   "execution_count": 747,
   "id": "0a360a99",
   "metadata": {},
   "outputs": [
    {
     "data": {
      "text/html": [
       "<div>\n",
       "<style scoped>\n",
       "    .dataframe tbody tr th:only-of-type {\n",
       "        vertical-align: middle;\n",
       "    }\n",
       "\n",
       "    .dataframe tbody tr th {\n",
       "        vertical-align: top;\n",
       "    }\n",
       "\n",
       "    .dataframe thead th {\n",
       "        text-align: right;\n",
       "    }\n",
       "</style>\n",
       "<table border=\"1\" class=\"dataframe\">\n",
       "  <thead>\n",
       "    <tr style=\"text-align: right;\">\n",
       "      <th></th>\n",
       "      <th>Hour</th>\n",
       "      <th>Weather</th>\n",
       "      <th>Temperature</th>\n",
       "      <th>Wind_speed</th>\n",
       "      <th>Humidity</th>\n",
       "      <th>Pressure</th>\n",
       "    </tr>\n",
       "  </thead>\n",
       "  <tbody>\n",
       "    <tr>\n",
       "      <th>0</th>\n",
       "      <td>14:00</td>\n",
       "      <td>Cloudy with rain showers</td>\n",
       "      <td>23</td>\n",
       "      <td>14</td>\n",
       "      <td>77</td>\n",
       "      <td>1010</td>\n",
       "    </tr>\n",
       "    <tr>\n",
       "      <th>1</th>\n",
       "      <td>15:00</td>\n",
       "      <td>Cloudy with rain showers</td>\n",
       "      <td>23</td>\n",
       "      <td>18</td>\n",
       "      <td>78</td>\n",
       "      <td>1009</td>\n",
       "    </tr>\n",
       "    <tr>\n",
       "      <th>2</th>\n",
       "      <td>16:00</td>\n",
       "      <td>Cloudy with rain showers</td>\n",
       "      <td>23</td>\n",
       "      <td>17</td>\n",
       "      <td>79</td>\n",
       "      <td>1010</td>\n",
       "    </tr>\n",
       "    <tr>\n",
       "      <th>3</th>\n",
       "      <td>17:00</td>\n",
       "      <td>Mostly cloudy</td>\n",
       "      <td>23</td>\n",
       "      <td>17</td>\n",
       "      <td>79</td>\n",
       "      <td>1010</td>\n",
       "    </tr>\n",
       "    <tr>\n",
       "      <th>4</th>\n",
       "      <td>18:00</td>\n",
       "      <td>Mostly cloudy</td>\n",
       "      <td>23</td>\n",
       "      <td>15</td>\n",
       "      <td>77</td>\n",
       "      <td>1011</td>\n",
       "    </tr>\n",
       "    <tr>\n",
       "      <th>...</th>\n",
       "      <td>...</td>\n",
       "      <td>...</td>\n",
       "      <td>...</td>\n",
       "      <td>...</td>\n",
       "      <td>...</td>\n",
       "      <td>...</td>\n",
       "    </tr>\n",
       "    <tr>\n",
       "      <th>77</th>\n",
       "      <td>19:00</td>\n",
       "      <td>Clear</td>\n",
       "      <td>26</td>\n",
       "      <td>14</td>\n",
       "      <td>70</td>\n",
       "      <td>1012</td>\n",
       "    </tr>\n",
       "    <tr>\n",
       "      <th>78</th>\n",
       "      <td>20:00</td>\n",
       "      <td>Clear</td>\n",
       "      <td>26</td>\n",
       "      <td>14</td>\n",
       "      <td>69</td>\n",
       "      <td>1013</td>\n",
       "    </tr>\n",
       "    <tr>\n",
       "      <th>79</th>\n",
       "      <td>21:00</td>\n",
       "      <td>Clear</td>\n",
       "      <td>26</td>\n",
       "      <td>11</td>\n",
       "      <td>68</td>\n",
       "      <td>1013</td>\n",
       "    </tr>\n",
       "    <tr>\n",
       "      <th>80</th>\n",
       "      <td>22:00</td>\n",
       "      <td>Clear</td>\n",
       "      <td>26</td>\n",
       "      <td>12</td>\n",
       "      <td>67</td>\n",
       "      <td>1013</td>\n",
       "    </tr>\n",
       "    <tr>\n",
       "      <th>81</th>\n",
       "      <td>23:00</td>\n",
       "      <td>Clear</td>\n",
       "      <td>26</td>\n",
       "      <td>11</td>\n",
       "      <td>66</td>\n",
       "      <td>1013</td>\n",
       "    </tr>\n",
       "  </tbody>\n",
       "</table>\n",
       "<p>82 rows × 6 columns</p>\n",
       "</div>"
      ],
      "text/plain": [
       "     Hour                   Weather Temperature Wind_speed Humidity Pressure\n",
       "0   14:00  Cloudy with rain showers          23         14       77     1010\n",
       "1   15:00  Cloudy with rain showers          23         18       78     1009\n",
       "2   16:00  Cloudy with rain showers          23         17       79     1010\n",
       "3   17:00             Mostly cloudy          23         17       79     1010\n",
       "4   18:00             Mostly cloudy          23         15       77     1011\n",
       "..    ...                       ...         ...        ...      ...      ...\n",
       "77  19:00                     Clear          26         14       70     1012\n",
       "78  20:00                     Clear          26         14       69     1013\n",
       "79  21:00                     Clear          26         11       68     1013\n",
       "80  22:00                     Clear          26         12       67     1013\n",
       "81  23:00                     Clear          26         11       66     1013\n",
       "\n",
       "[82 rows x 6 columns]"
      ]
     },
     "execution_count": 747,
     "metadata": {},
     "output_type": "execute_result"
    }
   ],
   "source": [
    "weather_rep=pd.DataFrame({'Hour':hour,\n",
    "              'Weather':weather,\n",
    "              'Temperature':temp,\n",
    "             'Wind_speed':wind_speed,\n",
    "             'Humidity':humidity,\n",
    "             'Pressure':pressure,\n",
    "             })\n",
    "weather_rep"
   ]
  },
  {
   "cell_type": "markdown",
   "id": "63e89c6c",
   "metadata": {},
   "source": [
    "## Write a python program to scrape monument name, monument description, image URL about top 10 monuments from puredestinations.co.uk"
   ]
  },
  {
   "cell_type": "code",
   "execution_count": 590,
   "id": "5a2aabaa",
   "metadata": {},
   "outputs": [
    {
     "data": {
      "text/plain": [
       "<Response [200]>"
      ]
     },
     "execution_count": 590,
     "metadata": {},
     "output_type": "execute_result"
    }
   ],
   "source": [
    "page=requests.get(\"https://www.puredestinations.co.uk/top-10-famous-monuments-to-visit-in-india/\")\n",
    "page"
   ]
  },
  {
   "cell_type": "code",
   "execution_count": 632,
   "id": "e43d41e2",
   "metadata": {},
   "outputs": [],
   "source": [
    "soup=BeautifulSoup(page.content)"
   ]
  },
  {
   "cell_type": "code",
   "execution_count": 652,
   "id": "1fad9b44",
   "metadata": {},
   "outputs": [],
   "source": [
    "\n",
    "info=soup.find('div',class_='blog--single__content column--3-4 u-spacing-third')\n"
   ]
  },
  {
   "cell_type": "code",
   "execution_count": 642,
   "id": "6c084724",
   "metadata": {},
   "outputs": [
    {
     "data": {
      "text/plain": [
       "['Rich in culture and diversity India is home to some of the finest historical monuments in the world. Most recognised by the UNESCO World Heritage Site the famous Indian monuments include the beautiful Taj Mahal the sacred Golden Temple and the cultural site Hawa Mahal. Discover and experience the magnificent insights into India’s rich heritage and ancient architecture. Read on for our list of the top must see historical monuments in India below.',\n",
       " 'Taj Mahal Agra',\n",
       " 'Enlisted in the Seven Wonders of the World The Taj Mahal is one of the most beautiful and famous buildings located in the city of Agra. This white marble monument was built by a Mughal Emperor called Shahajahan in memory of his beloved wife. Due to its amazing architecture and the history behind it this world heritage site has become very popular to visit by all travellers and romantics from all over the world.',\n",
       " '',\n",
       " 'Golden Temple (Harmandir Sahib) Amritsar ',\n",
       " 'The holiest shrine and pilgrimage place located in Amritsar is The Golden Temple known as the Harmandir Sahib. This is the most famous and sacred Sikh Gurdwara in Punjab India adorned with rich history and gold gilded exterior. If you are interested in culture and history be sure to visit this popular attraction in India.',\n",
       " '',\n",
       " 'Meenakshi Temple Madurai',\n",
       " 'Meenakshi Temple is situated on the Southern banks of Vaigai River in the temple city Madurai. This temple is dedicated to Parvati and her consort Shiva and is visited by most Hindu and Tamil devotees and architectural lovers throughout the world. It is believed that this shrine houses 33000 sculptures in its 14 gopurams. It’s no doubt one place to visit if you are impressed with art and cultural history.',\n",
       " '',\n",
       " 'Mysore Palace Mysore',\n",
       " 'The Mysore Palace is a famous historical monument in the city of Mysore in Karnataka. Commonly described as the City of Palaces this is the most famous tourist attraction in India after the Taj Mahal. It is a sight not be missed with its spacious halls lovely art paintings and Indo-Saracenic style architecture. Best time to visit is at night due to the astonishing illuminated lights covering the whole monument.',\n",
       " '',\n",
       " 'Gateway of India Mumbai',\n",
       " 'Even though Mumbai is famous for its Bollywood actors and movies the most famous attraction in Mumbai is The Gateway of India. It is a popular gathering spot for locals travellers street vendors and photographers and is known as the Taj Mahal of Mumbai. The majestic monument was built to commemorate the visit of King George V and Queen Mary to Bombay. With so much fun and excitement this place is not to be missed with family or on your tour of India.',\n",
       " '',\n",
       " 'Red Fort New Delhi',\n",
       " 'Declared as the UNESCO’s World Heritage Site Red Fort is located in the centre of beautiful Delhi. If you love learning about history and culture then this famous historic monument is a must see place to visit. Built by the Mughal Emperor Shah Jahan in 1648 and housing a number of museums its walls are built of red sandstone. The best time to visit is on Independence Day where the Prime Minister of India hoists the national flag at the Red Fort. End the day by heading to an Indian restaurant and enjoy the varieties of wonderful cuisines.',\n",
       " '',\n",
       " 'Hawa Mahal Jaipur',\n",
       " 'Explore a blend of beauty and Rajasthan culture the Hawa Mahal also known as Palace of Winds is situated in the capital of Rajasthan Jaipur. Built from red and pink sandstones by the Maharaja Sawi Pratap Singh in 1799 this unique five storey structure is one of the most prominent tourist attractions in the Jaipur city.',\n",
       " '',\n",
       " 'Qutub Minar New Delhi',\n",
       " 'Discover one of the tallest towers in the world and the second tallest Minar of India standing elegantly in the Capital city New Delhi. Standing at 72.5 metres and consisting of around 379 stairs this famous monument represents the rich architecture of India. As it is a UNESCO World Heritage Site made of red sandstone and decorated with Arabic and Brahmi inscriptions travellers from around the world come to view this most famous tower in India.',\n",
       " '',\n",
       " 'Sanchi Stupa Sanchi',\n",
       " 'The beautiful and massive dome Sanchi Stupa also known as the Great Stupa is a world renowned Buddhist monument in Sanchi India. It was constructed by Emperor Ashoka and is one of the oldest stone structures in the heart of India. Experience the Indian culture by visiting these major attractions in Sanchi including a number of Buddhist Stupas monasteries and temples.',\n",
       " '',\n",
       " 'Charminar Hyderabad',\n",
       " 'No visit to Hyderabad should be complete without visiting the most famous and majestic monument known as the Charminar. This magnificent and striking mosque constructed in 1591 has four minarets and is the most recognisable symbol in the city of Hyderabad.',\n",
       " '',\n",
       " 'Things to know before planning your trip to India',\n",
       " 'Are you inspired to plan an incredible trip to India? Get in touch with Pure Destinations today to speak to a travel expert to plan a tailor made itinerary.\\xa0Fancy exploring these famous monuments in India? Why not\\xa0contact\\xa0us today!']"
      ]
     },
     "execution_count": 642,
     "metadata": {},
     "output_type": "execute_result"
    }
   ],
   "source": [
    "des=[]\n",
    "for i in info.find_all('p'):\n",
    "    des.append(i.text.replace(',',''))\n",
    "des"
   ]
  },
  {
   "cell_type": "code",
   "execution_count": 648,
   "id": "b6711fdf",
   "metadata": {},
   "outputs": [
    {
     "data": {
      "text/plain": [
       "10"
      ]
     },
     "execution_count": 648,
     "metadata": {},
     "output_type": "execute_result"
    }
   ],
   "source": [
    "name=[]\n",
    "for i in range(1,31,3):\n",
    "    name.append(des[i])\n",
    "len(name) \n"
   ]
  },
  {
   "cell_type": "code",
   "execution_count": 651,
   "id": "5326724d",
   "metadata": {},
   "outputs": [
    {
     "data": {
      "text/plain": [
       "10"
      ]
     },
     "execution_count": 651,
     "metadata": {},
     "output_type": "execute_result"
    }
   ],
   "source": [
    "description=[]\n",
    "for i in range(2,32,3):\n",
    "    description.append(des[i])\n",
    "    \n",
    "len(description)"
   ]
  },
  {
   "cell_type": "code",
   "execution_count": 662,
   "id": "96a2df72",
   "metadata": {},
   "outputs": [
    {
     "data": {
      "text/plain": [
       "20"
      ]
     },
     "execution_count": 662,
     "metadata": {},
     "output_type": "execute_result"
    }
   ],
   "source": [
    "image_url=[]\n",
    "for i in info.find_all('img'):\n",
    "    image_url.append(i['src'])\n",
    "len(image_url)    "
   ]
  },
  {
   "cell_type": "code",
   "execution_count": 664,
   "id": "4ce25403",
   "metadata": {},
   "outputs": [
    {
     "data": {
      "text/plain": [
       "10"
      ]
     },
     "execution_count": 664,
     "metadata": {},
     "output_type": "execute_result"
    }
   ],
   "source": [
    "url=[]\n",
    "for i in range(1,20,2):\n",
    "    url.append(image_url[i])\n",
    "len(url)"
   ]
  },
  {
   "cell_type": "code",
   "execution_count": 665,
   "id": "76f42cc7",
   "metadata": {},
   "outputs": [
    {
     "data": {
      "text/html": [
       "<div>\n",
       "<style scoped>\n",
       "    .dataframe tbody tr th:only-of-type {\n",
       "        vertical-align: middle;\n",
       "    }\n",
       "\n",
       "    .dataframe tbody tr th {\n",
       "        vertical-align: top;\n",
       "    }\n",
       "\n",
       "    .dataframe thead th {\n",
       "        text-align: right;\n",
       "    }\n",
       "</style>\n",
       "<table border=\"1\" class=\"dataframe\">\n",
       "  <thead>\n",
       "    <tr style=\"text-align: right;\">\n",
       "      <th></th>\n",
       "      <th>Name</th>\n",
       "      <th>Description</th>\n",
       "      <th>Image_url</th>\n",
       "    </tr>\n",
       "  </thead>\n",
       "  <tbody>\n",
       "    <tr>\n",
       "      <th>0</th>\n",
       "      <td>Taj Mahal Agra</td>\n",
       "      <td>Enlisted in the Seven Wonders of the World The...</td>\n",
       "      <td>http://www.puredestinations.co.uk/wp-content/u...</td>\n",
       "    </tr>\n",
       "    <tr>\n",
       "      <th>1</th>\n",
       "      <td>Golden Temple (Harmandir Sahib) Amritsar</td>\n",
       "      <td>The holiest shrine and pilgrimage place locate...</td>\n",
       "      <td>http://www.puredestinations.co.uk/wp-content/u...</td>\n",
       "    </tr>\n",
       "    <tr>\n",
       "      <th>2</th>\n",
       "      <td>Meenakshi Temple Madurai</td>\n",
       "      <td>Meenakshi Temple is situated on the Southern b...</td>\n",
       "      <td>http://www.puredestinations.co.uk/wp-content/u...</td>\n",
       "    </tr>\n",
       "    <tr>\n",
       "      <th>3</th>\n",
       "      <td>Mysore Palace Mysore</td>\n",
       "      <td>The Mysore Palace is a famous historical monum...</td>\n",
       "      <td>http://www.puredestinations.co.uk/wp-content/u...</td>\n",
       "    </tr>\n",
       "    <tr>\n",
       "      <th>4</th>\n",
       "      <td>Gateway of India Mumbai</td>\n",
       "      <td>Even though Mumbai is famous for its Bollywood...</td>\n",
       "      <td>http://www.puredestinations.co.uk/wp-content/u...</td>\n",
       "    </tr>\n",
       "    <tr>\n",
       "      <th>5</th>\n",
       "      <td>Red Fort New Delhi</td>\n",
       "      <td>Declared as the UNESCO’s World Heritage Site R...</td>\n",
       "      <td>http://www.puredestinations.co.uk/wp-content/u...</td>\n",
       "    </tr>\n",
       "    <tr>\n",
       "      <th>6</th>\n",
       "      <td>Hawa Mahal Jaipur</td>\n",
       "      <td>Explore a blend of beauty and Rajasthan cultur...</td>\n",
       "      <td>http://www.puredestinations.co.uk/wp-content/u...</td>\n",
       "    </tr>\n",
       "    <tr>\n",
       "      <th>7</th>\n",
       "      <td>Qutub Minar New Delhi</td>\n",
       "      <td>Discover one of the tallest towers in the worl...</td>\n",
       "      <td>http://www.puredestinations.co.uk/wp-content/u...</td>\n",
       "    </tr>\n",
       "    <tr>\n",
       "      <th>8</th>\n",
       "      <td>Sanchi Stupa Sanchi</td>\n",
       "      <td>The beautiful and massive dome Sanchi Stupa al...</td>\n",
       "      <td>http://www.puredestinations.co.uk/wp-content/u...</td>\n",
       "    </tr>\n",
       "    <tr>\n",
       "      <th>9</th>\n",
       "      <td>Charminar Hyderabad</td>\n",
       "      <td>No visit to Hyderabad should be complete witho...</td>\n",
       "      <td>http://www.puredestinations.co.uk/wp-content/u...</td>\n",
       "    </tr>\n",
       "  </tbody>\n",
       "</table>\n",
       "</div>"
      ],
      "text/plain": [
       "                                        Name  \\\n",
       "0                             Taj Mahal Agra   \n",
       "1  Golden Temple (Harmandir Sahib) Amritsar    \n",
       "2                   Meenakshi Temple Madurai   \n",
       "3                       Mysore Palace Mysore   \n",
       "4                    Gateway of India Mumbai   \n",
       "5                         Red Fort New Delhi   \n",
       "6                          Hawa Mahal Jaipur   \n",
       "7                      Qutub Minar New Delhi   \n",
       "8                        Sanchi Stupa Sanchi   \n",
       "9                        Charminar Hyderabad   \n",
       "\n",
       "                                         Description  \\\n",
       "0  Enlisted in the Seven Wonders of the World The...   \n",
       "1  The holiest shrine and pilgrimage place locate...   \n",
       "2  Meenakshi Temple is situated on the Southern b...   \n",
       "3  The Mysore Palace is a famous historical monum...   \n",
       "4  Even though Mumbai is famous for its Bollywood...   \n",
       "5  Declared as the UNESCO’s World Heritage Site R...   \n",
       "6  Explore a blend of beauty and Rajasthan cultur...   \n",
       "7  Discover one of the tallest towers in the worl...   \n",
       "8  The beautiful and massive dome Sanchi Stupa al...   \n",
       "9  No visit to Hyderabad should be complete witho...   \n",
       "\n",
       "                                           Image_url  \n",
       "0  http://www.puredestinations.co.uk/wp-content/u...  \n",
       "1  http://www.puredestinations.co.uk/wp-content/u...  \n",
       "2  http://www.puredestinations.co.uk/wp-content/u...  \n",
       "3  http://www.puredestinations.co.uk/wp-content/u...  \n",
       "4  http://www.puredestinations.co.uk/wp-content/u...  \n",
       "5  http://www.puredestinations.co.uk/wp-content/u...  \n",
       "6  http://www.puredestinations.co.uk/wp-content/u...  \n",
       "7  http://www.puredestinations.co.uk/wp-content/u...  \n",
       "8  http://www.puredestinations.co.uk/wp-content/u...  \n",
       "9  http://www.puredestinations.co.uk/wp-content/u...  "
      ]
     },
     "execution_count": 665,
     "metadata": {},
     "output_type": "execute_result"
    }
   ],
   "source": [
    "monuments=pd.DataFrame({'Name':name,\n",
    "             'Description':description,\n",
    "             'Image_url':url})\n",
    "monuments"
   ]
  }
 ],
 "metadata": {
  "kernelspec": {
   "display_name": "Python 3",
   "language": "python",
   "name": "python3"
  },
  "language_info": {
   "codemirror_mode": {
    "name": "ipython",
    "version": 3
   },
   "file_extension": ".py",
   "mimetype": "text/x-python",
   "name": "python",
   "nbconvert_exporter": "python",
   "pygments_lexer": "ipython3",
   "version": "3.8.5"
  }
 },
 "nbformat": 4,
 "nbformat_minor": 5
}
