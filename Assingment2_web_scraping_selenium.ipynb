{
 "cells": [
  {
   "cell_type": "code",
   "execution_count": 363,
   "id": "ed515916",
   "metadata": {},
   "outputs": [],
   "source": [
    "import selenium\n",
    "import pandas as pd\n",
    "from selenium import webdriver"
   ]
  },
  {
   "cell_type": "code",
   "execution_count": 536,
   "id": "4539ac21",
   "metadata": {},
   "outputs": [
    {
     "name": "stderr",
     "output_type": "stream",
     "text": [
      "<ipython-input-536-820e23d4c69e>:2: DeprecationWarning: executable_path has been deprecated, please pass in a Service object\n",
      "  driver=webdriver.Edge(r\"C:/Users/91945/Downloads/edgedriver_win64/msedgedriver.exe\")\n"
     ]
    }
   ],
   "source": [
    "#let's connect to web driver\n",
    "driver=webdriver.Edge(r\"C:/Users/91945/Downloads/edgedriver_win64/msedgedriver.exe\")"
   ]
  },
  {
   "cell_type": "markdown",
   "id": "6882618c",
   "metadata": {},
   "source": [
    "### Write a python program to scrape data for “Data Analyst” Job position in “Bangalore” location. You have to scrape the job-title, job-location, company_name, experience_required. You have to scrape first 10 jobs data"
   ]
  },
  {
   "cell_type": "code",
   "execution_count": 3,
   "id": "c5297a7e",
   "metadata": {},
   "outputs": [],
   "source": [
    "driver.get(\"https://www.naukri.com/\")"
   ]
  },
  {
   "cell_type": "code",
   "execution_count": 4,
   "id": "fb9e5f5e",
   "metadata": {},
   "outputs": [
    {
     "name": "stderr",
     "output_type": "stream",
     "text": [
      "<ipython-input-4-5a4a890fcb8f>:2: DeprecationWarning: find_element_by_* commands are deprecated. Please use find_element() instead\n",
      "  search_job=driver.find_element_by_id(\"qsb-keyword-sugg\")\n",
      "<ipython-input-4-5a4a890fcb8f>:4: DeprecationWarning: find_element_by_* commands are deprecated. Please use find_element() instead\n",
      "  search_loc=driver.find_element_by_xpath(\"//input[@id='qsb-location-sugg']\")\n"
     ]
    }
   ],
   "source": [
    "#finding elements for job search bar\n",
    "search_job=driver.find_element_by_id(\"qsb-keyword-sugg\")\n",
    "search_job.send_keys(\"Data Analyst\")\n",
    "search_loc=driver.find_element_by_xpath(\"//input[@id='qsb-location-sugg']\")\n",
    "search_loc.send_keys(\"Bangalore\")"
   ]
  },
  {
   "cell_type": "code",
   "execution_count": 5,
   "id": "3e230b01",
   "metadata": {},
   "outputs": [
    {
     "name": "stderr",
     "output_type": "stream",
     "text": [
      "<ipython-input-5-8db898a03ada>:1: DeprecationWarning: find_element_by_* commands are deprecated. Please use find_element() instead\n",
      "  search_btn=driver.find_element_by_xpath(\"//div[@class='search-btn']/button\")\n"
     ]
    }
   ],
   "source": [
    "search_btn=driver.find_element_by_xpath(\"//div[@class='search-btn']/button\")\n",
    "search_btn.click()"
   ]
  },
  {
   "cell_type": "code",
   "execution_count": 6,
   "id": "688d081a",
   "metadata": {},
   "outputs": [],
   "source": [
    "job_titles=[]\n",
    "company_names=[]\n",
    "location_lists=[]\n",
    "experience_lists=[]"
   ]
  },
  {
   "cell_type": "code",
   "execution_count": 9,
   "id": "8d35b43e",
   "metadata": {},
   "outputs": [
    {
     "name": "stderr",
     "output_type": "stream",
     "text": [
      "<ipython-input-9-58b664ebc773>:2: DeprecationWarning: find_elements_by_* commands are deprecated. Please use find_elements() instead\n",
      "  title_tags=driver.find_elements_by_xpath(\"//a[@class='title fw500 ellipsis']\")\n"
     ]
    },
    {
     "data": {
      "text/plain": [
       "[<selenium.webdriver.remote.webelement.WebElement (session=\"e7e6a503b398193b6ff23f3f738bfabd\", element=\"b6b43724-eca7-4990-a703-3fd9fa90e4cb\")>,\n",
       " <selenium.webdriver.remote.webelement.WebElement (session=\"e7e6a503b398193b6ff23f3f738bfabd\", element=\"d244a16c-52af-425d-8cca-a924f9d7101d\")>,\n",
       " <selenium.webdriver.remote.webelement.WebElement (session=\"e7e6a503b398193b6ff23f3f738bfabd\", element=\"6178c000-b741-4666-a17f-55f2ba82744f\")>,\n",
       " <selenium.webdriver.remote.webelement.WebElement (session=\"e7e6a503b398193b6ff23f3f738bfabd\", element=\"ecaa0331-83a5-44e2-9c0b-a59984775a10\")>,\n",
       " <selenium.webdriver.remote.webelement.WebElement (session=\"e7e6a503b398193b6ff23f3f738bfabd\", element=\"d908102d-0401-4149-b5d6-fa5d4ffd7167\")>,\n",
       " <selenium.webdriver.remote.webelement.WebElement (session=\"e7e6a503b398193b6ff23f3f738bfabd\", element=\"8307f0f4-3cf0-4533-8ad0-20456473200d\")>,\n",
       " <selenium.webdriver.remote.webelement.WebElement (session=\"e7e6a503b398193b6ff23f3f738bfabd\", element=\"4c2b2707-4ec8-4093-ad04-0ebf737864a6\")>,\n",
       " <selenium.webdriver.remote.webelement.WebElement (session=\"e7e6a503b398193b6ff23f3f738bfabd\", element=\"cfb1a9bb-808f-4400-b3b5-a781dd6109fc\")>,\n",
       " <selenium.webdriver.remote.webelement.WebElement (session=\"e7e6a503b398193b6ff23f3f738bfabd\", element=\"484785c5-6330-4500-9738-bc79592797c9\")>]"
      ]
     },
     "execution_count": 9,
     "metadata": {},
     "output_type": "execute_result"
    }
   ],
   "source": [
    "#extract all the tags having job titles\n",
    "title_tags=driver.find_elements_by_xpath(\"//a[@class='title fw500 ellipsis']\")\n",
    "title_tags[0:9]#scraping only first ten"
   ]
  },
  {
   "cell_type": "code",
   "execution_count": 12,
   "id": "b802d363",
   "metadata": {},
   "outputs": [
    {
     "data": {
      "text/plain": [
       "['Senior Data Analyst',\n",
       " 'Senior Data Analyst for HANA Platform',\n",
       " 'Data Analyst',\n",
       " 'Senior Data Analyst',\n",
       " 'Data Analyst',\n",
       " 'Data Analyst (On Contract)',\n",
       " 'Senior Data Analyst',\n",
       " 'Senior Associate- Data Analyst',\n",
       " 'Data Analyst']"
      ]
     },
     "execution_count": 12,
     "metadata": {},
     "output_type": "execute_result"
    }
   ],
   "source": [
    "for i in title_tags:\n",
    "    job_titles.append(i.text)\n",
    "job_titles[0:9]   "
   ]
  },
  {
   "cell_type": "code",
   "execution_count": 13,
   "id": "851c5fba",
   "metadata": {},
   "outputs": [
    {
     "name": "stderr",
     "output_type": "stream",
     "text": [
      "<ipython-input-13-02929576fe5f>:2: DeprecationWarning: find_elements_by_* commands are deprecated. Please use find_elements() instead\n",
      "  names_tags=driver.find_elements_by_xpath(\"//a[@class='subTitle ellipsis fleft']\")\n"
     ]
    },
    {
     "data": {
      "text/plain": [
       "[<selenium.webdriver.remote.webelement.WebElement (session=\"e7e6a503b398193b6ff23f3f738bfabd\", element=\"2865f1cd-3c9a-4967-9a4e-bcbcf6138e38\")>,\n",
       " <selenium.webdriver.remote.webelement.WebElement (session=\"e7e6a503b398193b6ff23f3f738bfabd\", element=\"66ee1ed1-78d1-4401-9e4f-3a803300f691\")>,\n",
       " <selenium.webdriver.remote.webelement.WebElement (session=\"e7e6a503b398193b6ff23f3f738bfabd\", element=\"eaa5fb96-96af-4881-8ac4-f149b2d73550\")>,\n",
       " <selenium.webdriver.remote.webelement.WebElement (session=\"e7e6a503b398193b6ff23f3f738bfabd\", element=\"495d685d-539c-415b-868c-402f778ed2c7\")>,\n",
       " <selenium.webdriver.remote.webelement.WebElement (session=\"e7e6a503b398193b6ff23f3f738bfabd\", element=\"ef06b618-a275-47d1-b917-6bc2fd979222\")>,\n",
       " <selenium.webdriver.remote.webelement.WebElement (session=\"e7e6a503b398193b6ff23f3f738bfabd\", element=\"cb0b77ab-e02d-4b5b-a6f4-43020edc8446\")>,\n",
       " <selenium.webdriver.remote.webelement.WebElement (session=\"e7e6a503b398193b6ff23f3f738bfabd\", element=\"d3dc63bd-8981-4eb7-8d57-f191864c7f16\")>,\n",
       " <selenium.webdriver.remote.webelement.WebElement (session=\"e7e6a503b398193b6ff23f3f738bfabd\", element=\"f80b4b73-7935-463e-a33a-0fadea66c8a8\")>,\n",
       " <selenium.webdriver.remote.webelement.WebElement (session=\"e7e6a503b398193b6ff23f3f738bfabd\", element=\"7238c6b4-9f63-4c65-99a3-7150b8f39237\")>]"
      ]
     },
     "execution_count": 13,
     "metadata": {},
     "output_type": "execute_result"
    }
   ],
   "source": [
    "#extract all the tags having company names\n",
    "names_tags=driver.find_elements_by_xpath(\"//a[@class='subTitle ellipsis fleft']\")\n",
    "names_tags[0:9]#scraping only first four"
   ]
  },
  {
   "cell_type": "code",
   "execution_count": 14,
   "id": "09557625",
   "metadata": {},
   "outputs": [
    {
     "data": {
      "text/plain": [
       "['Flipkart',\n",
       " 'Intel',\n",
       " 'Slice',\n",
       " 'Flipkart',\n",
       " 'GlaxoSmithKline Pharmaceuticals Limited',\n",
       " 'Rupeek Fintech Pvt Ltd',\n",
       " 'ExecBoardinAsia',\n",
       " 'Sapient',\n",
       " 'CINDREBAY SCHOOL OF FASHION & INTERIOR DESIGN']"
      ]
     },
     "execution_count": 14,
     "metadata": {},
     "output_type": "execute_result"
    }
   ],
   "source": [
    "#we will use for loop to extract compony name from name tag\n",
    "for i in names_tags:\n",
    "    coy_name=i.text\n",
    "    company_names.append(coy_name)\n",
    "company_names[0:9]"
   ]
  },
  {
   "cell_type": "code",
   "execution_count": 15,
   "id": "687b6449",
   "metadata": {},
   "outputs": [
    {
     "name": "stderr",
     "output_type": "stream",
     "text": [
      "<ipython-input-15-5f658aa40ef1>:1: DeprecationWarning: find_elements_by_* commands are deprecated. Please use find_elements() instead\n",
      "  loc_tags=driver.find_elements_by_xpath(\"//li[@class='fleft grey-text br2 placeHolderLi location']/span[1]\")\n"
     ]
    }
   ],
   "source": [
    "loc_tags=driver.find_elements_by_xpath(\"//li[@class='fleft grey-text br2 placeHolderLi location']/span[1]\")"
   ]
  },
  {
   "cell_type": "code",
   "execution_count": 24,
   "id": "466b297c",
   "metadata": {},
   "outputs": [
    {
     "data": {
      "text/plain": [
       "['Bangalore/Bengaluru',\n",
       " 'Bangalore/Bengaluru',\n",
       " 'Bangalore/Bengaluru',\n",
       " 'Bengaluru/Bangalore',\n",
       " 'Bangalore/Bengaluru',\n",
       " 'Bangalore/Bengaluru',\n",
       " 'Bangalore/Bengaluru',\n",
       " 'Bangalore/Bengaluru',\n",
       " 'Hyderabad/Secunderabad, Coimbatore, Thodupuzha, Trivandrum/Thiruvananthapuram, Kochi/Cochin, Kolkata, Cannanore/Kannur, Indore, Nagpur, Pune, Lucknow, Calicut/Kozhikode, Bangalore/Bengaluru']"
      ]
     },
     "execution_count": 24,
     "metadata": {},
     "output_type": "execute_result"
    }
   ],
   "source": [
    "for i in loc_tags:\n",
    "    loc=i.text\n",
    "    location_lists.append(loc)\n",
    "\n",
    "location_lists[0:9]"
   ]
  },
  {
   "cell_type": "code",
   "execution_count": 19,
   "id": "87b5f425",
   "metadata": {},
   "outputs": [
    {
     "name": "stderr",
     "output_type": "stream",
     "text": [
      "<ipython-input-19-137eff13da0a>:1: DeprecationWarning: find_elements_by_* commands are deprecated. Please use find_elements() instead\n",
      "  exp_tags=driver.find_elements_by_xpath(\"//li[@class='fleft grey-text br2 placeHolderLi experience']/span[1]\")\n"
     ]
    }
   ],
   "source": [
    "exp_tags=driver.find_elements_by_xpath(\"//li[@class='fleft grey-text br2 placeHolderLi experience']/span[1]\")"
   ]
  },
  {
   "cell_type": "code",
   "execution_count": 20,
   "id": "b5b5a878",
   "metadata": {},
   "outputs": [
    {
     "data": {
      "text/plain": [
       "['3-7 Yrs',\n",
       " '5-10 Yrs',\n",
       " '0-2 Yrs',\n",
       " '4-5 Yrs',\n",
       " '2-5 Yrs',\n",
       " '0-2 Yrs',\n",
       " '5-10 Yrs',\n",
       " '4-9 Yrs',\n",
       " '1-4 Yrs']"
      ]
     },
     "execution_count": 20,
     "metadata": {},
     "output_type": "execute_result"
    }
   ],
   "source": [
    "for i in exp_tags:\n",
    "    exp=i.text\n",
    "    experience_lists.append(exp)\n",
    "experience_lists[0:9]"
   ]
  },
  {
   "cell_type": "code",
   "execution_count": 26,
   "id": "44ca9634",
   "metadata": {},
   "outputs": [
    {
     "data": {
      "text/html": [
       "<div>\n",
       "<style scoped>\n",
       "    .dataframe tbody tr th:only-of-type {\n",
       "        vertical-align: middle;\n",
       "    }\n",
       "\n",
       "    .dataframe tbody tr th {\n",
       "        vertical-align: top;\n",
       "    }\n",
       "\n",
       "    .dataframe thead th {\n",
       "        text-align: right;\n",
       "    }\n",
       "</style>\n",
       "<table border=\"1\" class=\"dataframe\">\n",
       "  <thead>\n",
       "    <tr style=\"text-align: right;\">\n",
       "      <th></th>\n",
       "      <th>Job Title</th>\n",
       "      <th>Company</th>\n",
       "      <th>Location</th>\n",
       "      <th>Experience</th>\n",
       "    </tr>\n",
       "  </thead>\n",
       "  <tbody>\n",
       "    <tr>\n",
       "      <th>0</th>\n",
       "      <td>Senior Data Analyst</td>\n",
       "      <td>Flipkart</td>\n",
       "      <td>Bangalore/Bengaluru</td>\n",
       "      <td>3-7 Yrs</td>\n",
       "    </tr>\n",
       "    <tr>\n",
       "      <th>1</th>\n",
       "      <td>Senior Data Analyst for HANA Platform</td>\n",
       "      <td>Intel</td>\n",
       "      <td>Bangalore/Bengaluru</td>\n",
       "      <td>5-10 Yrs</td>\n",
       "    </tr>\n",
       "    <tr>\n",
       "      <th>2</th>\n",
       "      <td>Data Analyst</td>\n",
       "      <td>Slice</td>\n",
       "      <td>Bangalore/Bengaluru</td>\n",
       "      <td>0-2 Yrs</td>\n",
       "    </tr>\n",
       "    <tr>\n",
       "      <th>3</th>\n",
       "      <td>Senior Data Analyst</td>\n",
       "      <td>Flipkart</td>\n",
       "      <td>Bengaluru/Bangalore</td>\n",
       "      <td>4-5 Yrs</td>\n",
       "    </tr>\n",
       "    <tr>\n",
       "      <th>4</th>\n",
       "      <td>Data Analyst</td>\n",
       "      <td>GlaxoSmithKline Pharmaceuticals Limited</td>\n",
       "      <td>Bangalore/Bengaluru</td>\n",
       "      <td>2-5 Yrs</td>\n",
       "    </tr>\n",
       "    <tr>\n",
       "      <th>5</th>\n",
       "      <td>Data Analyst (On Contract)</td>\n",
       "      <td>Rupeek Fintech Pvt Ltd</td>\n",
       "      <td>Bangalore/Bengaluru</td>\n",
       "      <td>0-2 Yrs</td>\n",
       "    </tr>\n",
       "    <tr>\n",
       "      <th>6</th>\n",
       "      <td>Senior Data Analyst</td>\n",
       "      <td>ExecBoardinAsia</td>\n",
       "      <td>Bangalore/Bengaluru</td>\n",
       "      <td>5-10 Yrs</td>\n",
       "    </tr>\n",
       "    <tr>\n",
       "      <th>7</th>\n",
       "      <td>Senior Associate- Data Analyst</td>\n",
       "      <td>Sapient</td>\n",
       "      <td>Bangalore/Bengaluru</td>\n",
       "      <td>4-9 Yrs</td>\n",
       "    </tr>\n",
       "    <tr>\n",
       "      <th>8</th>\n",
       "      <td>Data Analyst</td>\n",
       "      <td>CINDREBAY SCHOOL OF FASHION &amp; INTERIOR DESIGN</td>\n",
       "      <td>Hyderabad/Secunderabad, Coimbatore, Thodupuzha...</td>\n",
       "      <td>1-4 Yrs</td>\n",
       "    </tr>\n",
       "  </tbody>\n",
       "</table>\n",
       "</div>"
      ],
      "text/plain": [
       "                               Job Title  \\\n",
       "0                    Senior Data Analyst   \n",
       "1  Senior Data Analyst for HANA Platform   \n",
       "2                           Data Analyst   \n",
       "3                    Senior Data Analyst   \n",
       "4                           Data Analyst   \n",
       "5             Data Analyst (On Contract)   \n",
       "6                    Senior Data Analyst   \n",
       "7         Senior Associate- Data Analyst   \n",
       "8                           Data Analyst   \n",
       "\n",
       "                                         Company  \\\n",
       "0                                       Flipkart   \n",
       "1                                          Intel   \n",
       "2                                          Slice   \n",
       "3                                       Flipkart   \n",
       "4        GlaxoSmithKline Pharmaceuticals Limited   \n",
       "5                         Rupeek Fintech Pvt Ltd   \n",
       "6                                ExecBoardinAsia   \n",
       "7                                        Sapient   \n",
       "8  CINDREBAY SCHOOL OF FASHION & INTERIOR DESIGN   \n",
       "\n",
       "                                            Location Experience  \n",
       "0                                Bangalore/Bengaluru    3-7 Yrs  \n",
       "1                                Bangalore/Bengaluru   5-10 Yrs  \n",
       "2                                Bangalore/Bengaluru    0-2 Yrs  \n",
       "3                                Bengaluru/Bangalore    4-5 Yrs  \n",
       "4                                Bangalore/Bengaluru    2-5 Yrs  \n",
       "5                                Bangalore/Bengaluru    0-2 Yrs  \n",
       "6                                Bangalore/Bengaluru   5-10 Yrs  \n",
       "7                                Bangalore/Bengaluru    4-9 Yrs  \n",
       "8  Hyderabad/Secunderabad, Coimbatore, Thodupuzha...    1-4 Yrs  "
      ]
     },
     "execution_count": 26,
     "metadata": {},
     "output_type": "execute_result"
    }
   ],
   "source": [
    "df=pd.DataFrame({'Job Title':job_titles[0:9],\n",
    "             \"Company\":company_names[0:9],\n",
    "             \"Location\":location_lists[0:9],\n",
    "             'Experience':experience_lists[0:9]})\n",
    "df"
   ]
  },
  {
   "cell_type": "markdown",
   "id": "5a4122e8",
   "metadata": {},
   "source": [
    "### Write a python program to scrape data for “Data Scientist” Job position in “Bangalore” location. You have to scrape the job-title, job-location, company_name. You have to scrape first 10 jobs data. his task will be done in following steps: "
   ]
  },
  {
   "cell_type": "code",
   "execution_count": 38,
   "id": "1dcbb827",
   "metadata": {},
   "outputs": [],
   "source": [
    "driver.get(\"https://www.naukri.com/data-scientist-jobs-in-bangalore-bengaluru?k=data%20scientist&l=bangalore%2Fbengaluru\")"
   ]
  },
  {
   "cell_type": "code",
   "execution_count": 53,
   "id": "2af6fa3a",
   "metadata": {},
   "outputs": [],
   "source": [
    "job_title=[]\n",
    "company_name=[]\n",
    "location_list=[]\n",
    "experience_list=[]"
   ]
  },
  {
   "cell_type": "code",
   "execution_count": 48,
   "id": "3a6bbd03",
   "metadata": {},
   "outputs": [
    {
     "name": "stderr",
     "output_type": "stream",
     "text": [
      "<ipython-input-48-9baf80cd971d>:1: DeprecationWarning: find_elements_by_* commands are deprecated. Please use find_elements() instead\n",
      "  title_tags=driver.find_elements_by_xpath(\"//a[@class='title fw500 ellipsis']\")\n"
     ]
    },
    {
     "data": {
      "text/plain": [
       "[<selenium.webdriver.remote.webelement.WebElement (session=\"f1cb36757af55051537571dcc908aa53\", element=\"6964a78f-65de-46e8-972d-fb2433de396d\")>,\n",
       " <selenium.webdriver.remote.webelement.WebElement (session=\"f1cb36757af55051537571dcc908aa53\", element=\"47bfb45c-f2ce-4069-93ad-fea4c5d8a165\")>,\n",
       " <selenium.webdriver.remote.webelement.WebElement (session=\"f1cb36757af55051537571dcc908aa53\", element=\"c51798af-a5ae-48a4-a86b-6ec7bea44075\")>,\n",
       " <selenium.webdriver.remote.webelement.WebElement (session=\"f1cb36757af55051537571dcc908aa53\", element=\"bc2516c7-8be2-456a-8d84-cf2c5317228c\")>,\n",
       " <selenium.webdriver.remote.webelement.WebElement (session=\"f1cb36757af55051537571dcc908aa53\", element=\"dbb8a715-c9d6-49fe-acd9-dc5840ee8964\")>,\n",
       " <selenium.webdriver.remote.webelement.WebElement (session=\"f1cb36757af55051537571dcc908aa53\", element=\"02103a39-b118-40e6-8e05-f7b713c26a52\")>,\n",
       " <selenium.webdriver.remote.webelement.WebElement (session=\"f1cb36757af55051537571dcc908aa53\", element=\"8405adf6-2d22-452b-8f1c-5d607c36e046\")>,\n",
       " <selenium.webdriver.remote.webelement.WebElement (session=\"f1cb36757af55051537571dcc908aa53\", element=\"2b42cbf4-9ca7-44bb-ada5-19bff59b547b\")>,\n",
       " <selenium.webdriver.remote.webelement.WebElement (session=\"f1cb36757af55051537571dcc908aa53\", element=\"eda9f2fd-e0ff-4709-8007-48ed0368c660\")>]"
      ]
     },
     "execution_count": 48,
     "metadata": {},
     "output_type": "execute_result"
    }
   ],
   "source": [
    "title_tags=driver.find_elements_by_xpath(\"//a[@class='title fw500 ellipsis']\")\n",
    "title_tags[0:9]#scraping only first ten"
   ]
  },
  {
   "cell_type": "code",
   "execution_count": 69,
   "id": "0124016d",
   "metadata": {},
   "outputs": [
    {
     "data": {
      "text/plain": [
       "9"
      ]
     },
     "execution_count": 69,
     "metadata": {},
     "output_type": "execute_result"
    }
   ],
   "source": [
    "for i in title_tags:\n",
    "    job_title.append(i.text)\n",
    "len(job_title[0:9])   "
   ]
  },
  {
   "cell_type": "code",
   "execution_count": 55,
   "id": "46db4fb6",
   "metadata": {},
   "outputs": [
    {
     "name": "stderr",
     "output_type": "stream",
     "text": [
      "<ipython-input-55-89c4431fdd28>:1: DeprecationWarning: find_elements_by_* commands are deprecated. Please use find_elements() instead\n",
      "  names_tags=driver.find_elements_by_xpath(\"//a[@class='subTitle ellipsis fleft']\")\n"
     ]
    },
    {
     "data": {
      "text/plain": [
       "[<selenium.webdriver.remote.webelement.WebElement (session=\"f1cb36757af55051537571dcc908aa53\", element=\"46332a32-7c9e-47e0-8d8d-2055ff8a7412\")>,\n",
       " <selenium.webdriver.remote.webelement.WebElement (session=\"f1cb36757af55051537571dcc908aa53\", element=\"b4f60e02-8cd7-4272-ada1-d5a57132257e\")>,\n",
       " <selenium.webdriver.remote.webelement.WebElement (session=\"f1cb36757af55051537571dcc908aa53\", element=\"00c49357-feda-485e-ae2f-5e1257d9e42e\")>,\n",
       " <selenium.webdriver.remote.webelement.WebElement (session=\"f1cb36757af55051537571dcc908aa53\", element=\"4cc2f496-59ba-45b5-bc5d-8c8124e03529\")>,\n",
       " <selenium.webdriver.remote.webelement.WebElement (session=\"f1cb36757af55051537571dcc908aa53\", element=\"8c369ce6-a20a-477b-9199-592606318f5d\")>,\n",
       " <selenium.webdriver.remote.webelement.WebElement (session=\"f1cb36757af55051537571dcc908aa53\", element=\"9addec40-9fb4-461a-b113-2e1011cfd6ce\")>,\n",
       " <selenium.webdriver.remote.webelement.WebElement (session=\"f1cb36757af55051537571dcc908aa53\", element=\"d304d338-aac7-49df-873a-028e5e105434\")>,\n",
       " <selenium.webdriver.remote.webelement.WebElement (session=\"f1cb36757af55051537571dcc908aa53\", element=\"5cf7b21b-062e-480f-aba7-db1b93d315fc\")>,\n",
       " <selenium.webdriver.remote.webelement.WebElement (session=\"f1cb36757af55051537571dcc908aa53\", element=\"2c364c30-3753-44a8-9b41-a48e3f492caa\")>]"
      ]
     },
     "execution_count": 55,
     "metadata": {},
     "output_type": "execute_result"
    }
   ],
   "source": [
    "names_tags=driver.find_elements_by_xpath(\"//a[@class='subTitle ellipsis fleft']\")\n",
    "names_tags[0:9]"
   ]
  },
  {
   "cell_type": "code",
   "execution_count": 68,
   "id": "f1caa39f",
   "metadata": {},
   "outputs": [
    {
     "data": {
      "text/plain": [
       "9"
      ]
     },
     "execution_count": 68,
     "metadata": {},
     "output_type": "execute_result"
    }
   ],
   "source": [
    "for i in names_tags:\n",
    "    company_name.append(i.text)\n",
    "len(company_name[0:9])    "
   ]
  },
  {
   "cell_type": "code",
   "execution_count": 57,
   "id": "0cb59f79",
   "metadata": {},
   "outputs": [
    {
     "name": "stderr",
     "output_type": "stream",
     "text": [
      "<ipython-input-57-5f658aa40ef1>:1: DeprecationWarning: find_elements_by_* commands are deprecated. Please use find_elements() instead\n",
      "  loc_tags=driver.find_elements_by_xpath(\"//li[@class='fleft grey-text br2 placeHolderLi location']/span[1]\")\n"
     ]
    }
   ],
   "source": [
    "loc_tags=driver.find_elements_by_xpath(\"//li[@class='fleft grey-text br2 placeHolderLi location']/span[1]\")"
   ]
  },
  {
   "cell_type": "code",
   "execution_count": 67,
   "id": "e5b500fd",
   "metadata": {},
   "outputs": [
    {
     "data": {
      "text/plain": [
       "9"
      ]
     },
     "execution_count": 67,
     "metadata": {},
     "output_type": "execute_result"
    }
   ],
   "source": [
    "for i in loc_tags:\n",
    "    loc=i.text\n",
    "    location_list.append(loc)\n",
    "\n",
    "len(location_list[0:9])"
   ]
  },
  {
   "cell_type": "code",
   "execution_count": 59,
   "id": "aa80390a",
   "metadata": {},
   "outputs": [
    {
     "name": "stderr",
     "output_type": "stream",
     "text": [
      "<ipython-input-59-137eff13da0a>:1: DeprecationWarning: find_elements_by_* commands are deprecated. Please use find_elements() instead\n",
      "  exp_tags=driver.find_elements_by_xpath(\"//li[@class='fleft grey-text br2 placeHolderLi experience']/span[1]\")\n"
     ]
    }
   ],
   "source": [
    "exp_tags=driver.find_elements_by_xpath(\"//li[@class='fleft grey-text br2 placeHolderLi experience']/span[1]\")"
   ]
  },
  {
   "cell_type": "code",
   "execution_count": 66,
   "id": "5ddc15c5",
   "metadata": {},
   "outputs": [
    {
     "data": {
      "text/plain": [
       "9"
      ]
     },
     "execution_count": 66,
     "metadata": {},
     "output_type": "execute_result"
    }
   ],
   "source": [
    "for i in exp_tags:\n",
    "    exp=i.text\n",
    "    experience_list.append(exp)\n",
    "len(experience_list[0:9])"
   ]
  },
  {
   "cell_type": "code",
   "execution_count": 70,
   "id": "fb068609",
   "metadata": {},
   "outputs": [
    {
     "data": {
      "text/html": [
       "<div>\n",
       "<style scoped>\n",
       "    .dataframe tbody tr th:only-of-type {\n",
       "        vertical-align: middle;\n",
       "    }\n",
       "\n",
       "    .dataframe tbody tr th {\n",
       "        vertical-align: top;\n",
       "    }\n",
       "\n",
       "    .dataframe thead th {\n",
       "        text-align: right;\n",
       "    }\n",
       "</style>\n",
       "<table border=\"1\" class=\"dataframe\">\n",
       "  <thead>\n",
       "    <tr style=\"text-align: right;\">\n",
       "      <th></th>\n",
       "      <th>Job Title</th>\n",
       "      <th>Company</th>\n",
       "      <th>Location</th>\n",
       "      <th>Experience</th>\n",
       "    </tr>\n",
       "  </thead>\n",
       "  <tbody>\n",
       "    <tr>\n",
       "      <th>0</th>\n",
       "      <td>Lead/Senior Data Scientist (NLP)</td>\n",
       "      <td>Samya.AI A FRACTAL Entity</td>\n",
       "      <td>Bangalore/Bengaluru</td>\n",
       "      <td>3-8 Yrs</td>\n",
       "    </tr>\n",
       "    <tr>\n",
       "      <th>1</th>\n",
       "      <td>Data Scientist: Advanced Analytics</td>\n",
       "      <td>IBM India Pvt. Limited</td>\n",
       "      <td>Bengaluru/Bangalore</td>\n",
       "      <td>5-7 Yrs</td>\n",
       "    </tr>\n",
       "    <tr>\n",
       "      <th>2</th>\n",
       "      <td>Senior Engineer - AIML - Data Scientist</td>\n",
       "      <td>Unisys</td>\n",
       "      <td>Bangalore/Bengaluru</td>\n",
       "      <td>4-9 Yrs</td>\n",
       "    </tr>\n",
       "    <tr>\n",
       "      <th>3</th>\n",
       "      <td>Lead Data Scientist</td>\n",
       "      <td>Groww</td>\n",
       "      <td>Palani, Bangalore/Bengaluru</td>\n",
       "      <td>6-10 Yrs</td>\n",
       "    </tr>\n",
       "    <tr>\n",
       "      <th>4</th>\n",
       "      <td>Jr. Data Analyst/ Jr. Data Scientist</td>\n",
       "      <td>Sejal Consulting Hub</td>\n",
       "      <td>Hyderabad/Secunderabad, Bangalore/Bengaluru, M...</td>\n",
       "      <td>0-5 Yrs</td>\n",
       "    </tr>\n",
       "    <tr>\n",
       "      <th>5</th>\n",
       "      <td>Senior Data Scientist</td>\n",
       "      <td>Wipro</td>\n",
       "      <td>Pune, Bangalore/Bengaluru, Delhi / NCR</td>\n",
       "      <td>4-9 Yrs</td>\n",
       "    </tr>\n",
       "    <tr>\n",
       "      <th>6</th>\n",
       "      <td>Cognitive/AI Senior Data Scientist</td>\n",
       "      <td>IBM India Pvt. Limited</td>\n",
       "      <td>Bengaluru/Bangalore</td>\n",
       "      <td>4-8 Yrs</td>\n",
       "    </tr>\n",
       "    <tr>\n",
       "      <th>7</th>\n",
       "      <td>Senior Data Scientist</td>\n",
       "      <td>Wipro</td>\n",
       "      <td>Kolkata, Hyderabad/Secunderabad, Pune, Chennai...</td>\n",
       "      <td>5-10 Yrs</td>\n",
       "    </tr>\n",
       "    <tr>\n",
       "      <th>8</th>\n",
       "      <td>Lead Programmer - Data Scientist</td>\n",
       "      <td>GlaxoSmithKline Pharmaceuticals Limited</td>\n",
       "      <td>Bangalore/Bengaluru</td>\n",
       "      <td>3-8 Yrs</td>\n",
       "    </tr>\n",
       "  </tbody>\n",
       "</table>\n",
       "</div>"
      ],
      "text/plain": [
       "                                 Job Title  \\\n",
       "0         Lead/Senior Data Scientist (NLP)   \n",
       "1       Data Scientist: Advanced Analytics   \n",
       "2  Senior Engineer - AIML - Data Scientist   \n",
       "3                      Lead Data Scientist   \n",
       "4     Jr. Data Analyst/ Jr. Data Scientist   \n",
       "5                    Senior Data Scientist   \n",
       "6       Cognitive/AI Senior Data Scientist   \n",
       "7                    Senior Data Scientist   \n",
       "8         Lead Programmer - Data Scientist   \n",
       "\n",
       "                                   Company  \\\n",
       "0                Samya.AI A FRACTAL Entity   \n",
       "1                   IBM India Pvt. Limited   \n",
       "2                                   Unisys   \n",
       "3                                    Groww   \n",
       "4                     Sejal Consulting Hub   \n",
       "5                                    Wipro   \n",
       "6                   IBM India Pvt. Limited   \n",
       "7                                    Wipro   \n",
       "8  GlaxoSmithKline Pharmaceuticals Limited   \n",
       "\n",
       "                                            Location Experience  \n",
       "0                                Bangalore/Bengaluru    3-8 Yrs  \n",
       "1                                Bengaluru/Bangalore    5-7 Yrs  \n",
       "2                                Bangalore/Bengaluru    4-9 Yrs  \n",
       "3                        Palani, Bangalore/Bengaluru   6-10 Yrs  \n",
       "4  Hyderabad/Secunderabad, Bangalore/Bengaluru, M...    0-5 Yrs  \n",
       "5             Pune, Bangalore/Bengaluru, Delhi / NCR    4-9 Yrs  \n",
       "6                                Bengaluru/Bangalore    4-8 Yrs  \n",
       "7  Kolkata, Hyderabad/Secunderabad, Pune, Chennai...   5-10 Yrs  \n",
       "8                                Bangalore/Bengaluru    3-8 Yrs  "
      ]
     },
     "execution_count": 70,
     "metadata": {},
     "output_type": "execute_result"
    }
   ],
   "source": [
    "df=pd.DataFrame({'Job Title':job_title[0:9],\n",
    "             \"Company\":company_name[0:9],\n",
    "             \"Location\":location_list[0:9],\n",
    "             'Experience':experience_list[0:9]})\n",
    "df"
   ]
  },
  {
   "cell_type": "markdown",
   "id": "fd26879c",
   "metadata": {},
   "source": [
    "### You have to use the location and salary filter. You have to scrape data for “Data Scientist” designation for first 10 job results. You have to scrape the job-title, job-location, company name, experience required. The location filter to be used is “Delhi/NCR” The salary filter to be used is “3-6” lakhs"
   ]
  },
  {
   "cell_type": "code",
   "execution_count": 71,
   "id": "4e2198ea",
   "metadata": {},
   "outputs": [],
   "source": [
    "driver.get(\"https://www.naukri.com/data-scientist-jobs-in-bangalore-bengaluru?k=data%20scientist&l=bangalore%2Fbengaluru&cityTypeGid=97&ctcFilter=3to6\")"
   ]
  },
  {
   "cell_type": "code",
   "execution_count": 72,
   "id": "cca5bbbf",
   "metadata": {},
   "outputs": [],
   "source": [
    "job=[]\n",
    "company=[]\n",
    "location=[]\n",
    "experience=[]"
   ]
  },
  {
   "cell_type": "code",
   "execution_count": 73,
   "id": "1235cf38",
   "metadata": {},
   "outputs": [
    {
     "name": "stderr",
     "output_type": "stream",
     "text": [
      "<ipython-input-73-9baf80cd971d>:1: DeprecationWarning: find_elements_by_* commands are deprecated. Please use find_elements() instead\n",
      "  title_tags=driver.find_elements_by_xpath(\"//a[@class='title fw500 ellipsis']\")\n"
     ]
    },
    {
     "data": {
      "text/plain": [
       "[<selenium.webdriver.remote.webelement.WebElement (session=\"f1cb36757af55051537571dcc908aa53\", element=\"a6455bc7-7c22-4014-b2a5-8d1986058ecf\")>,\n",
       " <selenium.webdriver.remote.webelement.WebElement (session=\"f1cb36757af55051537571dcc908aa53\", element=\"c5251296-c3d6-4b5f-933a-7d864378f42e\")>,\n",
       " <selenium.webdriver.remote.webelement.WebElement (session=\"f1cb36757af55051537571dcc908aa53\", element=\"afd4692c-96f2-4cd8-8e9b-b7a1249eed20\")>,\n",
       " <selenium.webdriver.remote.webelement.WebElement (session=\"f1cb36757af55051537571dcc908aa53\", element=\"84e7b00b-a7f5-44a0-ba22-ec306aa8d314\")>,\n",
       " <selenium.webdriver.remote.webelement.WebElement (session=\"f1cb36757af55051537571dcc908aa53\", element=\"4995143b-b43b-47d7-b4cb-fc8800b393bd\")>,\n",
       " <selenium.webdriver.remote.webelement.WebElement (session=\"f1cb36757af55051537571dcc908aa53\", element=\"79d65206-8b91-4d30-a6c0-f87430e77ada\")>,\n",
       " <selenium.webdriver.remote.webelement.WebElement (session=\"f1cb36757af55051537571dcc908aa53\", element=\"e8f8f81a-722c-434f-8530-921c9ffc20b2\")>,\n",
       " <selenium.webdriver.remote.webelement.WebElement (session=\"f1cb36757af55051537571dcc908aa53\", element=\"b6c03364-cac1-4ebc-bb69-ab7f17280eaf\")>,\n",
       " <selenium.webdriver.remote.webelement.WebElement (session=\"f1cb36757af55051537571dcc908aa53\", element=\"d459e1e9-0786-472d-912b-771189a0cb4c\")>]"
      ]
     },
     "execution_count": 73,
     "metadata": {},
     "output_type": "execute_result"
    }
   ],
   "source": [
    "title_tags=driver.find_elements_by_xpath(\"//a[@class='title fw500 ellipsis']\")\n",
    "title_tags[0:9]#scraping only first ten"
   ]
  },
  {
   "cell_type": "code",
   "execution_count": 75,
   "id": "58896b07",
   "metadata": {},
   "outputs": [
    {
     "data": {
      "text/plain": [
       "['Jr. Data Analyst/ Jr. Data Scientist',\n",
       " 'Opportunity For Data Scientist - Analytics',\n",
       " 'Jr. Data Scientist',\n",
       " 'Tcs Hiring For Data Scientist (Python GCP)',\n",
       " 'DG - Business Analyst - Data Scientist',\n",
       " 'Sr. Data Scientist / Data Scientist For Bangalore Location',\n",
       " 'Data Scientist',\n",
       " 'Hiring For Data Scientist',\n",
       " 'Data Scientist']"
      ]
     },
     "execution_count": 75,
     "metadata": {},
     "output_type": "execute_result"
    }
   ],
   "source": [
    "for i in title_tags:\n",
    "    job.append(i.text)\n",
    "job[0:9]"
   ]
  },
  {
   "cell_type": "code",
   "execution_count": 76,
   "id": "43775509",
   "metadata": {},
   "outputs": [
    {
     "name": "stderr",
     "output_type": "stream",
     "text": [
      "<ipython-input-76-89c4431fdd28>:1: DeprecationWarning: find_elements_by_* commands are deprecated. Please use find_elements() instead\n",
      "  names_tags=driver.find_elements_by_xpath(\"//a[@class='subTitle ellipsis fleft']\")\n"
     ]
    },
    {
     "data": {
      "text/plain": [
       "[<selenium.webdriver.remote.webelement.WebElement (session=\"f1cb36757af55051537571dcc908aa53\", element=\"e96a5bfd-3ce0-4bf6-9f00-00535f988d50\")>,\n",
       " <selenium.webdriver.remote.webelement.WebElement (session=\"f1cb36757af55051537571dcc908aa53\", element=\"a46a274c-fd69-442a-b77c-94c0a36ec7aa\")>,\n",
       " <selenium.webdriver.remote.webelement.WebElement (session=\"f1cb36757af55051537571dcc908aa53\", element=\"03503fa9-5deb-4395-8c7b-107e4b3b8dea\")>,\n",
       " <selenium.webdriver.remote.webelement.WebElement (session=\"f1cb36757af55051537571dcc908aa53\", element=\"e28436aa-c83b-44a7-be0c-d9e15af9c16c\")>,\n",
       " <selenium.webdriver.remote.webelement.WebElement (session=\"f1cb36757af55051537571dcc908aa53\", element=\"d2e2175a-41a7-451e-a7f0-a31c65da2ef9\")>,\n",
       " <selenium.webdriver.remote.webelement.WebElement (session=\"f1cb36757af55051537571dcc908aa53\", element=\"ba240c13-2995-4268-8eb7-fc8c5ab2ed6a\")>,\n",
       " <selenium.webdriver.remote.webelement.WebElement (session=\"f1cb36757af55051537571dcc908aa53\", element=\"54cc1997-599f-4bf5-b61a-c6e5dc553a3a\")>,\n",
       " <selenium.webdriver.remote.webelement.WebElement (session=\"f1cb36757af55051537571dcc908aa53\", element=\"1b319c6d-0a1c-4bec-869e-68d3b8b3ef75\")>,\n",
       " <selenium.webdriver.remote.webelement.WebElement (session=\"f1cb36757af55051537571dcc908aa53\", element=\"1f75d851-5d93-46d2-bc12-d7321b5bff57\")>]"
      ]
     },
     "execution_count": 76,
     "metadata": {},
     "output_type": "execute_result"
    }
   ],
   "source": [
    "names_tags=driver.find_elements_by_xpath(\"//a[@class='subTitle ellipsis fleft']\")\n",
    "names_tags[0:9]"
   ]
  },
  {
   "cell_type": "code",
   "execution_count": 77,
   "id": "0bd055c0",
   "metadata": {},
   "outputs": [
    {
     "data": {
      "text/plain": [
       "['Sejal Consulting Hub',\n",
       " 'Firstsource Solutions Limited',\n",
       " 'Rubixe (A brand under Think Ahead Innovations Pvt Ltd)',\n",
       " 'Tata Consultancy Services Ltd.',\n",
       " 'Genpact',\n",
       " 'mPokket',\n",
       " 'Klub',\n",
       " 'Tata Consultancy Services Ltd.',\n",
       " 'Tata Consultancy Services Ltd.']"
      ]
     },
     "execution_count": 77,
     "metadata": {},
     "output_type": "execute_result"
    }
   ],
   "source": [
    "for i in names_tags:\n",
    "    company.append(i.text)\n",
    "company[0:9]    "
   ]
  },
  {
   "cell_type": "code",
   "execution_count": 78,
   "id": "591e2808",
   "metadata": {},
   "outputs": [
    {
     "name": "stderr",
     "output_type": "stream",
     "text": [
      "<ipython-input-78-5f658aa40ef1>:1: DeprecationWarning: find_elements_by_* commands are deprecated. Please use find_elements() instead\n",
      "  loc_tags=driver.find_elements_by_xpath(\"//li[@class='fleft grey-text br2 placeHolderLi location']/span[1]\")\n"
     ]
    }
   ],
   "source": [
    "loc_tags=driver.find_elements_by_xpath(\"//li[@class='fleft grey-text br2 placeHolderLi location']/span[1]\")"
   ]
  },
  {
   "cell_type": "code",
   "execution_count": 79,
   "id": "28e862ed",
   "metadata": {},
   "outputs": [
    {
     "data": {
      "text/plain": [
       "['Hyderabad/Secunderabad, Bangalore/Bengaluru, Mumbai (All Areas)',\n",
       " 'Bangalore/Bengaluru',\n",
       " 'Bangalore/Bengaluru',\n",
       " 'Hyderabad/Secunderabad, Chennai, Bangalore/Bengaluru',\n",
       " 'Bangalore/Bengaluru',\n",
       " 'Kolkata, Bangalore/Bengaluru',\n",
       " 'Bangalore/Bengaluru',\n",
       " 'Hyderabad/Secunderabad, Pune, Chennai, Bangalore/Bengaluru, Delhi / NCR, Mumbai (All Areas)',\n",
       " 'Hyderabad/Secunderabad, Bangalore/Bengaluru']"
      ]
     },
     "execution_count": 79,
     "metadata": {},
     "output_type": "execute_result"
    }
   ],
   "source": [
    "for i in loc_tags:\n",
    "    loc=i.text\n",
    "    location.append(loc)\n",
    "\n",
    "location[0:9]"
   ]
  },
  {
   "cell_type": "code",
   "execution_count": 80,
   "id": "318206ef",
   "metadata": {},
   "outputs": [
    {
     "name": "stderr",
     "output_type": "stream",
     "text": [
      "<ipython-input-80-137eff13da0a>:1: DeprecationWarning: find_elements_by_* commands are deprecated. Please use find_elements() instead\n",
      "  exp_tags=driver.find_elements_by_xpath(\"//li[@class='fleft grey-text br2 placeHolderLi experience']/span[1]\")\n"
     ]
    }
   ],
   "source": [
    "exp_tags=driver.find_elements_by_xpath(\"//li[@class='fleft grey-text br2 placeHolderLi experience']/span[1]\")"
   ]
  },
  {
   "cell_type": "code",
   "execution_count": 81,
   "id": "3fc3b5a9",
   "metadata": {},
   "outputs": [
    {
     "data": {
      "text/plain": [
       "['0-5 Yrs',\n",
       " '3-8 Yrs',\n",
       " '1-3 Yrs',\n",
       " '5-10 Yrs',\n",
       " '3-8 Yrs',\n",
       " '3-8 Yrs',\n",
       " '2-5 Yrs',\n",
       " '4-9 Yrs',\n",
       " '3-7 Yrs']"
      ]
     },
     "execution_count": 81,
     "metadata": {},
     "output_type": "execute_result"
    }
   ],
   "source": [
    "for i in exp_tags:\n",
    "    exp=i.text\n",
    "    experience.append(exp)\n",
    "experience[0:9]"
   ]
  },
  {
   "cell_type": "code",
   "execution_count": 82,
   "id": "814b2d67",
   "metadata": {},
   "outputs": [
    {
     "data": {
      "text/html": [
       "<div>\n",
       "<style scoped>\n",
       "    .dataframe tbody tr th:only-of-type {\n",
       "        vertical-align: middle;\n",
       "    }\n",
       "\n",
       "    .dataframe tbody tr th {\n",
       "        vertical-align: top;\n",
       "    }\n",
       "\n",
       "    .dataframe thead th {\n",
       "        text-align: right;\n",
       "    }\n",
       "</style>\n",
       "<table border=\"1\" class=\"dataframe\">\n",
       "  <thead>\n",
       "    <tr style=\"text-align: right;\">\n",
       "      <th></th>\n",
       "      <th>Job Title</th>\n",
       "      <th>Company</th>\n",
       "      <th>Location</th>\n",
       "      <th>Experience</th>\n",
       "    </tr>\n",
       "  </thead>\n",
       "  <tbody>\n",
       "    <tr>\n",
       "      <th>0</th>\n",
       "      <td>Jr. Data Analyst/ Jr. Data Scientist</td>\n",
       "      <td>Sejal Consulting Hub</td>\n",
       "      <td>Hyderabad/Secunderabad, Bangalore/Bengaluru, M...</td>\n",
       "      <td>0-5 Yrs</td>\n",
       "    </tr>\n",
       "    <tr>\n",
       "      <th>1</th>\n",
       "      <td>Opportunity For Data Scientist - Analytics</td>\n",
       "      <td>Firstsource Solutions Limited</td>\n",
       "      <td>Bangalore/Bengaluru</td>\n",
       "      <td>3-8 Yrs</td>\n",
       "    </tr>\n",
       "    <tr>\n",
       "      <th>2</th>\n",
       "      <td>Jr. Data Scientist</td>\n",
       "      <td>Rubixe (A brand under Think Ahead Innovations ...</td>\n",
       "      <td>Bangalore/Bengaluru</td>\n",
       "      <td>1-3 Yrs</td>\n",
       "    </tr>\n",
       "    <tr>\n",
       "      <th>3</th>\n",
       "      <td>Tcs Hiring For Data Scientist (Python GCP)</td>\n",
       "      <td>Tata Consultancy Services Ltd.</td>\n",
       "      <td>Hyderabad/Secunderabad, Chennai, Bangalore/Ben...</td>\n",
       "      <td>5-10 Yrs</td>\n",
       "    </tr>\n",
       "    <tr>\n",
       "      <th>4</th>\n",
       "      <td>DG - Business Analyst - Data Scientist</td>\n",
       "      <td>Genpact</td>\n",
       "      <td>Bangalore/Bengaluru</td>\n",
       "      <td>3-8 Yrs</td>\n",
       "    </tr>\n",
       "    <tr>\n",
       "      <th>5</th>\n",
       "      <td>Sr. Data Scientist / Data Scientist For Bangal...</td>\n",
       "      <td>mPokket</td>\n",
       "      <td>Kolkata, Bangalore/Bengaluru</td>\n",
       "      <td>3-8 Yrs</td>\n",
       "    </tr>\n",
       "    <tr>\n",
       "      <th>6</th>\n",
       "      <td>Data Scientist</td>\n",
       "      <td>Klub</td>\n",
       "      <td>Bangalore/Bengaluru</td>\n",
       "      <td>2-5 Yrs</td>\n",
       "    </tr>\n",
       "    <tr>\n",
       "      <th>7</th>\n",
       "      <td>Hiring For Data Scientist</td>\n",
       "      <td>Tata Consultancy Services Ltd.</td>\n",
       "      <td>Hyderabad/Secunderabad, Pune, Chennai, Bangalo...</td>\n",
       "      <td>4-9 Yrs</td>\n",
       "    </tr>\n",
       "    <tr>\n",
       "      <th>8</th>\n",
       "      <td>Data Scientist</td>\n",
       "      <td>Tata Consultancy Services Ltd.</td>\n",
       "      <td>Hyderabad/Secunderabad, Bangalore/Bengaluru</td>\n",
       "      <td>3-7 Yrs</td>\n",
       "    </tr>\n",
       "  </tbody>\n",
       "</table>\n",
       "</div>"
      ],
      "text/plain": [
       "                                           Job Title  \\\n",
       "0               Jr. Data Analyst/ Jr. Data Scientist   \n",
       "1         Opportunity For Data Scientist - Analytics   \n",
       "2                                 Jr. Data Scientist   \n",
       "3         Tcs Hiring For Data Scientist (Python GCP)   \n",
       "4             DG - Business Analyst - Data Scientist   \n",
       "5  Sr. Data Scientist / Data Scientist For Bangal...   \n",
       "6                                     Data Scientist   \n",
       "7                          Hiring For Data Scientist   \n",
       "8                                     Data Scientist   \n",
       "\n",
       "                                             Company  \\\n",
       "0                               Sejal Consulting Hub   \n",
       "1                      Firstsource Solutions Limited   \n",
       "2  Rubixe (A brand under Think Ahead Innovations ...   \n",
       "3                     Tata Consultancy Services Ltd.   \n",
       "4                                            Genpact   \n",
       "5                                            mPokket   \n",
       "6                                               Klub   \n",
       "7                     Tata Consultancy Services Ltd.   \n",
       "8                     Tata Consultancy Services Ltd.   \n",
       "\n",
       "                                            Location Experience  \n",
       "0  Hyderabad/Secunderabad, Bangalore/Bengaluru, M...    0-5 Yrs  \n",
       "1                                Bangalore/Bengaluru    3-8 Yrs  \n",
       "2                                Bangalore/Bengaluru    1-3 Yrs  \n",
       "3  Hyderabad/Secunderabad, Chennai, Bangalore/Ben...   5-10 Yrs  \n",
       "4                                Bangalore/Bengaluru    3-8 Yrs  \n",
       "5                       Kolkata, Bangalore/Bengaluru    3-8 Yrs  \n",
       "6                                Bangalore/Bengaluru    2-5 Yrs  \n",
       "7  Hyderabad/Secunderabad, Pune, Chennai, Bangalo...    4-9 Yrs  \n",
       "8        Hyderabad/Secunderabad, Bangalore/Bengaluru    3-7 Yrs  "
      ]
     },
     "execution_count": 82,
     "metadata": {},
     "output_type": "execute_result"
    }
   ],
   "source": [
    "df=pd.DataFrame({'Job Title':job[0:9],\n",
    "             \"Company\":company[0:9],\n",
    "             \"Location\":location[0:9],\n",
    "             'Experience':experience[0:9]})\n",
    "df"
   ]
  },
  {
   "cell_type": "markdown",
   "id": "c01cba9e",
   "metadata": {},
   "source": [
    "### Scrape data of first 100 sunglasses listings on flipkart.com. You have to scrape four attributes: \n",
    "1. Brand \n",
    "2. Product Description \n",
    "3. Price "
   ]
  },
  {
   "cell_type": "code",
   "execution_count": 122,
   "id": "52da9ee2",
   "metadata": {},
   "outputs": [],
   "source": [
    "driver.get(\"https://www.flipkart.com/search?q=sunglasses&sid=26x&as=on&as-show=on&otracker=AS_QueryStore_OrganicAutoSuggest_2_4_na_na_na&otracker1=AS_QueryStore_OrganicAutoSuggest_2_4_na_na_na&as-pos=2&as-type=RECENT&suggestionId=sunglasses%7CSunglasses&requestId=0c88348e-a43d-4c13-98e0-e8f2f7b3922c&as-searchtext=sung\")"
   ]
  },
  {
   "cell_type": "code",
   "execution_count": 123,
   "id": "8d728f4f",
   "metadata": {},
   "outputs": [],
   "source": [
    "brand=[]\n",
    "desc_tag=[]\n",
    "price=[]"
   ]
  },
  {
   "cell_type": "code",
   "execution_count": 124,
   "id": "f2a33293",
   "metadata": {},
   "outputs": [
    {
     "name": "stderr",
     "output_type": "stream",
     "text": [
      "<ipython-input-124-1ef38e7e38cc>:1: DeprecationWarning: find_elements_by_* commands are deprecated. Please use find_elements() instead\n",
      "  name=driver.find_elements_by_xpath(\"//div[@class='_2WkVRV']\")\n"
     ]
    },
    {
     "data": {
      "text/plain": [
       "40"
      ]
     },
     "execution_count": 124,
     "metadata": {},
     "output_type": "execute_result"
    }
   ],
   "source": [
    "name=driver.find_elements_by_xpath(\"//div[@class='_2WkVRV']\")\n",
    "for i in name:\n",
    "    brand.append(i.text)\n",
    "len(brand)   "
   ]
  },
  {
   "cell_type": "code",
   "execution_count": 125,
   "id": "c4c4b10d",
   "metadata": {},
   "outputs": [],
   "source": [
    "driver.get(\"https://www.flipkart.com/search?q=sunglasses&sid=26x&as=on&as-show=on&otracker=AS_QueryStore_OrganicAutoSuggest_2_4_na_na_na&otracker1=AS_QueryStore_OrganicAutoSuggest_2_4_na_na_na&as-pos=2&as-type=RECENT&suggestionId=sunglasses%7CSunglasses&requestId=0c88348e-a43d-4c13-98e0-e8f2f7b3922c&as-searchtext=sung&page=2\")"
   ]
  },
  {
   "cell_type": "code",
   "execution_count": 128,
   "id": "47370cce",
   "metadata": {},
   "outputs": [
    {
     "name": "stderr",
     "output_type": "stream",
     "text": [
      "<ipython-input-128-728ee59a1e9f>:1: DeprecationWarning: find_elements_by_* commands are deprecated. Please use find_elements() instead\n",
      "  name=driver.find_elements_by_xpath(\"//div[@class='_2WkVRV']\")\n"
     ]
    },
    {
     "data": {
      "text/plain": [
       "100"
      ]
     },
     "execution_count": 128,
     "metadata": {},
     "output_type": "execute_result"
    }
   ],
   "source": [
    "name=driver.find_elements_by_xpath(\"//div[@class='_2WkVRV']\")\n",
    "for i in name:\n",
    "    brand.append(i.text)\n",
    "len(brand[0:100])"
   ]
  },
  {
   "cell_type": "code",
   "execution_count": 129,
   "id": "55287882",
   "metadata": {},
   "outputs": [],
   "source": [
    "driver.get(\"https://www.flipkart.com/search?q=sunglasses&sid=26x&as=on&as-show=on&otracker=AS_QueryStore_OrganicAutoSuggest_2_4_na_na_na&otracker1=AS_QueryStore_OrganicAutoSuggest_2_4_na_na_na&as-pos=2&as-type=RECENT&suggestionId=sunglasses%7CSunglasses&requestId=0c88348e-a43d-4c13-98e0-e8f2f7b3922c&as-searchtext=sung&page=1\")"
   ]
  },
  {
   "cell_type": "code",
   "execution_count": 130,
   "id": "7c43baac",
   "metadata": {},
   "outputs": [
    {
     "name": "stderr",
     "output_type": "stream",
     "text": [
      "<ipython-input-130-51db6430f74e>:1: DeprecationWarning: find_elements_by_* commands are deprecated. Please use find_elements() instead\n",
      "  des=driver.find_elements_by_xpath(\"//a[@class='IRpwTa']\")\n"
     ]
    },
    {
     "data": {
      "text/plain": [
       "40"
      ]
     },
     "execution_count": 130,
     "metadata": {},
     "output_type": "execute_result"
    }
   ],
   "source": [
    "des=driver.find_elements_by_xpath(\"//a[@class='IRpwTa']\")\n",
    "for i in des:\n",
    "    desc_tag.append(i.text)\n",
    "len(desc_tag)    "
   ]
  },
  {
   "cell_type": "code",
   "execution_count": 131,
   "id": "829a23fb",
   "metadata": {},
   "outputs": [],
   "source": [
    "driver.get(\"https://www.flipkart.com/search?q=sunglasses&sid=26x&as=on&as-show=on&otracker=AS_QueryStore_OrganicAutoSuggest_2_4_na_na_na&otracker1=AS_QueryStore_OrganicAutoSuggest_2_4_na_na_na&as-pos=2&as-type=RECENT&suggestionId=sunglasses%7CSunglasses&requestId=0c88348e-a43d-4c13-98e0-e8f2f7b3922c&as-searchtext=sung&page=2\")"
   ]
  },
  {
   "cell_type": "code",
   "execution_count": 134,
   "id": "bdcf7bb4",
   "metadata": {},
   "outputs": [
    {
     "name": "stderr",
     "output_type": "stream",
     "text": [
      "<ipython-input-134-002d2142285f>:1: DeprecationWarning: find_elements_by_* commands are deprecated. Please use find_elements() instead\n",
      "  des=driver.find_elements_by_xpath(\"//a[@class='IRpwTa']\")\n"
     ]
    },
    {
     "data": {
      "text/plain": [
       "100"
      ]
     },
     "execution_count": 134,
     "metadata": {},
     "output_type": "execute_result"
    }
   ],
   "source": [
    "des=driver.find_elements_by_xpath(\"//a[@class='IRpwTa']\")\n",
    "for i in des:\n",
    "    desc_tag.append(i.text)\n",
    "len(desc_tag[0:100])"
   ]
  },
  {
   "cell_type": "code",
   "execution_count": 135,
   "id": "28feb00d",
   "metadata": {},
   "outputs": [],
   "source": [
    "driver.get(\"https://www.flipkart.com/search?q=sunglasses&sid=26x&as=on&as-show=on&otracker=AS_QueryStore_OrganicAutoSuggest_2_4_na_na_na&otracker1=AS_QueryStore_OrganicAutoSuggest_2_4_na_na_na&as-pos=2&as-type=RECENT&suggestionId=sunglasses%7CSunglasses&requestId=0c88348e-a43d-4c13-98e0-e8f2f7b3922c&as-searchtext=sung&page=1\")"
   ]
  },
  {
   "cell_type": "code",
   "execution_count": 136,
   "id": "cf49d5ed",
   "metadata": {},
   "outputs": [
    {
     "name": "stderr",
     "output_type": "stream",
     "text": [
      "<ipython-input-136-a15faab3bff6>:1: DeprecationWarning: find_elements_by_* commands are deprecated. Please use find_elements() instead\n",
      "  prc=driver.find_elements_by_xpath(\"//div[@class='_30jeq3']\")\n"
     ]
    },
    {
     "data": {
      "text/plain": [
       "40"
      ]
     },
     "execution_count": 136,
     "metadata": {},
     "output_type": "execute_result"
    }
   ],
   "source": [
    "prc=driver.find_elements_by_xpath(\"//div[@class='_30jeq3']\")\n",
    "for i in prc:\n",
    "    price.append(i.text)\n",
    "len(price)"
   ]
  },
  {
   "cell_type": "code",
   "execution_count": 139,
   "id": "3c3af466",
   "metadata": {},
   "outputs": [],
   "source": [
    "driver.get(\"https://www.flipkart.com/search?q=sunglasses&sid=26x&as=on&as-show=on&otracker=AS_QueryStore_OrganicAutoSuggest_2_4_na_na_na&otracker1=AS_QueryStore_OrganicAutoSuggest_2_4_na_na_na&as-pos=2&as-type=RECENT&suggestionId=sunglasses%7CSunglasses&requestId=0c88348e-a43d-4c13-98e0-e8f2f7b3922c&as-searchtext=sung&page=2\")"
   ]
  },
  {
   "cell_type": "code",
   "execution_count": 141,
   "id": "2e9ecfbe",
   "metadata": {},
   "outputs": [
    {
     "name": "stderr",
     "output_type": "stream",
     "text": [
      "<ipython-input-141-51004db6a8a0>:1: DeprecationWarning: find_elements_by_* commands are deprecated. Please use find_elements() instead\n",
      "  prc=driver.find_elements_by_xpath(\"//div[@class='_30jeq3']\")\n"
     ]
    },
    {
     "data": {
      "text/plain": [
       "100"
      ]
     },
     "execution_count": 141,
     "metadata": {},
     "output_type": "execute_result"
    }
   ],
   "source": [
    "prc=driver.find_elements_by_xpath(\"//div[@class='_30jeq3']\")\n",
    "for i in prc:\n",
    "    price.append(i.text)\n",
    "len(price[0:100])"
   ]
  },
  {
   "cell_type": "code",
   "execution_count": 142,
   "id": "9089691f",
   "metadata": {},
   "outputs": [
    {
     "data": {
      "text/html": [
       "<div>\n",
       "<style scoped>\n",
       "    .dataframe tbody tr th:only-of-type {\n",
       "        vertical-align: middle;\n",
       "    }\n",
       "\n",
       "    .dataframe tbody tr th {\n",
       "        vertical-align: top;\n",
       "    }\n",
       "\n",
       "    .dataframe thead th {\n",
       "        text-align: right;\n",
       "    }\n",
       "</style>\n",
       "<table border=\"1\" class=\"dataframe\">\n",
       "  <thead>\n",
       "    <tr style=\"text-align: right;\">\n",
       "      <th></th>\n",
       "      <th>Brand</th>\n",
       "      <th>Description</th>\n",
       "      <th>Price</th>\n",
       "    </tr>\n",
       "  </thead>\n",
       "  <tbody>\n",
       "    <tr>\n",
       "      <th>0</th>\n",
       "      <td>Elligator</td>\n",
       "      <td>UV Protection, Riding Glasses Rectangular, Ret...</td>\n",
       "      <td>₹318</td>\n",
       "    </tr>\n",
       "    <tr>\n",
       "      <th>1</th>\n",
       "      <td>hipe</td>\n",
       "      <td>Mirrored, UV Protection, Gradient Round Sungla...</td>\n",
       "      <td>₹189</td>\n",
       "    </tr>\n",
       "    <tr>\n",
       "      <th>2</th>\n",
       "      <td>SRPM</td>\n",
       "      <td>UV Protection Wayfarer Sunglasses (56)</td>\n",
       "      <td>₹188</td>\n",
       "    </tr>\n",
       "    <tr>\n",
       "      <th>3</th>\n",
       "      <td>Elligator</td>\n",
       "      <td>UV Protection Round Sunglasses (54)</td>\n",
       "      <td>₹248</td>\n",
       "    </tr>\n",
       "    <tr>\n",
       "      <th>4</th>\n",
       "      <td>PIRASO</td>\n",
       "      <td>UV Protection Aviator Sunglasses (54)</td>\n",
       "      <td>₹200</td>\n",
       "    </tr>\n",
       "    <tr>\n",
       "      <th>...</th>\n",
       "      <td>...</td>\n",
       "      <td>...</td>\n",
       "      <td>...</td>\n",
       "    </tr>\n",
       "    <tr>\n",
       "      <th>95</th>\n",
       "      <td>ROZZETTA CRAFT</td>\n",
       "      <td>UV Protection Aviator Sunglasses (55)</td>\n",
       "      <td>₹449</td>\n",
       "    </tr>\n",
       "    <tr>\n",
       "      <th>96</th>\n",
       "      <td>SUNBEE</td>\n",
       "      <td>UV Protection Aviator Sunglasses (59)</td>\n",
       "      <td>₹258</td>\n",
       "    </tr>\n",
       "    <tr>\n",
       "      <th>97</th>\n",
       "      <td>SUNBEE</td>\n",
       "      <td>UV Protection Aviator, Wayfarer Sunglasses (Fr...</td>\n",
       "      <td>₹276</td>\n",
       "    </tr>\n",
       "    <tr>\n",
       "      <th>98</th>\n",
       "      <td>kingsunglasses</td>\n",
       "      <td>UV Protection, Gradient Aviator Sunglasses (53)</td>\n",
       "      <td>₹279</td>\n",
       "    </tr>\n",
       "    <tr>\n",
       "      <th>99</th>\n",
       "      <td>Elligator</td>\n",
       "      <td>UV Protection, Riding Glasses Rectangular, Ret...</td>\n",
       "      <td>₹239</td>\n",
       "    </tr>\n",
       "  </tbody>\n",
       "</table>\n",
       "<p>100 rows × 3 columns</p>\n",
       "</div>"
      ],
      "text/plain": [
       "             Brand                                        Description Price\n",
       "0        Elligator  UV Protection, Riding Glasses Rectangular, Ret...  ₹318\n",
       "1             hipe  Mirrored, UV Protection, Gradient Round Sungla...  ₹189\n",
       "2             SRPM             UV Protection Wayfarer Sunglasses (56)  ₹188\n",
       "3        Elligator                UV Protection Round Sunglasses (54)  ₹248\n",
       "4           PIRASO              UV Protection Aviator Sunglasses (54)  ₹200\n",
       "..             ...                                                ...   ...\n",
       "95  ROZZETTA CRAFT              UV Protection Aviator Sunglasses (55)  ₹449\n",
       "96          SUNBEE              UV Protection Aviator Sunglasses (59)  ₹258\n",
       "97          SUNBEE  UV Protection Aviator, Wayfarer Sunglasses (Fr...  ₹276\n",
       "98  kingsunglasses    UV Protection, Gradient Aviator Sunglasses (53)  ₹279\n",
       "99       Elligator  UV Protection, Riding Glasses Rectangular, Ret...  ₹239\n",
       "\n",
       "[100 rows x 3 columns]"
      ]
     },
     "execution_count": 142,
     "metadata": {},
     "output_type": "execute_result"
    }
   ],
   "source": [
    "df=pd.DataFrame({'Brand':brand[0:100],\n",
    "             'Description':desc_tag[0:100],\n",
    "             'Price':price[0:100]})\n",
    "df"
   ]
  },
  {
   "cell_type": "markdown",
   "id": "489d2a95",
   "metadata": {},
   "source": [
    "### Scrape 100 reviews data from flipkart.com for iphone11 phone."
   ]
  },
  {
   "cell_type": "code",
   "execution_count": 155,
   "id": "1fbfa4f5",
   "metadata": {},
   "outputs": [],
   "source": [
    "driver.get(\"https://www.flipkart.com/apple-iphone-11-black-64-gb/product-reviews/itm4e5041ba101fd?pid=MOBFWQ6BXGJCEYNY&lid=LSTMOBFWQ6BXGJCEYNYZXSHRJ&marketplace=FLIPKART\")"
   ]
  },
  {
   "cell_type": "code",
   "execution_count": 156,
   "id": "295065ff",
   "metadata": {},
   "outputs": [],
   "source": [
    "rating=[]\n",
    "review_summ=[]\n",
    "review=[]"
   ]
  },
  {
   "cell_type": "code",
   "execution_count": 157,
   "id": "a903ba00",
   "metadata": {},
   "outputs": [
    {
     "name": "stderr",
     "output_type": "stream",
     "text": [
      "<ipython-input-157-263fd5361992>:1: DeprecationWarning: find_elements_by_* commands are deprecated. Please use find_elements() instead\n",
      "  rate=driver.find_elements_by_xpath(\"//div[@class='_3LWZlK _1BLPMq']\")\n"
     ]
    },
    {
     "data": {
      "text/plain": [
       "['5', '5', '5', '5', '5', '5', '5', '4', '5', '5']"
      ]
     },
     "execution_count": 157,
     "metadata": {},
     "output_type": "execute_result"
    }
   ],
   "source": [
    "rate=driver.find_elements_by_xpath(\"//div[@class='_3LWZlK _1BLPMq']\")\n",
    "for i in rate:\n",
    "    rating.append(i.text)\n",
    "rating    "
   ]
  },
  {
   "cell_type": "code",
   "execution_count": 158,
   "id": "bd6dfe2e",
   "metadata": {},
   "outputs": [],
   "source": [
    "driver.get(\"https://www.flipkart.com/apple-iphone-11-black-64-gb/product-reviews/itm4e5041ba101fd?pid=MOBFWQ6BXGJCEYNY&lid=LSTMOBFWQ6BXGJCEYNYZXSHRJ&marketplace=FLIPKART&page=2\")"
   ]
  },
  {
   "cell_type": "code",
   "execution_count": 160,
   "id": "7f985c5d",
   "metadata": {},
   "outputs": [
    {
     "name": "stderr",
     "output_type": "stream",
     "text": [
      "<ipython-input-160-8b2564ce9d87>:1: DeprecationWarning: find_elements_by_* commands are deprecated. Please use find_elements() instead\n",
      "  rate=driver.find_elements_by_xpath(\"//div[@class='_3LWZlK _1BLPMq']\")\n"
     ]
    }
   ],
   "source": [
    "rate=driver.find_elements_by_xpath(\"//div[@class='_3LWZlK _1BLPMq']\")\n",
    "for i in rate:\n",
    "    rating.append(i.text)\n",
    " "
   ]
  },
  {
   "cell_type": "code",
   "execution_count": 161,
   "id": "d79f62bc",
   "metadata": {},
   "outputs": [],
   "source": [
    "driver.get(\"https://www.flipkart.com/apple-iphone-11-black-64-gb/product-reviews/itm4e5041ba101fd?pid=MOBFWQ6BXGJCEYNY&lid=LSTMOBFWQ6BXGJCEYNYZXSHRJ&marketplace=FLIPKART&page=3\")"
   ]
  },
  {
   "cell_type": "code",
   "execution_count": 162,
   "id": "853b210c",
   "metadata": {},
   "outputs": [
    {
     "name": "stderr",
     "output_type": "stream",
     "text": [
      "<ipython-input-162-4a5090f9f014>:1: DeprecationWarning: find_elements_by_* commands are deprecated. Please use find_elements() instead\n",
      "  rate=driver.find_elements_by_xpath(\"//div[@class='_3LWZlK _1BLPMq']\")\n"
     ]
    }
   ],
   "source": [
    "rate=driver.find_elements_by_xpath(\"//div[@class='_3LWZlK _1BLPMq']\")\n",
    "for i in rate:\n",
    "    rating.append(i.text)"
   ]
  },
  {
   "cell_type": "code",
   "execution_count": 164,
   "id": "a29fc2b4",
   "metadata": {},
   "outputs": [],
   "source": [
    "driver.get(\"https://www.flipkart.com/apple-iphone-11-black-64-gb/product-reviews/itm4e5041ba101fd?pid=MOBFWQ6BXGJCEYNY&lid=LSTMOBFWQ6BXGJCEYNYZXSHRJ&marketplace=FLIPKART&page=4\")"
   ]
  },
  {
   "cell_type": "code",
   "execution_count": 165,
   "id": "40c70756",
   "metadata": {},
   "outputs": [
    {
     "name": "stderr",
     "output_type": "stream",
     "text": [
      "<ipython-input-165-4a5090f9f014>:1: DeprecationWarning: find_elements_by_* commands are deprecated. Please use find_elements() instead\n",
      "  rate=driver.find_elements_by_xpath(\"//div[@class='_3LWZlK _1BLPMq']\")\n"
     ]
    }
   ],
   "source": [
    "rate=driver.find_elements_by_xpath(\"//div[@class='_3LWZlK _1BLPMq']\")\n",
    "for i in rate:\n",
    "    rating.append(i.text)"
   ]
  },
  {
   "cell_type": "code",
   "execution_count": 166,
   "id": "160f679e",
   "metadata": {},
   "outputs": [],
   "source": [
    "driver.get(\"https://www.flipkart.com/apple-iphone-11-black-64-gb/product-reviews/itm4e5041ba101fd?pid=MOBFWQ6BXGJCEYNY&lid=LSTMOBFWQ6BXGJCEYNYZXSHRJ&marketplace=FLIPKART&page=5\")"
   ]
  },
  {
   "cell_type": "code",
   "execution_count": 167,
   "id": "3de849aa",
   "metadata": {},
   "outputs": [
    {
     "name": "stderr",
     "output_type": "stream",
     "text": [
      "<ipython-input-167-4a5090f9f014>:1: DeprecationWarning: find_elements_by_* commands are deprecated. Please use find_elements() instead\n",
      "  rate=driver.find_elements_by_xpath(\"//div[@class='_3LWZlK _1BLPMq']\")\n"
     ]
    }
   ],
   "source": [
    "rate=driver.find_elements_by_xpath(\"//div[@class='_3LWZlK _1BLPMq']\")\n",
    "for i in rate:\n",
    "    rating.append(i.text)"
   ]
  },
  {
   "cell_type": "code",
   "execution_count": 168,
   "id": "0392f534",
   "metadata": {},
   "outputs": [],
   "source": [
    "driver.get(\"https://www.flipkart.com/apple-iphone-11-black-64-gb/product-reviews/itm4e5041ba101fd?pid=MOBFWQ6BXGJCEYNY&lid=LSTMOBFWQ6BXGJCEYNYZXSHRJ&marketplace=FLIPKART&page=6\")"
   ]
  },
  {
   "cell_type": "code",
   "execution_count": 169,
   "id": "f3d25b60",
   "metadata": {},
   "outputs": [
    {
     "name": "stderr",
     "output_type": "stream",
     "text": [
      "<ipython-input-169-4a5090f9f014>:1: DeprecationWarning: find_elements_by_* commands are deprecated. Please use find_elements() instead\n",
      "  rate=driver.find_elements_by_xpath(\"//div[@class='_3LWZlK _1BLPMq']\")\n"
     ]
    }
   ],
   "source": [
    "rate=driver.find_elements_by_xpath(\"//div[@class='_3LWZlK _1BLPMq']\")\n",
    "for i in rate:\n",
    "    rating.append(i.text)"
   ]
  },
  {
   "cell_type": "code",
   "execution_count": 170,
   "id": "7f08984f",
   "metadata": {},
   "outputs": [],
   "source": [
    "driver.get(\"https://www.flipkart.com/apple-iphone-11-black-64-gb/product-reviews/itm4e5041ba101fd?pid=MOBFWQ6BXGJCEYNY&lid=LSTMOBFWQ6BXGJCEYNYZXSHRJ&marketplace=FLIPKART&page=7\")"
   ]
  },
  {
   "cell_type": "code",
   "execution_count": 171,
   "id": "c43930e3",
   "metadata": {},
   "outputs": [
    {
     "name": "stderr",
     "output_type": "stream",
     "text": [
      "<ipython-input-171-4a5090f9f014>:1: DeprecationWarning: find_elements_by_* commands are deprecated. Please use find_elements() instead\n",
      "  rate=driver.find_elements_by_xpath(\"//div[@class='_3LWZlK _1BLPMq']\")\n"
     ]
    }
   ],
   "source": [
    "rate=driver.find_elements_by_xpath(\"//div[@class='_3LWZlK _1BLPMq']\")\n",
    "for i in rate:\n",
    "    rating.append(i.text)"
   ]
  },
  {
   "cell_type": "code",
   "execution_count": 172,
   "id": "6c0d8a6c",
   "metadata": {},
   "outputs": [],
   "source": [
    "driver.get(\"https://www.flipkart.com/apple-iphone-11-black-64-gb/product-reviews/itm4e5041ba101fd?pid=MOBFWQ6BXGJCEYNY&lid=LSTMOBFWQ6BXGJCEYNYZXSHRJ&marketplace=FLIPKART&page=8\")"
   ]
  },
  {
   "cell_type": "code",
   "execution_count": 173,
   "id": "31dbf214",
   "metadata": {},
   "outputs": [
    {
     "name": "stderr",
     "output_type": "stream",
     "text": [
      "<ipython-input-173-4a5090f9f014>:1: DeprecationWarning: find_elements_by_* commands are deprecated. Please use find_elements() instead\n",
      "  rate=driver.find_elements_by_xpath(\"//div[@class='_3LWZlK _1BLPMq']\")\n"
     ]
    }
   ],
   "source": [
    "rate=driver.find_elements_by_xpath(\"//div[@class='_3LWZlK _1BLPMq']\")\n",
    "for i in rate:\n",
    "    rating.append(i.text)"
   ]
  },
  {
   "cell_type": "code",
   "execution_count": 174,
   "id": "0e641dc6",
   "metadata": {},
   "outputs": [],
   "source": [
    "driver.get(\"https://www.flipkart.com/apple-iphone-11-black-64-gb/product-reviews/itm4e5041ba101fd?pid=MOBFWQ6BXGJCEYNY&lid=LSTMOBFWQ6BXGJCEYNYZXSHRJ&marketplace=FLIPKART&page=9\")"
   ]
  },
  {
   "cell_type": "code",
   "execution_count": 175,
   "id": "d8b8e9ca",
   "metadata": {},
   "outputs": [
    {
     "name": "stderr",
     "output_type": "stream",
     "text": [
      "<ipython-input-175-4a5090f9f014>:1: DeprecationWarning: find_elements_by_* commands are deprecated. Please use find_elements() instead\n",
      "  rate=driver.find_elements_by_xpath(\"//div[@class='_3LWZlK _1BLPMq']\")\n"
     ]
    }
   ],
   "source": [
    "rate=driver.find_elements_by_xpath(\"//div[@class='_3LWZlK _1BLPMq']\")\n",
    "for i in rate:\n",
    "    rating.append(i.text)"
   ]
  },
  {
   "cell_type": "code",
   "execution_count": 176,
   "id": "8dd1b510",
   "metadata": {},
   "outputs": [],
   "source": [
    "driver.get(\"https://www.flipkart.com/apple-iphone-11-black-64-gb/product-reviews/itm4e5041ba101fd?pid=MOBFWQ6BXGJCEYNY&lid=LSTMOBFWQ6BXGJCEYNYZXSHRJ&marketplace=FLIPKART&page=10\")"
   ]
  },
  {
   "cell_type": "code",
   "execution_count": null,
   "id": "6bb0f34e",
   "metadata": {},
   "outputs": [],
   "source": [
    "rate=driver.find_elements_by_xpath(\"//div[@class='_3LWZlK _1BLPMq']\")\n",
    "for i in rate:\n",
    "    rating.append(i.text)"
   ]
  },
  {
   "cell_type": "code",
   "execution_count": 179,
   "id": "11bb07e2",
   "metadata": {},
   "outputs": [
    {
     "data": {
      "text/plain": [
       "97"
      ]
     },
     "execution_count": 179,
     "metadata": {},
     "output_type": "execute_result"
    }
   ],
   "source": [
    "driver.get(\"https://www.flipkart.com/apple-iphone-11-black-64-gb/product-reviews/itm4e5041ba101fd?pid=MOBFWQ6BXGJCEYNY&lid=LSTMOBFWQ6BXGJCEYNYZXSHRJ&marketplace=FLIPKART\")"
   ]
  },
  {
   "cell_type": "code",
   "execution_count": 182,
   "id": "ef5a1906",
   "metadata": {},
   "outputs": [
    {
     "name": "stderr",
     "output_type": "stream",
     "text": [
      "<ipython-input-182-fa3a013139df>:1: DeprecationWarning: find_elements_by_* commands are deprecated. Please use find_elements() instead\n",
      "  summary=driver.find_elements_by_xpath(\"//p[@class='_2-N8zT']\")\n"
     ]
    },
    {
     "data": {
      "text/plain": [
       "['Pretty good',\n",
       " 'Fabulous!',\n",
       " 'Fabulous!',\n",
       " 'Just wow!',\n",
       " 'Terrific purchase',\n",
       " 'Awesome',\n",
       " 'Decent product',\n",
       " 'Brilliant',\n",
       " 'Awesome',\n",
       " 'Does the job']"
      ]
     },
     "execution_count": 182,
     "metadata": {},
     "output_type": "execute_result"
    }
   ],
   "source": [
    "summary=driver.find_elements_by_xpath(\"//p[@class='_2-N8zT']\")\n",
    "for i in summary:\n",
    "    review_summ.append(i.text)\n",
    "review_summ"
   ]
  },
  {
   "cell_type": "code",
   "execution_count": 183,
   "id": "e2c02518",
   "metadata": {},
   "outputs": [],
   "source": [
    "driver.get(\"https://www.flipkart.com/apple-iphone-11-black-64-gb/product-reviews/itm4e5041ba101fd?pid=MOBFWQ6BXGJCEYNY&lid=LSTMOBFWQ6BXGJCEYNYZXSHRJ&marketplace=FLIPKART&page=2\")"
   ]
  },
  {
   "cell_type": "code",
   "execution_count": 184,
   "id": "2d28b87e",
   "metadata": {},
   "outputs": [
    {
     "name": "stderr",
     "output_type": "stream",
     "text": [
      "<ipython-input-184-fa3a013139df>:1: DeprecationWarning: find_elements_by_* commands are deprecated. Please use find_elements() instead\n",
      "  summary=driver.find_elements_by_xpath(\"//p[@class='_2-N8zT']\")\n"
     ]
    },
    {
     "data": {
      "text/plain": [
       "['Pretty good',\n",
       " 'Fabulous!',\n",
       " 'Fabulous!',\n",
       " 'Just wow!',\n",
       " 'Terrific purchase',\n",
       " 'Awesome',\n",
       " 'Decent product',\n",
       " 'Brilliant',\n",
       " 'Awesome',\n",
       " 'Does the job',\n",
       " 'Highly recommended',\n",
       " 'Perfect product!',\n",
       " 'Perfect product!',\n",
       " 'Classy product',\n",
       " 'Perfect product!',\n",
       " 'Worth every penny',\n",
       " 'Highly recommended',\n",
       " 'Simply awesome',\n",
       " 'Worth every penny',\n",
       " 'Worth every penny']"
      ]
     },
     "execution_count": 184,
     "metadata": {},
     "output_type": "execute_result"
    }
   ],
   "source": [
    "summary=driver.find_elements_by_xpath(\"//p[@class='_2-N8zT']\")\n",
    "for i in summary:\n",
    "    review_summ.append(i.text)\n",
    "review_summ"
   ]
  },
  {
   "cell_type": "code",
   "execution_count": 185,
   "id": "f521d18e",
   "metadata": {},
   "outputs": [],
   "source": [
    "driver.get(\"https://www.flipkart.com/apple-iphone-11-black-64-gb/product-reviews/itm4e5041ba101fd?pid=MOBFWQ6BXGJCEYNY&lid=LSTMOBFWQ6BXGJCEYNYZXSHRJ&marketplace=FLIPKART&page=3\")"
   ]
  },
  {
   "cell_type": "code",
   "execution_count": 186,
   "id": "9c2b1b27",
   "metadata": {},
   "outputs": [
    {
     "name": "stderr",
     "output_type": "stream",
     "text": [
      "<ipython-input-186-fa3a013139df>:1: DeprecationWarning: find_elements_by_* commands are deprecated. Please use find_elements() instead\n",
      "  summary=driver.find_elements_by_xpath(\"//p[@class='_2-N8zT']\")\n"
     ]
    },
    {
     "data": {
      "text/plain": [
       "['Pretty good',\n",
       " 'Fabulous!',\n",
       " 'Fabulous!',\n",
       " 'Just wow!',\n",
       " 'Terrific purchase',\n",
       " 'Awesome',\n",
       " 'Decent product',\n",
       " 'Brilliant',\n",
       " 'Awesome',\n",
       " 'Does the job',\n",
       " 'Highly recommended',\n",
       " 'Perfect product!',\n",
       " 'Perfect product!',\n",
       " 'Classy product',\n",
       " 'Perfect product!',\n",
       " 'Worth every penny',\n",
       " 'Highly recommended',\n",
       " 'Simply awesome',\n",
       " 'Worth every penny',\n",
       " 'Worth every penny',\n",
       " 'Terrific',\n",
       " 'Wonderful',\n",
       " 'Nice product',\n",
       " 'Perfect product!',\n",
       " 'Brilliant',\n",
       " 'Classy product',\n",
       " 'Must buy!',\n",
       " 'Good choice',\n",
       " 'Perfect product!',\n",
       " 'Wonderful']"
      ]
     },
     "execution_count": 186,
     "metadata": {},
     "output_type": "execute_result"
    }
   ],
   "source": [
    "summary=driver.find_elements_by_xpath(\"//p[@class='_2-N8zT']\")\n",
    "for i in summary:\n",
    "    review_summ.append(i.text)\n",
    "review_summ"
   ]
  },
  {
   "cell_type": "code",
   "execution_count": 187,
   "id": "13ba77d7",
   "metadata": {},
   "outputs": [],
   "source": [
    "driver.get(\"https://www.flipkart.com/apple-iphone-11-black-64-gb/product-reviews/itm4e5041ba101fd?pid=MOBFWQ6BXGJCEYNY&lid=LSTMOBFWQ6BXGJCEYNYZXSHRJ&marketplace=FLIPKART&page=4\")"
   ]
  },
  {
   "cell_type": "code",
   "execution_count": 188,
   "id": "32ad00ee",
   "metadata": {},
   "outputs": [
    {
     "name": "stderr",
     "output_type": "stream",
     "text": [
      "<ipython-input-188-fa3a013139df>:1: DeprecationWarning: find_elements_by_* commands are deprecated. Please use find_elements() instead\n",
      "  summary=driver.find_elements_by_xpath(\"//p[@class='_2-N8zT']\")\n"
     ]
    },
    {
     "data": {
      "text/plain": [
       "['Pretty good',\n",
       " 'Fabulous!',\n",
       " 'Fabulous!',\n",
       " 'Just wow!',\n",
       " 'Terrific purchase',\n",
       " 'Awesome',\n",
       " 'Decent product',\n",
       " 'Brilliant',\n",
       " 'Awesome',\n",
       " 'Does the job',\n",
       " 'Highly recommended',\n",
       " 'Perfect product!',\n",
       " 'Perfect product!',\n",
       " 'Classy product',\n",
       " 'Perfect product!',\n",
       " 'Worth every penny',\n",
       " 'Highly recommended',\n",
       " 'Simply awesome',\n",
       " 'Worth every penny',\n",
       " 'Worth every penny',\n",
       " 'Terrific',\n",
       " 'Wonderful',\n",
       " 'Nice product',\n",
       " 'Perfect product!',\n",
       " 'Brilliant',\n",
       " 'Classy product',\n",
       " 'Must buy!',\n",
       " 'Good choice',\n",
       " 'Perfect product!',\n",
       " 'Wonderful',\n",
       " 'Terrific purchase',\n",
       " 'Simply awesome',\n",
       " 'Great product',\n",
       " 'Terrific purchase',\n",
       " 'Mind-blowing purchase',\n",
       " 'Excellent',\n",
       " 'Simply awesome',\n",
       " 'Good quality product',\n",
       " 'Very poor',\n",
       " 'Classy product']"
      ]
     },
     "execution_count": 188,
     "metadata": {},
     "output_type": "execute_result"
    }
   ],
   "source": [
    "summary=driver.find_elements_by_xpath(\"//p[@class='_2-N8zT']\")\n",
    "for i in summary:\n",
    "    review_summ.append(i.text)\n",
    "review_summ"
   ]
  },
  {
   "cell_type": "code",
   "execution_count": 189,
   "id": "ac5677ef",
   "metadata": {},
   "outputs": [],
   "source": [
    "driver.get(\"https://www.flipkart.com/apple-iphone-11-black-64-gb/product-reviews/itm4e5041ba101fd?pid=MOBFWQ6BXGJCEYNY&lid=LSTMOBFWQ6BXGJCEYNYZXSHRJ&marketplace=FLIPKART&page=5\")"
   ]
  },
  {
   "cell_type": "code",
   "execution_count": 190,
   "id": "76a78f19",
   "metadata": {},
   "outputs": [
    {
     "name": "stderr",
     "output_type": "stream",
     "text": [
      "<ipython-input-190-fa3a013139df>:1: DeprecationWarning: find_elements_by_* commands are deprecated. Please use find_elements() instead\n",
      "  summary=driver.find_elements_by_xpath(\"//p[@class='_2-N8zT']\")\n"
     ]
    },
    {
     "data": {
      "text/plain": [
       "['Pretty good',\n",
       " 'Fabulous!',\n",
       " 'Fabulous!',\n",
       " 'Just wow!',\n",
       " 'Terrific purchase',\n",
       " 'Awesome',\n",
       " 'Decent product',\n",
       " 'Brilliant',\n",
       " 'Awesome',\n",
       " 'Does the job',\n",
       " 'Highly recommended',\n",
       " 'Perfect product!',\n",
       " 'Perfect product!',\n",
       " 'Classy product',\n",
       " 'Perfect product!',\n",
       " 'Worth every penny',\n",
       " 'Highly recommended',\n",
       " 'Simply awesome',\n",
       " 'Worth every penny',\n",
       " 'Worth every penny',\n",
       " 'Terrific',\n",
       " 'Wonderful',\n",
       " 'Nice product',\n",
       " 'Perfect product!',\n",
       " 'Brilliant',\n",
       " 'Classy product',\n",
       " 'Must buy!',\n",
       " 'Good choice',\n",
       " 'Perfect product!',\n",
       " 'Wonderful',\n",
       " 'Terrific purchase',\n",
       " 'Simply awesome',\n",
       " 'Great product',\n",
       " 'Terrific purchase',\n",
       " 'Mind-blowing purchase',\n",
       " 'Excellent',\n",
       " 'Simply awesome',\n",
       " 'Good quality product',\n",
       " 'Very poor',\n",
       " 'Classy product',\n",
       " 'Perfect product!',\n",
       " 'Must buy!',\n",
       " 'Fabulous!',\n",
       " 'Mind-blowing purchase',\n",
       " 'Mind-blowing purchase',\n",
       " 'Wonderful',\n",
       " 'Must buy!',\n",
       " 'Great product',\n",
       " 'Very Good',\n",
       " 'Classy product']"
      ]
     },
     "execution_count": 190,
     "metadata": {},
     "output_type": "execute_result"
    }
   ],
   "source": [
    "summary=driver.find_elements_by_xpath(\"//p[@class='_2-N8zT']\")\n",
    "for i in summary:\n",
    "    review_summ.append(i.text)\n",
    "review_summ"
   ]
  },
  {
   "cell_type": "code",
   "execution_count": 191,
   "id": "4d345253",
   "metadata": {},
   "outputs": [],
   "source": [
    "driver.get(\"https://www.flipkart.com/apple-iphone-11-black-64-gb/product-reviews/itm4e5041ba101fd?pid=MOBFWQ6BXGJCEYNY&lid=LSTMOBFWQ6BXGJCEYNYZXSHRJ&marketplace=FLIPKART&page=6\")"
   ]
  },
  {
   "cell_type": "code",
   "execution_count": 192,
   "id": "3801de78",
   "metadata": {},
   "outputs": [
    {
     "name": "stderr",
     "output_type": "stream",
     "text": [
      "<ipython-input-192-fa3a013139df>:1: DeprecationWarning: find_elements_by_* commands are deprecated. Please use find_elements() instead\n",
      "  summary=driver.find_elements_by_xpath(\"//p[@class='_2-N8zT']\")\n"
     ]
    },
    {
     "data": {
      "text/plain": [
       "['Pretty good',\n",
       " 'Fabulous!',\n",
       " 'Fabulous!',\n",
       " 'Just wow!',\n",
       " 'Terrific purchase',\n",
       " 'Awesome',\n",
       " 'Decent product',\n",
       " 'Brilliant',\n",
       " 'Awesome',\n",
       " 'Does the job',\n",
       " 'Highly recommended',\n",
       " 'Perfect product!',\n",
       " 'Perfect product!',\n",
       " 'Classy product',\n",
       " 'Perfect product!',\n",
       " 'Worth every penny',\n",
       " 'Highly recommended',\n",
       " 'Simply awesome',\n",
       " 'Worth every penny',\n",
       " 'Worth every penny',\n",
       " 'Terrific',\n",
       " 'Wonderful',\n",
       " 'Nice product',\n",
       " 'Perfect product!',\n",
       " 'Brilliant',\n",
       " 'Classy product',\n",
       " 'Must buy!',\n",
       " 'Good choice',\n",
       " 'Perfect product!',\n",
       " 'Wonderful',\n",
       " 'Terrific purchase',\n",
       " 'Simply awesome',\n",
       " 'Great product',\n",
       " 'Terrific purchase',\n",
       " 'Mind-blowing purchase',\n",
       " 'Excellent',\n",
       " 'Simply awesome',\n",
       " 'Good quality product',\n",
       " 'Very poor',\n",
       " 'Classy product',\n",
       " 'Perfect product!',\n",
       " 'Must buy!',\n",
       " 'Fabulous!',\n",
       " 'Mind-blowing purchase',\n",
       " 'Mind-blowing purchase',\n",
       " 'Wonderful',\n",
       " 'Must buy!',\n",
       " 'Great product',\n",
       " 'Very Good',\n",
       " 'Classy product',\n",
       " 'Perfect product!',\n",
       " 'Just wow!',\n",
       " 'Awesome',\n",
       " 'Pretty good',\n",
       " 'Terrific purchase',\n",
       " 'Awesome',\n",
       " 'Classy product',\n",
       " 'Brilliant',\n",
       " 'Terrific',\n",
       " 'Perfect product!']"
      ]
     },
     "execution_count": 192,
     "metadata": {},
     "output_type": "execute_result"
    }
   ],
   "source": [
    "summary=driver.find_elements_by_xpath(\"//p[@class='_2-N8zT']\")\n",
    "for i in summary:\n",
    "    review_summ.append(i.text)\n",
    "review_summ"
   ]
  },
  {
   "cell_type": "code",
   "execution_count": 193,
   "id": "f1b8bd82",
   "metadata": {},
   "outputs": [],
   "source": [
    "driver.get(\"https://www.flipkart.com/apple-iphone-11-black-64-gb/product-reviews/itm4e5041ba101fd?pid=MOBFWQ6BXGJCEYNY&lid=LSTMOBFWQ6BXGJCEYNYZXSHRJ&marketplace=FLIPKART&page=7\")"
   ]
  },
  {
   "cell_type": "code",
   "execution_count": 194,
   "id": "524a7433",
   "metadata": {},
   "outputs": [
    {
     "name": "stderr",
     "output_type": "stream",
     "text": [
      "<ipython-input-194-fa3a013139df>:1: DeprecationWarning: find_elements_by_* commands are deprecated. Please use find_elements() instead\n",
      "  summary=driver.find_elements_by_xpath(\"//p[@class='_2-N8zT']\")\n"
     ]
    },
    {
     "data": {
      "text/plain": [
       "['Pretty good',\n",
       " 'Fabulous!',\n",
       " 'Fabulous!',\n",
       " 'Just wow!',\n",
       " 'Terrific purchase',\n",
       " 'Awesome',\n",
       " 'Decent product',\n",
       " 'Brilliant',\n",
       " 'Awesome',\n",
       " 'Does the job',\n",
       " 'Highly recommended',\n",
       " 'Perfect product!',\n",
       " 'Perfect product!',\n",
       " 'Classy product',\n",
       " 'Perfect product!',\n",
       " 'Worth every penny',\n",
       " 'Highly recommended',\n",
       " 'Simply awesome',\n",
       " 'Worth every penny',\n",
       " 'Worth every penny',\n",
       " 'Terrific',\n",
       " 'Wonderful',\n",
       " 'Nice product',\n",
       " 'Perfect product!',\n",
       " 'Brilliant',\n",
       " 'Classy product',\n",
       " 'Must buy!',\n",
       " 'Good choice',\n",
       " 'Perfect product!',\n",
       " 'Wonderful',\n",
       " 'Terrific purchase',\n",
       " 'Simply awesome',\n",
       " 'Great product',\n",
       " 'Terrific purchase',\n",
       " 'Mind-blowing purchase',\n",
       " 'Excellent',\n",
       " 'Simply awesome',\n",
       " 'Good quality product',\n",
       " 'Very poor',\n",
       " 'Classy product',\n",
       " 'Perfect product!',\n",
       " 'Must buy!',\n",
       " 'Fabulous!',\n",
       " 'Mind-blowing purchase',\n",
       " 'Mind-blowing purchase',\n",
       " 'Wonderful',\n",
       " 'Must buy!',\n",
       " 'Great product',\n",
       " 'Very Good',\n",
       " 'Classy product',\n",
       " 'Perfect product!',\n",
       " 'Just wow!',\n",
       " 'Awesome',\n",
       " 'Pretty good',\n",
       " 'Terrific purchase',\n",
       " 'Awesome',\n",
       " 'Classy product',\n",
       " 'Brilliant',\n",
       " 'Terrific',\n",
       " 'Perfect product!',\n",
       " 'Awesome',\n",
       " 'Perfect product!',\n",
       " 'Very poor',\n",
       " 'Fabulous!',\n",
       " 'Excellent',\n",
       " 'Must buy!',\n",
       " 'Value-for-money',\n",
       " 'Best in the market!',\n",
       " 'Brilliant',\n",
       " 'Terrific purchase']"
      ]
     },
     "execution_count": 194,
     "metadata": {},
     "output_type": "execute_result"
    }
   ],
   "source": [
    "summary=driver.find_elements_by_xpath(\"//p[@class='_2-N8zT']\")\n",
    "for i in summary:\n",
    "    review_summ.append(i.text)\n",
    "review_summ"
   ]
  },
  {
   "cell_type": "code",
   "execution_count": 195,
   "id": "df6be439",
   "metadata": {},
   "outputs": [],
   "source": [
    "driver.get(\"https://www.flipkart.com/apple-iphone-11-black-64-gb/product-reviews/itm4e5041ba101fd?pid=MOBFWQ6BXGJCEYNY&lid=LSTMOBFWQ6BXGJCEYNYZXSHRJ&marketplace=FLIPKART&page=8\")"
   ]
  },
  {
   "cell_type": "code",
   "execution_count": 196,
   "id": "85c0a10f",
   "metadata": {},
   "outputs": [
    {
     "name": "stderr",
     "output_type": "stream",
     "text": [
      "<ipython-input-196-fa3a013139df>:1: DeprecationWarning: find_elements_by_* commands are deprecated. Please use find_elements() instead\n",
      "  summary=driver.find_elements_by_xpath(\"//p[@class='_2-N8zT']\")\n"
     ]
    },
    {
     "data": {
      "text/plain": [
       "['Pretty good',\n",
       " 'Fabulous!',\n",
       " 'Fabulous!',\n",
       " 'Just wow!',\n",
       " 'Terrific purchase',\n",
       " 'Awesome',\n",
       " 'Decent product',\n",
       " 'Brilliant',\n",
       " 'Awesome',\n",
       " 'Does the job',\n",
       " 'Highly recommended',\n",
       " 'Perfect product!',\n",
       " 'Perfect product!',\n",
       " 'Classy product',\n",
       " 'Perfect product!',\n",
       " 'Worth every penny',\n",
       " 'Highly recommended',\n",
       " 'Simply awesome',\n",
       " 'Worth every penny',\n",
       " 'Worth every penny',\n",
       " 'Terrific',\n",
       " 'Wonderful',\n",
       " 'Nice product',\n",
       " 'Perfect product!',\n",
       " 'Brilliant',\n",
       " 'Classy product',\n",
       " 'Must buy!',\n",
       " 'Good choice',\n",
       " 'Perfect product!',\n",
       " 'Wonderful',\n",
       " 'Terrific purchase',\n",
       " 'Simply awesome',\n",
       " 'Great product',\n",
       " 'Terrific purchase',\n",
       " 'Mind-blowing purchase',\n",
       " 'Excellent',\n",
       " 'Simply awesome',\n",
       " 'Good quality product',\n",
       " 'Very poor',\n",
       " 'Classy product',\n",
       " 'Perfect product!',\n",
       " 'Must buy!',\n",
       " 'Fabulous!',\n",
       " 'Mind-blowing purchase',\n",
       " 'Mind-blowing purchase',\n",
       " 'Wonderful',\n",
       " 'Must buy!',\n",
       " 'Great product',\n",
       " 'Very Good',\n",
       " 'Classy product',\n",
       " 'Perfect product!',\n",
       " 'Just wow!',\n",
       " 'Awesome',\n",
       " 'Pretty good',\n",
       " 'Terrific purchase',\n",
       " 'Awesome',\n",
       " 'Classy product',\n",
       " 'Brilliant',\n",
       " 'Terrific',\n",
       " 'Perfect product!',\n",
       " 'Awesome',\n",
       " 'Perfect product!',\n",
       " 'Very poor',\n",
       " 'Fabulous!',\n",
       " 'Excellent',\n",
       " 'Must buy!',\n",
       " 'Value-for-money',\n",
       " 'Best in the market!',\n",
       " 'Brilliant',\n",
       " 'Terrific purchase',\n",
       " 'Good quality product',\n",
       " 'Best in the market!',\n",
       " 'Perfect product!',\n",
       " 'Awesome',\n",
       " 'Value-for-money',\n",
       " 'Just wow!',\n",
       " 'Worthless',\n",
       " 'Super!',\n",
       " 'Excellent',\n",
       " 'Nice product']"
      ]
     },
     "execution_count": 196,
     "metadata": {},
     "output_type": "execute_result"
    }
   ],
   "source": [
    "summary=driver.find_elements_by_xpath(\"//p[@class='_2-N8zT']\")\n",
    "for i in summary:\n",
    "    review_summ.append(i.text)\n",
    "review_summ"
   ]
  },
  {
   "cell_type": "code",
   "execution_count": 197,
   "id": "15da4ba5",
   "metadata": {},
   "outputs": [],
   "source": [
    "driver.get(\"https://www.flipkart.com/apple-iphone-11-black-64-gb/product-reviews/itm4e5041ba101fd?pid=MOBFWQ6BXGJCEYNY&lid=LSTMOBFWQ6BXGJCEYNYZXSHRJ&marketplace=FLIPKART&page=9\")"
   ]
  },
  {
   "cell_type": "code",
   "execution_count": 198,
   "id": "a2164fcb",
   "metadata": {},
   "outputs": [
    {
     "name": "stderr",
     "output_type": "stream",
     "text": [
      "<ipython-input-198-fa3a013139df>:1: DeprecationWarning: find_elements_by_* commands are deprecated. Please use find_elements() instead\n",
      "  summary=driver.find_elements_by_xpath(\"//p[@class='_2-N8zT']\")\n"
     ]
    },
    {
     "data": {
      "text/plain": [
       "['Pretty good',\n",
       " 'Fabulous!',\n",
       " 'Fabulous!',\n",
       " 'Just wow!',\n",
       " 'Terrific purchase',\n",
       " 'Awesome',\n",
       " 'Decent product',\n",
       " 'Brilliant',\n",
       " 'Awesome',\n",
       " 'Does the job',\n",
       " 'Highly recommended',\n",
       " 'Perfect product!',\n",
       " 'Perfect product!',\n",
       " 'Classy product',\n",
       " 'Perfect product!',\n",
       " 'Worth every penny',\n",
       " 'Highly recommended',\n",
       " 'Simply awesome',\n",
       " 'Worth every penny',\n",
       " 'Worth every penny',\n",
       " 'Terrific',\n",
       " 'Wonderful',\n",
       " 'Nice product',\n",
       " 'Perfect product!',\n",
       " 'Brilliant',\n",
       " 'Classy product',\n",
       " 'Must buy!',\n",
       " 'Good choice',\n",
       " 'Perfect product!',\n",
       " 'Wonderful',\n",
       " 'Terrific purchase',\n",
       " 'Simply awesome',\n",
       " 'Great product',\n",
       " 'Terrific purchase',\n",
       " 'Mind-blowing purchase',\n",
       " 'Excellent',\n",
       " 'Simply awesome',\n",
       " 'Good quality product',\n",
       " 'Very poor',\n",
       " 'Classy product',\n",
       " 'Perfect product!',\n",
       " 'Must buy!',\n",
       " 'Fabulous!',\n",
       " 'Mind-blowing purchase',\n",
       " 'Mind-blowing purchase',\n",
       " 'Wonderful',\n",
       " 'Must buy!',\n",
       " 'Great product',\n",
       " 'Very Good',\n",
       " 'Classy product',\n",
       " 'Perfect product!',\n",
       " 'Just wow!',\n",
       " 'Awesome',\n",
       " 'Pretty good',\n",
       " 'Terrific purchase',\n",
       " 'Awesome',\n",
       " 'Classy product',\n",
       " 'Brilliant',\n",
       " 'Terrific',\n",
       " 'Perfect product!',\n",
       " 'Awesome',\n",
       " 'Perfect product!',\n",
       " 'Very poor',\n",
       " 'Fabulous!',\n",
       " 'Excellent',\n",
       " 'Must buy!',\n",
       " 'Value-for-money',\n",
       " 'Best in the market!',\n",
       " 'Brilliant',\n",
       " 'Terrific purchase',\n",
       " 'Good quality product',\n",
       " 'Best in the market!',\n",
       " 'Perfect product!',\n",
       " 'Awesome',\n",
       " 'Value-for-money',\n",
       " 'Just wow!',\n",
       " 'Worthless',\n",
       " 'Super!',\n",
       " 'Excellent',\n",
       " 'Nice product',\n",
       " 'Mind-blowing purchase',\n",
       " 'Wonderful',\n",
       " 'Highly recommended',\n",
       " 'Classy product',\n",
       " 'Terrific',\n",
       " 'Excellent',\n",
       " 'Mind-blowing purchase',\n",
       " 'Mind-blowing purchase',\n",
       " 'Excellent',\n",
       " 'Worth every penny']"
      ]
     },
     "execution_count": 198,
     "metadata": {},
     "output_type": "execute_result"
    }
   ],
   "source": [
    "summary=driver.find_elements_by_xpath(\"//p[@class='_2-N8zT']\")\n",
    "for i in summary:\n",
    "    review_summ.append(i.text)\n",
    "review_summ"
   ]
  },
  {
   "cell_type": "code",
   "execution_count": 199,
   "id": "fb3fef35",
   "metadata": {},
   "outputs": [],
   "source": [
    "driver.get(\"https://www.flipkart.com/apple-iphone-11-black-64-gb/product-reviews/itm4e5041ba101fd?pid=MOBFWQ6BXGJCEYNY&lid=LSTMOBFWQ6BXGJCEYNYZXSHRJ&marketplace=FLIPKART&page=10\")"
   ]
  },
  {
   "cell_type": "code",
   "execution_count": 202,
   "id": "2d3c1fd0",
   "metadata": {},
   "outputs": [
    {
     "name": "stderr",
     "output_type": "stream",
     "text": [
      "<ipython-input-202-4a4d510d4c1d>:1: DeprecationWarning: find_elements_by_* commands are deprecated. Please use find_elements() instead\n",
      "  summary=driver.find_elements_by_xpath(\"//p[@class='_2-N8zT']\")\n"
     ]
    }
   ],
   "source": [
    "summary=driver.find_elements_by_xpath(\"//p[@class='_2-N8zT']\")\n",
    "for i in summary:\n",
    "    review_summ.append(i.text)\n"
   ]
  },
  {
   "cell_type": "code",
   "execution_count": 203,
   "id": "b03788b4",
   "metadata": {},
   "outputs": [
    {
     "data": {
      "text/plain": [
       "110"
      ]
     },
     "execution_count": 203,
     "metadata": {},
     "output_type": "execute_result"
    }
   ],
   "source": [
    "len(review_summ)"
   ]
  },
  {
   "cell_type": "code",
   "execution_count": 204,
   "id": "070140d8",
   "metadata": {},
   "outputs": [],
   "source": [
    "driver.get(\"https://www.flipkart.com/apple-iphone-11-black-64-gb/product-reviews/itm4e5041ba101fd?pid=MOBFWQ6BXGJCEYNY&lid=LSTMOBFWQ6BXGJCEYNYZXSHRJ&marketplace=FLIPKART\")"
   ]
  },
  {
   "cell_type": "code",
   "execution_count": 205,
   "id": "3538d69d",
   "metadata": {},
   "outputs": [
    {
     "name": "stderr",
     "output_type": "stream",
     "text": [
      "<ipython-input-205-7849fa65f819>:1: DeprecationWarning: find_elements_by_* commands are deprecated. Please use find_elements() instead\n",
      "  full=driver.find_elements_by_xpath(\"//div[@class='t-ZTKy']\")\n"
     ]
    }
   ],
   "source": [
    "full=driver.find_elements_by_xpath(\"//div[@class='t-ZTKy']\")\n",
    "for i in full:\n",
    "    review.append(i.text)   "
   ]
  },
  {
   "cell_type": "code",
   "execution_count": 207,
   "id": "602980db",
   "metadata": {},
   "outputs": [],
   "source": [
    "driver.get(\"https://www.flipkart.com/apple-iphone-11-black-64-gb/product-reviews/itm4e5041ba101fd?pid=MOBFWQ6BXGJCEYNY&lid=LSTMOBFWQ6BXGJCEYNYZXSHRJ&marketplace=FLIPKART&page=2\")"
   ]
  },
  {
   "cell_type": "code",
   "execution_count": 208,
   "id": "cffe9f01",
   "metadata": {},
   "outputs": [
    {
     "name": "stderr",
     "output_type": "stream",
     "text": [
      "<ipython-input-208-1a2a22fec9fe>:1: DeprecationWarning: find_elements_by_* commands are deprecated. Please use find_elements() instead\n",
      "  full=driver.find_elements_by_xpath(\"//div[@class='t-ZTKy']\")\n"
     ]
    }
   ],
   "source": [
    "full=driver.find_elements_by_xpath(\"//div[@class='t-ZTKy']\")\n",
    "for i in full:\n",
    "    review.append(i.text) "
   ]
  },
  {
   "cell_type": "code",
   "execution_count": 209,
   "id": "cc12481b",
   "metadata": {},
   "outputs": [],
   "source": [
    "driver.get(\"https://www.flipkart.com/apple-iphone-11-black-64-gb/product-reviews/itm4e5041ba101fd?pid=MOBFWQ6BXGJCEYNY&lid=LSTMOBFWQ6BXGJCEYNYZXSHRJ&marketplace=FLIPKART&page=3\")"
   ]
  },
  {
   "cell_type": "code",
   "execution_count": 210,
   "id": "b9c25d66",
   "metadata": {},
   "outputs": [
    {
     "name": "stderr",
     "output_type": "stream",
     "text": [
      "<ipython-input-210-1a2a22fec9fe>:1: DeprecationWarning: find_elements_by_* commands are deprecated. Please use find_elements() instead\n",
      "  full=driver.find_elements_by_xpath(\"//div[@class='t-ZTKy']\")\n"
     ]
    }
   ],
   "source": [
    "full=driver.find_elements_by_xpath(\"//div[@class='t-ZTKy']\")\n",
    "for i in full:\n",
    "    review.append(i.text) "
   ]
  },
  {
   "cell_type": "code",
   "execution_count": 211,
   "id": "2b783f0a",
   "metadata": {},
   "outputs": [],
   "source": [
    "driver.get(\"https://www.flipkart.com/apple-iphone-11-black-64-gb/product-reviews/itm4e5041ba101fd?pid=MOBFWQ6BXGJCEYNY&lid=LSTMOBFWQ6BXGJCEYNYZXSHRJ&marketplace=FLIPKART&page=4\")"
   ]
  },
  {
   "cell_type": "code",
   "execution_count": 212,
   "id": "dbbabd2a",
   "metadata": {},
   "outputs": [
    {
     "name": "stderr",
     "output_type": "stream",
     "text": [
      "<ipython-input-212-1a2a22fec9fe>:1: DeprecationWarning: find_elements_by_* commands are deprecated. Please use find_elements() instead\n",
      "  full=driver.find_elements_by_xpath(\"//div[@class='t-ZTKy']\")\n"
     ]
    }
   ],
   "source": [
    "full=driver.find_elements_by_xpath(\"//div[@class='t-ZTKy']\")\n",
    "for i in full:\n",
    "    review.append(i.text) "
   ]
  },
  {
   "cell_type": "code",
   "execution_count": 214,
   "id": "7750f6cd",
   "metadata": {},
   "outputs": [],
   "source": [
    "driver.get(\"https://www.flipkart.com/apple-iphone-11-black-64-gb/product-reviews/itm4e5041ba101fd?pid=MOBFWQ6BXGJCEYNY&lid=LSTMOBFWQ6BXGJCEYNYZXSHRJ&marketplace=FLIPKART&page=5\")"
   ]
  },
  {
   "cell_type": "code",
   "execution_count": 215,
   "id": "46289445",
   "metadata": {},
   "outputs": [
    {
     "name": "stderr",
     "output_type": "stream",
     "text": [
      "<ipython-input-215-1a2a22fec9fe>:1: DeprecationWarning: find_elements_by_* commands are deprecated. Please use find_elements() instead\n",
      "  full=driver.find_elements_by_xpath(\"//div[@class='t-ZTKy']\")\n"
     ]
    }
   ],
   "source": [
    "full=driver.find_elements_by_xpath(\"//div[@class='t-ZTKy']\")\n",
    "for i in full:\n",
    "    review.append(i.text) "
   ]
  },
  {
   "cell_type": "code",
   "execution_count": 216,
   "id": "5c9121ad",
   "metadata": {},
   "outputs": [],
   "source": [
    "driver.get(\"https://www.flipkart.com/apple-iphone-11-black-64-gb/product-reviews/itm4e5041ba101fd?pid=MOBFWQ6BXGJCEYNY&lid=LSTMOBFWQ6BXGJCEYNYZXSHRJ&marketplace=FLIPKART&page=6\")"
   ]
  },
  {
   "cell_type": "code",
   "execution_count": 217,
   "id": "86ed8ce1",
   "metadata": {},
   "outputs": [
    {
     "name": "stderr",
     "output_type": "stream",
     "text": [
      "<ipython-input-217-1a2a22fec9fe>:1: DeprecationWarning: find_elements_by_* commands are deprecated. Please use find_elements() instead\n",
      "  full=driver.find_elements_by_xpath(\"//div[@class='t-ZTKy']\")\n"
     ]
    }
   ],
   "source": [
    "full=driver.find_elements_by_xpath(\"//div[@class='t-ZTKy']\")\n",
    "for i in full:\n",
    "    review.append(i.text) "
   ]
  },
  {
   "cell_type": "code",
   "execution_count": 218,
   "id": "81ac1edf",
   "metadata": {},
   "outputs": [],
   "source": [
    "driver.get(\"https://www.flipkart.com/apple-iphone-11-black-64-gb/product-reviews/itm4e5041ba101fd?pid=MOBFWQ6BXGJCEYNY&lid=LSTMOBFWQ6BXGJCEYNYZXSHRJ&marketplace=FLIPKART&page=7\")"
   ]
  },
  {
   "cell_type": "code",
   "execution_count": 219,
   "id": "77541738",
   "metadata": {},
   "outputs": [
    {
     "name": "stderr",
     "output_type": "stream",
     "text": [
      "<ipython-input-219-1a2a22fec9fe>:1: DeprecationWarning: find_elements_by_* commands are deprecated. Please use find_elements() instead\n",
      "  full=driver.find_elements_by_xpath(\"//div[@class='t-ZTKy']\")\n"
     ]
    }
   ],
   "source": [
    "full=driver.find_elements_by_xpath(\"//div[@class='t-ZTKy']\")\n",
    "for i in full:\n",
    "    review.append(i.text) "
   ]
  },
  {
   "cell_type": "code",
   "execution_count": 220,
   "id": "e4aab5a8",
   "metadata": {},
   "outputs": [],
   "source": [
    "driver.get(\"https://www.flipkart.com/apple-iphone-11-black-64-gb/product-reviews/itm4e5041ba101fd?pid=MOBFWQ6BXGJCEYNY&lid=LSTMOBFWQ6BXGJCEYNYZXSHRJ&marketplace=FLIPKART&page=8\")"
   ]
  },
  {
   "cell_type": "code",
   "execution_count": 221,
   "id": "b016bb15",
   "metadata": {},
   "outputs": [
    {
     "name": "stderr",
     "output_type": "stream",
     "text": [
      "<ipython-input-221-1a2a22fec9fe>:1: DeprecationWarning: find_elements_by_* commands are deprecated. Please use find_elements() instead\n",
      "  full=driver.find_elements_by_xpath(\"//div[@class='t-ZTKy']\")\n"
     ]
    }
   ],
   "source": [
    "full=driver.find_elements_by_xpath(\"//div[@class='t-ZTKy']\")\n",
    "for i in full:\n",
    "    review.append(i.text) "
   ]
  },
  {
   "cell_type": "code",
   "execution_count": 222,
   "id": "0fe341eb",
   "metadata": {},
   "outputs": [],
   "source": [
    "driver.get(\"https://www.flipkart.com/apple-iphone-11-black-64-gb/product-reviews/itm4e5041ba101fd?pid=MOBFWQ6BXGJCEYNY&lid=LSTMOBFWQ6BXGJCEYNYZXSHRJ&marketplace=FLIPKART&page=9\")"
   ]
  },
  {
   "cell_type": "code",
   "execution_count": 223,
   "id": "b6276e2f",
   "metadata": {},
   "outputs": [
    {
     "name": "stderr",
     "output_type": "stream",
     "text": [
      "<ipython-input-223-1a2a22fec9fe>:1: DeprecationWarning: find_elements_by_* commands are deprecated. Please use find_elements() instead\n",
      "  full=driver.find_elements_by_xpath(\"//div[@class='t-ZTKy']\")\n"
     ]
    }
   ],
   "source": [
    "full=driver.find_elements_by_xpath(\"//div[@class='t-ZTKy']\")\n",
    "for i in full:\n",
    "    review.append(i.text) "
   ]
  },
  {
   "cell_type": "code",
   "execution_count": 224,
   "id": "92b0f4be",
   "metadata": {},
   "outputs": [],
   "source": [
    "driver.get(\"https://www.flipkart.com/apple-iphone-11-black-64-gb/product-reviews/itm4e5041ba101fd?pid=MOBFWQ6BXGJCEYNY&lid=LSTMOBFWQ6BXGJCEYNYZXSHRJ&marketplace=FLIPKART&page=10\")"
   ]
  },
  {
   "cell_type": "code",
   "execution_count": 225,
   "id": "bb17af50",
   "metadata": {},
   "outputs": [
    {
     "name": "stderr",
     "output_type": "stream",
     "text": [
      "<ipython-input-225-1a2a22fec9fe>:1: DeprecationWarning: find_elements_by_* commands are deprecated. Please use find_elements() instead\n",
      "  full=driver.find_elements_by_xpath(\"//div[@class='t-ZTKy']\")\n"
     ]
    }
   ],
   "source": [
    "full=driver.find_elements_by_xpath(\"//div[@class='t-ZTKy']\")\n",
    "for i in full:\n",
    "    review.append(i.text) "
   ]
  },
  {
   "cell_type": "code",
   "execution_count": 228,
   "id": "6d104067",
   "metadata": {},
   "outputs": [
    {
     "data": {
      "text/html": [
       "<div>\n",
       "<style scoped>\n",
       "    .dataframe tbody tr th:only-of-type {\n",
       "        vertical-align: middle;\n",
       "    }\n",
       "\n",
       "    .dataframe tbody tr th {\n",
       "        vertical-align: top;\n",
       "    }\n",
       "\n",
       "    .dataframe thead th {\n",
       "        text-align: right;\n",
       "    }\n",
       "</style>\n",
       "<table border=\"1\" class=\"dataframe\">\n",
       "  <thead>\n",
       "    <tr style=\"text-align: right;\">\n",
       "      <th></th>\n",
       "      <th>Rating</th>\n",
       "      <th>Review_Summary</th>\n",
       "      <th>Review</th>\n",
       "    </tr>\n",
       "  </thead>\n",
       "  <tbody>\n",
       "    <tr>\n",
       "      <th>0</th>\n",
       "      <td>5</td>\n",
       "      <td>Pretty good</td>\n",
       "      <td>The Best Phone for the Money\\n\\nThe iPhone 11 ...</td>\n",
       "    </tr>\n",
       "    <tr>\n",
       "      <th>1</th>\n",
       "      <td>5</td>\n",
       "      <td>Fabulous!</td>\n",
       "      <td>Really satisfied with the Product I received.....</td>\n",
       "    </tr>\n",
       "    <tr>\n",
       "      <th>2</th>\n",
       "      <td>5</td>\n",
       "      <td>Fabulous!</td>\n",
       "      <td>Great iPhone very snappy experience as apple k...</td>\n",
       "    </tr>\n",
       "    <tr>\n",
       "      <th>3</th>\n",
       "      <td>5</td>\n",
       "      <td>Just wow!</td>\n",
       "      <td>Amazing phone with great cameras and better ba...</td>\n",
       "    </tr>\n",
       "    <tr>\n",
       "      <th>4</th>\n",
       "      <td>5</td>\n",
       "      <td>Terrific purchase</td>\n",
       "      <td>Previously I was using one plus 3t it was a gr...</td>\n",
       "    </tr>\n",
       "    <tr>\n",
       "      <th>...</th>\n",
       "      <td>...</td>\n",
       "      <td>...</td>\n",
       "      <td>...</td>\n",
       "    </tr>\n",
       "    <tr>\n",
       "      <th>92</th>\n",
       "      <td>5</td>\n",
       "      <td>Fabulous!</td>\n",
       "      <td>Everything is perfect pictures come out so cle...</td>\n",
       "    </tr>\n",
       "    <tr>\n",
       "      <th>93</th>\n",
       "      <td>5</td>\n",
       "      <td>Just wow!</td>\n",
       "      <td>The ultimate performance\\nCamera is superb\\nTh...</td>\n",
       "    </tr>\n",
       "    <tr>\n",
       "      <th>94</th>\n",
       "      <td>5</td>\n",
       "      <td>Terrific purchase</td>\n",
       "      <td>I use a Note10+ and have been using both iOS a...</td>\n",
       "    </tr>\n",
       "    <tr>\n",
       "      <th>95</th>\n",
       "      <td>5</td>\n",
       "      <td>Awesome</td>\n",
       "      <td>The phone is completely good\\nAs far as camera...</td>\n",
       "    </tr>\n",
       "    <tr>\n",
       "      <th>96</th>\n",
       "      <td>5</td>\n",
       "      <td>Decent product</td>\n",
       "      <td>Everything u ll like it when u use this iPhone...</td>\n",
       "    </tr>\n",
       "  </tbody>\n",
       "</table>\n",
       "<p>97 rows × 3 columns</p>\n",
       "</div>"
      ],
      "text/plain": [
       "   Rating     Review_Summary  \\\n",
       "0       5        Pretty good   \n",
       "1       5          Fabulous!   \n",
       "2       5          Fabulous!   \n",
       "3       5          Just wow!   \n",
       "4       5  Terrific purchase   \n",
       "..    ...                ...   \n",
       "92      5          Fabulous!   \n",
       "93      5          Just wow!   \n",
       "94      5  Terrific purchase   \n",
       "95      5            Awesome   \n",
       "96      5     Decent product   \n",
       "\n",
       "                                               Review  \n",
       "0   The Best Phone for the Money\\n\\nThe iPhone 11 ...  \n",
       "1   Really satisfied with the Product I received.....  \n",
       "2   Great iPhone very snappy experience as apple k...  \n",
       "3   Amazing phone with great cameras and better ba...  \n",
       "4   Previously I was using one plus 3t it was a gr...  \n",
       "..                                                ...  \n",
       "92  Everything is perfect pictures come out so cle...  \n",
       "93  The ultimate performance\\nCamera is superb\\nTh...  \n",
       "94  I use a Note10+ and have been using both iOS a...  \n",
       "95  The phone is completely good\\nAs far as camera...  \n",
       "96  Everything u ll like it when u use this iPhone...  \n",
       "\n",
       "[97 rows x 3 columns]"
      ]
     },
     "execution_count": 228,
     "metadata": {},
     "output_type": "execute_result"
    }
   ],
   "source": [
    "df=pd.DataFrame({'Rating':rating,\n",
    "             'Review_Summary':review_summ[0:97],\n",
    "             'Review':review[0:97]})\n",
    "df"
   ]
  },
  {
   "cell_type": "markdown",
   "id": "195f89fe",
   "metadata": {},
   "source": [
    "### Go to the link - https://www.myntra.com/shoes Set Price filter to “Rs. 6649 to Rs. 13099” , Color filter to “Black”, as shown in the below image"
   ]
  },
  {
   "cell_type": "code",
   "execution_count": 234,
   "id": "108f1553",
   "metadata": {},
   "outputs": [],
   "source": [
    "driver.get(\"https://www.myntra.com/shoes?f=Color%3ABlack_36454f&rf=Price%3A7149.0_14099.0_7149.0%20TO%2014099.0\")"
   ]
  },
  {
   "cell_type": "code",
   "execution_count": 235,
   "id": "e6d0a1e4",
   "metadata": {},
   "outputs": [],
   "source": [
    "brand=[]\n",
    "rate=[]\n",
    "summary=[]"
   ]
  },
  {
   "cell_type": "code",
   "execution_count": 236,
   "id": "adb422b9",
   "metadata": {},
   "outputs": [
    {
     "name": "stderr",
     "output_type": "stream",
     "text": [
      "<ipython-input-236-532a976b3e11>:1: DeprecationWarning: find_elements_by_* commands are deprecated. Please use find_elements() instead\n",
      "  name=driver.find_elements_by_xpath(\"//h3[@class='product-brand']\")\n"
     ]
    }
   ],
   "source": [
    "name=driver.find_elements_by_xpath(\"//h3[@class='product-brand']\")\n",
    "for i in name:\n",
    "    brand.append(i.text) "
   ]
  },
  {
   "cell_type": "code",
   "execution_count": 238,
   "id": "b0439ffa",
   "metadata": {},
   "outputs": [],
   "source": [
    "driver.get(\"https://www.myntra.com/shoes?f=Color%3ABlack_36454f&p=2&rf=Price%3A7149.0_14099.0_7149.0%20TO%2014099.0\")"
   ]
  },
  {
   "cell_type": "code",
   "execution_count": 239,
   "id": "80f89425",
   "metadata": {},
   "outputs": [
    {
     "name": "stderr",
     "output_type": "stream",
     "text": [
      "<ipython-input-239-f721053097b4>:1: DeprecationWarning: find_elements_by_* commands are deprecated. Please use find_elements() instead\n",
      "  name=driver.find_elements_by_xpath(\"//h3[@class='product-brand']\")\n"
     ]
    }
   ],
   "source": [
    "name=driver.find_elements_by_xpath(\"//h3[@class='product-brand']\")\n",
    "for i in name:\n",
    "    brand.append(i.text)"
   ]
  },
  {
   "cell_type": "code",
   "execution_count": 240,
   "id": "1b2b97b9",
   "metadata": {},
   "outputs": [],
   "source": [
    "driver.get(\"https://www.myntra.com/shoes?f=Color%3ABlack_36454f&p=3&rf=Price%3A7149.0_14099.0_7149.0%20TO%2014099.0\")"
   ]
  },
  {
   "cell_type": "code",
   "execution_count": 241,
   "id": "f3cbdb72",
   "metadata": {},
   "outputs": [
    {
     "name": "stderr",
     "output_type": "stream",
     "text": [
      "<ipython-input-241-f721053097b4>:1: DeprecationWarning: find_elements_by_* commands are deprecated. Please use find_elements() instead\n",
      "  name=driver.find_elements_by_xpath(\"//h3[@class='product-brand']\")\n"
     ]
    }
   ],
   "source": [
    "name=driver.find_elements_by_xpath(\"//h3[@class='product-brand']\")\n",
    "for i in name:\n",
    "    brand.append(i.text)"
   ]
  },
  {
   "cell_type": "code",
   "execution_count": 242,
   "id": "89075985",
   "metadata": {},
   "outputs": [],
   "source": [
    "driver.get(\"https://www.myntra.com/shoes?f=Color%3ABlack_36454f&p=4&rf=Price%3A7149.0_14099.0_7149.0%20TO%2014099.0\")"
   ]
  },
  {
   "cell_type": "code",
   "execution_count": 243,
   "id": "8b186c76",
   "metadata": {},
   "outputs": [
    {
     "name": "stderr",
     "output_type": "stream",
     "text": [
      "<ipython-input-243-f721053097b4>:1: DeprecationWarning: find_elements_by_* commands are deprecated. Please use find_elements() instead\n",
      "  name=driver.find_elements_by_xpath(\"//h3[@class='product-brand']\")\n"
     ]
    }
   ],
   "source": [
    "name=driver.find_elements_by_xpath(\"//h3[@class='product-brand']\")\n",
    "for i in name:\n",
    "    brand.append(i.text)"
   ]
  },
  {
   "cell_type": "code",
   "execution_count": 244,
   "id": "cfaf4121",
   "metadata": {},
   "outputs": [],
   "source": [
    "driver.get(\"https://www.myntra.com/shoes?f=Color%3ABlack_36454f&p=5&rf=Price%3A7149.0_14099.0_7149.0%20TO%2014099.0\")"
   ]
  },
  {
   "cell_type": "code",
   "execution_count": 245,
   "id": "a42464a9",
   "metadata": {},
   "outputs": [
    {
     "name": "stderr",
     "output_type": "stream",
     "text": [
      "<ipython-input-245-f721053097b4>:1: DeprecationWarning: find_elements_by_* commands are deprecated. Please use find_elements() instead\n",
      "  name=driver.find_elements_by_xpath(\"//h3[@class='product-brand']\")\n"
     ]
    }
   ],
   "source": [
    "name=driver.find_elements_by_xpath(\"//h3[@class='product-brand']\")\n",
    "for i in name:\n",
    "    brand.append(i.text)"
   ]
  },
  {
   "cell_type": "code",
   "execution_count": 246,
   "id": "cb5b8344",
   "metadata": {},
   "outputs": [],
   "source": [
    "driver.get(\"https://www.myntra.com/shoes?f=Color%3ABlack_36454f&p=6&rf=Price%3A7149.0_14099.0_7149.0%20TO%2014099.0\")"
   ]
  },
  {
   "cell_type": "code",
   "execution_count": 247,
   "id": "76b34793",
   "metadata": {},
   "outputs": [
    {
     "name": "stderr",
     "output_type": "stream",
     "text": [
      "<ipython-input-247-f721053097b4>:1: DeprecationWarning: find_elements_by_* commands are deprecated. Please use find_elements() instead\n",
      "  name=driver.find_elements_by_xpath(\"//h3[@class='product-brand']\")\n"
     ]
    }
   ],
   "source": [
    "name=driver.find_elements_by_xpath(\"//h3[@class='product-brand']\")\n",
    "for i in name:\n",
    "    brand.append(i.text)"
   ]
  },
  {
   "cell_type": "code",
   "execution_count": 259,
   "id": "4362a547",
   "metadata": {},
   "outputs": [],
   "source": [
    "driver.get(\"https://www.myntra.com/shoes?f=Color%3ABlack_36454f&rf=Price%3A7149.0_14099.0_7149.0%20TO%2014099.0\")"
   ]
  },
  {
   "cell_type": "code",
   "execution_count": 260,
   "id": "05d9885d",
   "metadata": {},
   "outputs": [
    {
     "name": "stderr",
     "output_type": "stream",
     "text": [
      "<ipython-input-260-867661aea3b4>:1: DeprecationWarning: find_elements_by_* commands are deprecated. Please use find_elements() instead\n",
      "  price=driver.find_elements_by_xpath(\"//div[@class='product-price']\")\n"
     ]
    }
   ],
   "source": [
    "price=driver.find_elements_by_xpath(\"//div[@class='product-price']\")\n",
    "for i in price:\n",
    "    rate.append(i.text)"
   ]
  },
  {
   "cell_type": "code",
   "execution_count": 263,
   "id": "e9b497eb",
   "metadata": {},
   "outputs": [],
   "source": [
    "driver.get(\"https://www.myntra.com/shoes?f=Color%3ABlack_36454f&p=2&rf=Price%3A7149.0_14099.0_7149.0%20TO%2014099.0\")"
   ]
  },
  {
   "cell_type": "code",
   "execution_count": 264,
   "id": "ab6961f6",
   "metadata": {},
   "outputs": [
    {
     "name": "stderr",
     "output_type": "stream",
     "text": [
      "<ipython-input-264-867661aea3b4>:1: DeprecationWarning: find_elements_by_* commands are deprecated. Please use find_elements() instead\n",
      "  price=driver.find_elements_by_xpath(\"//div[@class='product-price']\")\n"
     ]
    }
   ],
   "source": [
    "price=driver.find_elements_by_xpath(\"//div[@class='product-price']\")\n",
    "for i in price:\n",
    "    rate.append(i.text)"
   ]
  },
  {
   "cell_type": "code",
   "execution_count": 267,
   "id": "eeeddbec",
   "metadata": {},
   "outputs": [],
   "source": [
    "driver.get(\"https://www.myntra.com/shoes?f=Color%3ABlack_36454f&rf=Price%3A7149.0_14099.0_7149.0%20TO%2014099.0\")"
   ]
  },
  {
   "cell_type": "code",
   "execution_count": 268,
   "id": "93ed5666",
   "metadata": {},
   "outputs": [
    {
     "name": "stderr",
     "output_type": "stream",
     "text": [
      "<ipython-input-268-a64c91c21279>:1: DeprecationWarning: find_elements_by_* commands are deprecated. Please use find_elements() instead\n",
      "  des=driver.find_elements_by_xpath(\"//h4[@class='product-product']\")\n"
     ]
    }
   ],
   "source": [
    "des=driver.find_elements_by_xpath(\"//h4[@class='product-product']\")\n",
    "for i in des:\n",
    "    summary.append(i.text)"
   ]
  },
  {
   "cell_type": "code",
   "execution_count": 270,
   "id": "2ed2452d",
   "metadata": {},
   "outputs": [],
   "source": [
    "driver.get(\"https://www.myntra.com/shoes?f=Color%3ABlack_36454f&p=2&rf=Price%3A7149.0_14099.0_7149.0%20TO%2014099.0\")"
   ]
  },
  {
   "cell_type": "code",
   "execution_count": 272,
   "id": "e6b83eea",
   "metadata": {},
   "outputs": [
    {
     "name": "stderr",
     "output_type": "stream",
     "text": [
      "<ipython-input-272-a64c91c21279>:1: DeprecationWarning: find_elements_by_* commands are deprecated. Please use find_elements() instead\n",
      "  des=driver.find_elements_by_xpath(\"//h4[@class='product-product']\")\n"
     ]
    }
   ],
   "source": [
    "des=driver.find_elements_by_xpath(\"//h4[@class='product-product']\")\n",
    "for i in des:\n",
    "    summary.append(i.text)"
   ]
  },
  {
   "cell_type": "code",
   "execution_count": 274,
   "id": "d2d50e0e",
   "metadata": {},
   "outputs": [
    {
     "data": {
      "text/html": [
       "<div>\n",
       "<style scoped>\n",
       "    .dataframe tbody tr th:only-of-type {\n",
       "        vertical-align: middle;\n",
       "    }\n",
       "\n",
       "    .dataframe tbody tr th {\n",
       "        vertical-align: top;\n",
       "    }\n",
       "\n",
       "    .dataframe thead th {\n",
       "        text-align: right;\n",
       "    }\n",
       "</style>\n",
       "<table border=\"1\" class=\"dataframe\">\n",
       "  <thead>\n",
       "    <tr style=\"text-align: right;\">\n",
       "      <th></th>\n",
       "      <th>Brand</th>\n",
       "      <th>Rate</th>\n",
       "      <th>Summary</th>\n",
       "    </tr>\n",
       "  </thead>\n",
       "  <tbody>\n",
       "    <tr>\n",
       "      <th>0</th>\n",
       "      <td>Nike</td>\n",
       "      <td>Rs. 7195</td>\n",
       "      <td>Men Zoom Span 4 Running Shoes</td>\n",
       "    </tr>\n",
       "    <tr>\n",
       "      <th>1</th>\n",
       "      <td>UNDER ARMOUR</td>\n",
       "      <td>Rs. 13999</td>\n",
       "      <td>Men HOVR Apex 2 Training</td>\n",
       "    </tr>\n",
       "    <tr>\n",
       "      <th>2</th>\n",
       "      <td>ASICS</td>\n",
       "      <td>Rs. 11999Rs. 14999(20% OFF)</td>\n",
       "      <td>Men GEL-KAYANO 27 Shoes</td>\n",
       "    </tr>\n",
       "    <tr>\n",
       "      <th>3</th>\n",
       "      <td>Puma</td>\n",
       "      <td>Rs. 7499Rs. 9999(25% OFF)</td>\n",
       "      <td>Men Electrify Nitro Running</td>\n",
       "    </tr>\n",
       "    <tr>\n",
       "      <th>4</th>\n",
       "      <td>Nike</td>\n",
       "      <td>Rs. 7195</td>\n",
       "      <td>Men BlazerLow '77 Sneakers</td>\n",
       "    </tr>\n",
       "    <tr>\n",
       "      <th>...</th>\n",
       "      <td>...</td>\n",
       "      <td>...</td>\n",
       "      <td>...</td>\n",
       "    </tr>\n",
       "    <tr>\n",
       "      <th>95</th>\n",
       "      <td>DAVINCHI</td>\n",
       "      <td>Rs. 9599Rs. 11999(20% OFF)</td>\n",
       "      <td>Men Supernova+ Running Shoes</td>\n",
       "    </tr>\n",
       "    <tr>\n",
       "      <th>96</th>\n",
       "      <td>Pavers England</td>\n",
       "      <td>Rs. 11999</td>\n",
       "      <td>Men X9000L3 Running Shoes</td>\n",
       "    </tr>\n",
       "    <tr>\n",
       "      <th>97</th>\n",
       "      <td>ADIDAS</td>\n",
       "      <td>Rs. 11999</td>\n",
       "      <td>Women Open Toe Flats</td>\n",
       "    </tr>\n",
       "    <tr>\n",
       "      <th>98</th>\n",
       "      <td>ADIDAS</td>\n",
       "      <td>Rs. 8295</td>\n",
       "      <td>Men Waffle One SE Sneakers</td>\n",
       "    </tr>\n",
       "    <tr>\n",
       "      <th>99</th>\n",
       "      <td>Cole Haan</td>\n",
       "      <td>Rs. 9450Rs. 10500(Rs. 1050 OFF)</td>\n",
       "      <td>Leather Block Peep Toes</td>\n",
       "    </tr>\n",
       "  </tbody>\n",
       "</table>\n",
       "<p>100 rows × 3 columns</p>\n",
       "</div>"
      ],
      "text/plain": [
       "             Brand                             Rate  \\\n",
       "0             Nike                         Rs. 7195   \n",
       "1     UNDER ARMOUR                        Rs. 13999   \n",
       "2            ASICS      Rs. 11999Rs. 14999(20% OFF)   \n",
       "3             Puma        Rs. 7499Rs. 9999(25% OFF)   \n",
       "4             Nike                         Rs. 7195   \n",
       "..             ...                              ...   \n",
       "95        DAVINCHI       Rs. 9599Rs. 11999(20% OFF)   \n",
       "96  Pavers England                        Rs. 11999   \n",
       "97          ADIDAS                        Rs. 11999   \n",
       "98          ADIDAS                         Rs. 8295   \n",
       "99       Cole Haan  Rs. 9450Rs. 10500(Rs. 1050 OFF)   \n",
       "\n",
       "                          Summary  \n",
       "0   Men Zoom Span 4 Running Shoes  \n",
       "1        Men HOVR Apex 2 Training  \n",
       "2         Men GEL-KAYANO 27 Shoes  \n",
       "3     Men Electrify Nitro Running  \n",
       "4      Men BlazerLow '77 Sneakers  \n",
       "..                            ...  \n",
       "95   Men Supernova+ Running Shoes  \n",
       "96      Men X9000L3 Running Shoes  \n",
       "97           Women Open Toe Flats  \n",
       "98     Men Waffle One SE Sneakers  \n",
       "99        Leather Block Peep Toes  \n",
       "\n",
       "[100 rows x 3 columns]"
      ]
     },
     "execution_count": 274,
     "metadata": {},
     "output_type": "execute_result"
    }
   ],
   "source": [
    "df=pd.DataFrame({'Brand':brand[0:100],\n",
    "             'Rate':rate,\n",
    "             'Summary':summary})\n",
    "df"
   ]
  },
  {
   "cell_type": "markdown",
   "id": "82e83953",
   "metadata": {},
   "source": [
    "### Go to webpage https://www.amazon.in/ Enter “Laptop” in the search field and then click the search icon. Then set CPU Type filter to “Intel Core i7” and “Intel Core i9” as shown in the below image:"
   ]
  },
  {
   "cell_type": "code",
   "execution_count": 537,
   "id": "32d698b3",
   "metadata": {},
   "outputs": [],
   "source": [
    "driver.get(\"https://www.amazon.in/s?k=laptop&i=computers&rh=n%3A1375424031%2Cp_n_feature_thirteen_browse-bin%3A16757432031&dc&qid=1639495000&rnid=12598141031&ref=sr_nr_p_n_feature_thirteen_browse-bin_12\")"
   ]
  },
  {
   "cell_type": "code",
   "execution_count": 538,
   "id": "de0e8089",
   "metadata": {},
   "outputs": [],
   "source": [
    "title=[]\n",
    "rating=[]\n",
    "price=[]"
   ]
  },
  {
   "cell_type": "code",
   "execution_count": 280,
   "id": "af830c9e",
   "metadata": {},
   "outputs": [
    {
     "name": "stderr",
     "output_type": "stream",
     "text": [
      "<ipython-input-280-af0a6adf93b0>:1: DeprecationWarning: find_elements_by_* commands are deprecated. Please use find_elements() instead\n",
      "  name=driver.find_elements_by_xpath(\"//a[@class='a-link-normal a-text-normal']\")\n"
     ]
    }
   ],
   "source": [
    "name=driver.find_elements_by_xpath(\"//a[@class='a-link-normal a-text-normal']\")\n",
    "for i in name:\n",
    "    title.append(i.text)"
   ]
  },
  {
   "cell_type": "code",
   "execution_count": 549,
   "id": "01a40faf",
   "metadata": {},
   "outputs": [
    {
     "name": "stderr",
     "output_type": "stream",
     "text": [
      "<ipython-input-549-4e91bc80e60b>:1: DeprecationWarning: find_elements_by_* commands are deprecated. Please use find_elements() instead\n",
      "  rate=driver.find_elements_by_xpath(\"//a[@class='a-popover-trigger a-declarative']/i//span\")\n"
     ]
    }
   ],
   "source": [
    "rate=driver.find_elements_by_xpath(\"//a[@class='a-popover-trigger a-declara']/i//span\")\n",
    "for i in rate:\n",
    "    rating.append(i.text)"
   ]
  },
  {
   "cell_type": "code",
   "execution_count": 550,
   "id": "464f78a0",
   "metadata": {},
   "outputs": [
    {
     "data": {
      "text/plain": [
       "['',\n",
       " '',\n",
       " '',\n",
       " '',\n",
       " '',\n",
       " '',\n",
       " '',\n",
       " '',\n",
       " '',\n",
       " '',\n",
       " '',\n",
       " '',\n",
       " '',\n",
       " '',\n",
       " '',\n",
       " '',\n",
       " '',\n",
       " '',\n",
       " '',\n",
       " '',\n",
       " '',\n",
       " '',\n",
       " '',\n",
       " '',\n",
       " '',\n",
       " '',\n",
       " '']"
      ]
     },
     "execution_count": 550,
     "metadata": {},
     "output_type": "execute_result"
    }
   ],
   "source": [
    "rating"
   ]
  },
  {
   "cell_type": "code",
   "execution_count": 330,
   "id": "7d16884b",
   "metadata": {},
   "outputs": [
    {
     "name": "stderr",
     "output_type": "stream",
     "text": [
      "<ipython-input-330-71e4e8122553>:1: DeprecationWarning: find_elements_by_* commands are deprecated. Please use find_elements() instead\n",
      "  pric=driver.find_elements_by_xpath(\"//span[@class='a-price-whole']\")\n"
     ]
    }
   ],
   "source": [
    "pric=driver.find_elements_by_xpath(\"//span[@class='a-price-whole']\")\n",
    "for i in pric:\n",
    "    price.append(i.text)"
   ]
  },
  {
   "cell_type": "code",
   "execution_count": 331,
   "id": "a1b50573",
   "metadata": {},
   "outputs": [
    {
     "data": {
      "text/plain": [
       "['5,40,955',\n",
       " '2,25,000',\n",
       " '2,65,999',\n",
       " '1,49,300',\n",
       " '2,45,000',\n",
       " '3,75,000',\n",
       " '2,39,000']"
      ]
     },
     "execution_count": 331,
     "metadata": {},
     "output_type": "execute_result"
    }
   ],
   "source": [
    "price"
   ]
  },
  {
   "cell_type": "code",
   "execution_count": 362,
   "id": "a19ec223",
   "metadata": {},
   "outputs": [
    {
     "data": {
      "text/html": [
       "<div>\n",
       "<style scoped>\n",
       "    .dataframe tbody tr th:only-of-type {\n",
       "        vertical-align: middle;\n",
       "    }\n",
       "\n",
       "    .dataframe tbody tr th {\n",
       "        vertical-align: top;\n",
       "    }\n",
       "\n",
       "    .dataframe thead th {\n",
       "        text-align: right;\n",
       "    }\n",
       "</style>\n",
       "<table border=\"1\" class=\"dataframe\">\n",
       "  <thead>\n",
       "    <tr style=\"text-align: right;\">\n",
       "      <th></th>\n",
       "      <th>Brand</th>\n",
       "      <th>Price</th>\n",
       "    </tr>\n",
       "  </thead>\n",
       "  <tbody>\n",
       "    <tr>\n",
       "      <th>0</th>\n",
       "      <td>ASUS ROG G703GI-E5148T 17.3\" (43.94 cms) FHD 1...</td>\n",
       "      <td>5,40,955</td>\n",
       "    </tr>\n",
       "    <tr>\n",
       "      <th>1</th>\n",
       "      <td>ASUS ROG Strix Scar III G531GW 15.6\" FHD 240Hz...</td>\n",
       "      <td>2,25,000</td>\n",
       "    </tr>\n",
       "    <tr>\n",
       "      <th>2</th>\n",
       "      <td>(Renewed) Dell G7 7500 15.6inch FHD 300 Hz Dis...</td>\n",
       "      <td>2,65,999</td>\n",
       "    </tr>\n",
       "    <tr>\n",
       "      <th>3</th>\n",
       "      <td>Lenovo Legion 7 10th Gen Intel Core i9 15.6 in...</td>\n",
       "      <td>1,49,300</td>\n",
       "    </tr>\n",
       "    <tr>\n",
       "      <th>4</th>\n",
       "      <td>ASUS TUF Gaming F15 (2021), 15.6-inch (39.62 c...</td>\n",
       "      <td>2,45,000</td>\n",
       "    </tr>\n",
       "    <tr>\n",
       "      <th>5</th>\n",
       "      <td>HP ZBOOK Power G8/ Intel core i9-11900H 8 Core...</td>\n",
       "      <td>3,75,000</td>\n",
       "    </tr>\n",
       "    <tr>\n",
       "      <th>6</th>\n",
       "      <td>Dell XPS 17 (2021) i9-11900H Touch Screen Lapt...</td>\n",
       "      <td>2,39,000</td>\n",
       "    </tr>\n",
       "  </tbody>\n",
       "</table>\n",
       "</div>"
      ],
      "text/plain": [
       "                                               Brand     Price\n",
       "0  ASUS ROG G703GI-E5148T 17.3\" (43.94 cms) FHD 1...  5,40,955\n",
       "1  ASUS ROG Strix Scar III G531GW 15.6\" FHD 240Hz...  2,25,000\n",
       "2  (Renewed) Dell G7 7500 15.6inch FHD 300 Hz Dis...  2,65,999\n",
       "3  Lenovo Legion 7 10th Gen Intel Core i9 15.6 in...  1,49,300\n",
       "4  ASUS TUF Gaming F15 (2021), 15.6-inch (39.62 c...  2,45,000\n",
       "5  HP ZBOOK Power G8/ Intel core i9-11900H 8 Core...  3,75,000\n",
       "6  Dell XPS 17 (2021) i9-11900H Touch Screen Lapt...  2,39,000"
      ]
     },
     "execution_count": 362,
     "metadata": {},
     "output_type": "execute_result"
    }
   ],
   "source": [
    "df=pd.DataFrame({'Brand':title[0:7],\n",
    "    'Price':price})\n",
    "df"
   ]
  },
  {
   "cell_type": "markdown",
   "id": "7b26b887",
   "metadata": {},
   "source": [
    "### Write a python program to scrape data for first 10 job results for Data Scientist Designation in Noida location."
   ]
  },
  {
   "cell_type": "code",
   "execution_count": 423,
   "id": "f4a14a3a",
   "metadata": {},
   "outputs": [],
   "source": [
    "driver.get(\"https://www.ambitionbox.com/jobs/search?tag=data%20scientist&location=Noida\")"
   ]
  },
  {
   "cell_type": "code",
   "execution_count": 424,
   "id": "af7b7bab",
   "metadata": {},
   "outputs": [],
   "source": [
    "Brand=[]\n",
    "rating=[]\n",
    "days=[]"
   ]
  },
  {
   "cell_type": "code",
   "execution_count": 430,
   "id": "c70e1df8",
   "metadata": {},
   "outputs": [
    {
     "name": "stderr",
     "output_type": "stream",
     "text": [
      "<ipython-input-430-c719d4172cf6>:1: DeprecationWarning: find_elements_by_* commands are deprecated. Please use find_elements() instead\n",
      "  name_t=driver.find_elements_by_xpath(\"//div[@class='company-info']/p\")\n"
     ]
    }
   ],
   "source": [
    "name_t=driver.find_elements_by_xpath(\"//div[@class='company-info']/p\")\n",
    "for i in name_t:\n",
    "    Brand.append(i.text)\n",
    "      "
   ]
  },
  {
   "cell_type": "code",
   "execution_count": 437,
   "id": "ece9a7f6",
   "metadata": {},
   "outputs": [
    {
     "data": {
      "text/plain": [
       "20"
      ]
     },
     "execution_count": 437,
     "metadata": {},
     "output_type": "execute_result"
    }
   ],
   "source": [
    "len(Brand)\n"
   ]
  },
  {
   "cell_type": "code",
   "execution_count": 440,
   "id": "26e2db59",
   "metadata": {},
   "outputs": [
    {
     "name": "stderr",
     "output_type": "stream",
     "text": [
      "<ipython-input-440-57d93fac4d44>:1: DeprecationWarning: find_elements_by_* commands are deprecated. Please use find_elements() instead\n",
      "  ratings=driver.find_elements_by_xpath(\"//span[@class='body-small']\")\n"
     ]
    }
   ],
   "source": [
    "ratings=driver.find_elements_by_xpath(\"//span[@class='body-small']\")\n",
    "for i in ratings:\n",
    "    rating.append(i.text)"
   ]
  },
  {
   "cell_type": "code",
   "execution_count": 442,
   "id": "aa4fecce",
   "metadata": {},
   "outputs": [
    {
     "data": {
      "text/plain": [
       "20"
      ]
     },
     "execution_count": 442,
     "metadata": {},
     "output_type": "execute_result"
    }
   ],
   "source": [
    "len(rating)"
   ]
  },
  {
   "cell_type": "code",
   "execution_count": 443,
   "id": "20197c9e",
   "metadata": {},
   "outputs": [
    {
     "name": "stderr",
     "output_type": "stream",
     "text": [
      "<ipython-input-443-772e7e985ad5>:1: DeprecationWarning: find_elements_by_* commands are deprecated. Please use find_elements() instead\n",
      "  no_days=driver.find_elements_by_xpath(\"//span[@class='body-small-l']\")\n"
     ]
    }
   ],
   "source": [
    "no_days=driver.find_elements_by_xpath(\"//span[@class='body-small-l']\")\n",
    "for i in no_days:\n",
    "    days.append(i.text)"
   ]
  },
  {
   "cell_type": "code",
   "execution_count": 450,
   "id": "83313fc0",
   "metadata": {},
   "outputs": [
    {
     "data": {
      "text/plain": [
       "20"
      ]
     },
     "execution_count": 450,
     "metadata": {},
     "output_type": "execute_result"
    }
   ],
   "source": [
    "no_of_days_ago=[]\n",
    "for i in range(0,40,2):\n",
    "    no_of_days_ago.append(days[i])\n",
    "len(no_of_days_ago )   "
   ]
  },
  {
   "cell_type": "code",
   "execution_count": 451,
   "id": "b28b4543",
   "metadata": {},
   "outputs": [
    {
     "data": {
      "text/html": [
       "<div>\n",
       "<style scoped>\n",
       "    .dataframe tbody tr th:only-of-type {\n",
       "        vertical-align: middle;\n",
       "    }\n",
       "\n",
       "    .dataframe tbody tr th {\n",
       "        vertical-align: top;\n",
       "    }\n",
       "\n",
       "    .dataframe thead th {\n",
       "        text-align: right;\n",
       "    }\n",
       "</style>\n",
       "<table border=\"1\" class=\"dataframe\">\n",
       "  <thead>\n",
       "    <tr style=\"text-align: right;\">\n",
       "      <th></th>\n",
       "      <th>Company_name</th>\n",
       "      <th>Company_rating</th>\n",
       "      <th>No._of_days_ago_job_posted</th>\n",
       "    </tr>\n",
       "  </thead>\n",
       "  <tbody>\n",
       "    <tr>\n",
       "      <th>0</th>\n",
       "      <td>LG Electronics India Pvt. Ltd.</td>\n",
       "      <td>4.1</td>\n",
       "      <td>6d ago</td>\n",
       "    </tr>\n",
       "    <tr>\n",
       "      <th>1</th>\n",
       "      <td>GENPACT India Private Limited</td>\n",
       "      <td>4.0</td>\n",
       "      <td>13d ago</td>\n",
       "    </tr>\n",
       "    <tr>\n",
       "      <th>2</th>\n",
       "      <td>GENPACT India Private Limited</td>\n",
       "      <td>4.0</td>\n",
       "      <td>13d ago</td>\n",
       "    </tr>\n",
       "    <tr>\n",
       "      <th>3</th>\n",
       "      <td>NTT Data Business Solutions Pvt Ltd</td>\n",
       "      <td>3.8</td>\n",
       "      <td>14d ago</td>\n",
       "    </tr>\n",
       "    <tr>\n",
       "      <th>4</th>\n",
       "      <td>GENPACT India Private Limited</td>\n",
       "      <td>4.0</td>\n",
       "      <td>15d ago</td>\n",
       "    </tr>\n",
       "    <tr>\n",
       "      <th>5</th>\n",
       "      <td>GI Group</td>\n",
       "      <td>4.0</td>\n",
       "      <td>7d ago</td>\n",
       "    </tr>\n",
       "    <tr>\n",
       "      <th>6</th>\n",
       "      <td>GI Group</td>\n",
       "      <td>4.0</td>\n",
       "      <td>7d ago</td>\n",
       "    </tr>\n",
       "    <tr>\n",
       "      <th>7</th>\n",
       "      <td>GI Group</td>\n",
       "      <td>4.0</td>\n",
       "      <td>11d ago</td>\n",
       "    </tr>\n",
       "    <tr>\n",
       "      <th>8</th>\n",
       "      <td>Steria India Ltd</td>\n",
       "      <td>4.1</td>\n",
       "      <td>1mon ago</td>\n",
       "    </tr>\n",
       "    <tr>\n",
       "      <th>9</th>\n",
       "      <td>Zyoin</td>\n",
       "      <td>4.1</td>\n",
       "      <td>8d ago</td>\n",
       "    </tr>\n",
       "    <tr>\n",
       "      <th>10</th>\n",
       "      <td>Jubilant Foodworks Limited</td>\n",
       "      <td>3.9</td>\n",
       "      <td>1mon ago</td>\n",
       "    </tr>\n",
       "    <tr>\n",
       "      <th>11</th>\n",
       "      <td>Ameriprise Financial</td>\n",
       "      <td>4.0</td>\n",
       "      <td>1mon ago</td>\n",
       "    </tr>\n",
       "    <tr>\n",
       "      <th>12</th>\n",
       "      <td>Steria India Ltd</td>\n",
       "      <td>4.1</td>\n",
       "      <td>1mon ago</td>\n",
       "    </tr>\n",
       "    <tr>\n",
       "      <th>13</th>\n",
       "      <td>Steria India Ltd</td>\n",
       "      <td>4.1</td>\n",
       "      <td>1mon ago</td>\n",
       "    </tr>\n",
       "    <tr>\n",
       "      <th>14</th>\n",
       "      <td>Newgen Software Technologies Ltd.</td>\n",
       "      <td>3.3</td>\n",
       "      <td>19d ago</td>\n",
       "    </tr>\n",
       "    <tr>\n",
       "      <th>15</th>\n",
       "      <td>Polestar Solutions &amp; Services Ind. Pvt. Ltd</td>\n",
       "      <td>3.8</td>\n",
       "      <td>24d ago</td>\n",
       "    </tr>\n",
       "    <tr>\n",
       "      <th>16</th>\n",
       "      <td>Bizdata</td>\n",
       "      <td>3.1</td>\n",
       "      <td>2d ago</td>\n",
       "    </tr>\n",
       "    <tr>\n",
       "      <th>17</th>\n",
       "      <td>Evalueserve.com Pvt. Ltd</td>\n",
       "      <td>3.4</td>\n",
       "      <td>1mon ago</td>\n",
       "    </tr>\n",
       "    <tr>\n",
       "      <th>18</th>\n",
       "      <td>ACS Solutions</td>\n",
       "      <td>4.1</td>\n",
       "      <td>15d ago</td>\n",
       "    </tr>\n",
       "    <tr>\n",
       "      <th>19</th>\n",
       "      <td>GSS HR Solutions</td>\n",
       "      <td>3.7</td>\n",
       "      <td>5d ago</td>\n",
       "    </tr>\n",
       "  </tbody>\n",
       "</table>\n",
       "</div>"
      ],
      "text/plain": [
       "                                   Company_name Company_rating  \\\n",
       "0                LG Electronics India Pvt. Ltd.            4.1   \n",
       "1                 GENPACT India Private Limited            4.0   \n",
       "2                 GENPACT India Private Limited            4.0   \n",
       "3           NTT Data Business Solutions Pvt Ltd            3.8   \n",
       "4                 GENPACT India Private Limited            4.0   \n",
       "5                                      GI Group            4.0   \n",
       "6                                      GI Group            4.0   \n",
       "7                                      GI Group            4.0   \n",
       "8                              Steria India Ltd            4.1   \n",
       "9                                         Zyoin            4.1   \n",
       "10                   Jubilant Foodworks Limited            3.9   \n",
       "11                         Ameriprise Financial            4.0   \n",
       "12                             Steria India Ltd            4.1   \n",
       "13                             Steria India Ltd            4.1   \n",
       "14            Newgen Software Technologies Ltd.            3.3   \n",
       "15  Polestar Solutions & Services Ind. Pvt. Ltd            3.8   \n",
       "16                                      Bizdata            3.1   \n",
       "17                     Evalueserve.com Pvt. Ltd            3.4   \n",
       "18                                ACS Solutions            4.1   \n",
       "19                             GSS HR Solutions            3.7   \n",
       "\n",
       "   No._of_days_ago_job_posted  \n",
       "0                      6d ago  \n",
       "1                     13d ago  \n",
       "2                     13d ago  \n",
       "3                     14d ago  \n",
       "4                     15d ago  \n",
       "5                      7d ago  \n",
       "6                      7d ago  \n",
       "7                     11d ago  \n",
       "8                    1mon ago  \n",
       "9                      8d ago  \n",
       "10                   1mon ago  \n",
       "11                   1mon ago  \n",
       "12                   1mon ago  \n",
       "13                   1mon ago  \n",
       "14                    19d ago  \n",
       "15                    24d ago  \n",
       "16                     2d ago  \n",
       "17                   1mon ago  \n",
       "18                    15d ago  \n",
       "19                     5d ago  "
      ]
     },
     "execution_count": 451,
     "metadata": {},
     "output_type": "execute_result"
    }
   ],
   "source": [
    "df=pd.DataFrame({'Company_name':Brand,\n",
    "             'Company_rating':rating,\n",
    "             'No._of_days_ago_job_posted':no_of_days_ago})\n",
    "df"
   ]
  },
  {
   "cell_type": "markdown",
   "id": "927da556",
   "metadata": {},
   "source": [
    "### Write a python program to scrape the salary data for Data Scientist designation. \n",
    "You have to scrape Company name, Number of salaries, Average salary, Min salary, Max Salary"
   ]
  },
  {
   "cell_type": "code",
   "execution_count": 452,
   "id": "8ad350f5",
   "metadata": {},
   "outputs": [],
   "source": [
    "driver.get(\"https://www.ambitionbox.com/jobs/search?tag=data%20scientist&rid=naukri_091221900154\")"
   ]
  },
  {
   "cell_type": "code",
   "execution_count": 466,
   "id": "8242c424",
   "metadata": {},
   "outputs": [],
   "source": [
    "coy_name=[]\n",
    "min_salary=[]\n",
    "avg_salary=[]\n",
    "max_salary=[]\n",
    "salary=[]"
   ]
  },
  {
   "cell_type": "code",
   "execution_count": 528,
   "id": "8a1fc4a9",
   "metadata": {},
   "outputs": [
    {
     "name": "stderr",
     "output_type": "stream",
     "text": [
      "<ipython-input-528-ca161fdbaae7>:1: DeprecationWarning: find_elements_by_* commands are deprecated. Please use find_elements() instead\n",
      "  name=driver.find_elements_by_xpath(\"//div[@class='company-info']/p\")\n"
     ]
    }
   ],
   "source": [
    "name=driver.find_elements_by_xpath(\"//div[@class='company-info']/p\")\n",
    "for i in name:\n",
    "    coy_name.append(i.text)"
   ]
  },
  {
   "cell_type": "code",
   "execution_count": 532,
   "id": "d7b0afed",
   "metadata": {},
   "outputs": [
    {
     "data": {
      "text/plain": [
       "10"
      ]
     },
     "execution_count": 532,
     "metadata": {},
     "output_type": "execute_result"
    }
   ],
   "source": [
    "len(coy_name)"
   ]
  },
  {
   "cell_type": "code",
   "execution_count": 484,
   "id": "1ab23d84",
   "metadata": {},
   "outputs": [
    {
     "name": "stderr",
     "output_type": "stream",
     "text": [
      "<ipython-input-484-e1d77867ea71>:1: DeprecationWarning: find_elements_by_* commands are deprecated. Please use find_elements() instead\n",
      "  min=driver.find_elements_by_xpath(\"//div[@class='salary_value']/span\")\n"
     ]
    }
   ],
   "source": [
    "min=driver.find_elements_by_xpath(\"//div[@class='salary_value']/span\")\n",
    "for i in min:\n",
    "    salary.append(i.text)"
   ]
  },
  {
   "cell_type": "code",
   "execution_count": 488,
   "id": "b9fec19c",
   "metadata": {},
   "outputs": [],
   "source": [
    "for i in range(0,20,2):\n",
    "    min_salary.append(salary[i])\n",
    "for j in range(1,21,2):\n",
    "    max_salary.append(salary[j])    "
   ]
  },
  {
   "cell_type": "code",
   "execution_count": 520,
   "id": "1c5e5d1c",
   "metadata": {},
   "outputs": [
    {
     "name": "stderr",
     "output_type": "stream",
     "text": [
      "<ipython-input-520-6258a7024559>:1: DeprecationWarning: find_elements_by_* commands are deprecated. Please use find_elements() instead\n",
      "  avg=driver.find_elements_by_xpath(\"//div[@class='avg_value sbold-title-l']\")\n"
     ]
    }
   ],
   "source": [
    "avg=driver.find_elements_by_xpath(\"//div[@class='avg_value sbold-title-l']\")\n",
    "for i in avg:\n",
    "    avg_salary.append(i.text)\n",
    "   "
   ]
  },
  {
   "cell_type": "code",
   "execution_count": 525,
   "id": "20286efb",
   "metadata": {},
   "outputs": [
    {
     "data": {
      "text/plain": [
       "10"
      ]
     },
     "execution_count": 525,
     "metadata": {},
     "output_type": "execute_result"
    }
   ],
   "source": [
    "len(max_salary)"
   ]
  },
  {
   "cell_type": "code",
   "execution_count": 533,
   "id": "32e73e41",
   "metadata": {},
   "outputs": [
    {
     "data": {
      "text/html": [
       "<div>\n",
       "<style scoped>\n",
       "    .dataframe tbody tr th:only-of-type {\n",
       "        vertical-align: middle;\n",
       "    }\n",
       "\n",
       "    .dataframe tbody tr th {\n",
       "        vertical-align: top;\n",
       "    }\n",
       "\n",
       "    .dataframe thead th {\n",
       "        text-align: right;\n",
       "    }\n",
       "</style>\n",
       "<table border=\"1\" class=\"dataframe\">\n",
       "  <thead>\n",
       "    <tr style=\"text-align: right;\">\n",
       "      <th></th>\n",
       "      <th>Company_name</th>\n",
       "      <th>mni_salary</th>\n",
       "      <th>max_salary</th>\n",
       "      <th>Avg_salary</th>\n",
       "    </tr>\n",
       "  </thead>\n",
       "  <tbody>\n",
       "    <tr>\n",
       "      <th>0</th>\n",
       "      <td>Bayer India</td>\n",
       "      <td>₹ 5.6L</td>\n",
       "      <td>₹ 12L</td>\n",
       "      <td>₹ 7.9 L\\n(avg)</td>\n",
       "    </tr>\n",
       "    <tr>\n",
       "      <th>1</th>\n",
       "      <td>IBM India Pvt. Limited</td>\n",
       "      <td>₹ 5L</td>\n",
       "      <td>₹ 22.5L</td>\n",
       "      <td>₹ 11.7 L\\n(avg)</td>\n",
       "    </tr>\n",
       "    <tr>\n",
       "      <th>2</th>\n",
       "      <td>IBM India Pvt. Limited</td>\n",
       "      <td>₹ 5L</td>\n",
       "      <td>₹ 22.5L</td>\n",
       "      <td>₹ 11.7 L\\n(avg)</td>\n",
       "    </tr>\n",
       "    <tr>\n",
       "      <th>3</th>\n",
       "      <td>J.P. Morgan Services India Private Limited</td>\n",
       "      <td>₹ 10.6L</td>\n",
       "      <td>₹ 30L</td>\n",
       "      <td>₹ 19.5 L\\n(avg)</td>\n",
       "    </tr>\n",
       "    <tr>\n",
       "      <th>4</th>\n",
       "      <td>J.P. Morgan Services India Private Limited</td>\n",
       "      <td>₹ 10.6L</td>\n",
       "      <td>₹ 30L</td>\n",
       "      <td>₹ 19.5 L\\n(avg)</td>\n",
       "    </tr>\n",
       "    <tr>\n",
       "      <th>5</th>\n",
       "      <td>Tata Consultancy Services Ltd.</td>\n",
       "      <td>₹ 4.4L</td>\n",
       "      <td>₹ 15L</td>\n",
       "      <td>₹ 7.3 L\\n(avg)</td>\n",
       "    </tr>\n",
       "    <tr>\n",
       "      <th>6</th>\n",
       "      <td>IBM India Pvt. Limited</td>\n",
       "      <td>₹ 5L</td>\n",
       "      <td>₹ 22.5L</td>\n",
       "      <td>₹ 11.7 L\\n(avg)</td>\n",
       "    </tr>\n",
       "    <tr>\n",
       "      <th>7</th>\n",
       "      <td>GlaxoSmithKline Pharmaceuticals Limited</td>\n",
       "      <td>₹ 5L</td>\n",
       "      <td>₹ 22.5L</td>\n",
       "      <td>₹ 11.7 L\\n(avg)</td>\n",
       "    </tr>\n",
       "    <tr>\n",
       "      <th>8</th>\n",
       "      <td>IBM India Pvt. Limited</td>\n",
       "      <td>₹ 29.9L</td>\n",
       "      <td>₹ 56L</td>\n",
       "      <td>₹ 40.2 L\\n(avg)</td>\n",
       "    </tr>\n",
       "    <tr>\n",
       "      <th>9</th>\n",
       "      <td>JP Morgan Chase</td>\n",
       "      <td>₹ 29.9L</td>\n",
       "      <td>₹ 56L</td>\n",
       "      <td>₹ 40.2 L\\n(avg)</td>\n",
       "    </tr>\n",
       "  </tbody>\n",
       "</table>\n",
       "</div>"
      ],
      "text/plain": [
       "                                 Company_name mni_salary max_salary  \\\n",
       "0                                 Bayer India     ₹ 5.6L      ₹ 12L   \n",
       "1                      IBM India Pvt. Limited       ₹ 5L    ₹ 22.5L   \n",
       "2                      IBM India Pvt. Limited       ₹ 5L    ₹ 22.5L   \n",
       "3  J.P. Morgan Services India Private Limited    ₹ 10.6L      ₹ 30L   \n",
       "4  J.P. Morgan Services India Private Limited    ₹ 10.6L      ₹ 30L   \n",
       "5              Tata Consultancy Services Ltd.     ₹ 4.4L      ₹ 15L   \n",
       "6                      IBM India Pvt. Limited       ₹ 5L    ₹ 22.5L   \n",
       "7     GlaxoSmithKline Pharmaceuticals Limited       ₹ 5L    ₹ 22.5L   \n",
       "8                      IBM India Pvt. Limited    ₹ 29.9L      ₹ 56L   \n",
       "9                             JP Morgan Chase    ₹ 29.9L      ₹ 56L   \n",
       "\n",
       "        Avg_salary  \n",
       "0   ₹ 7.9 L\\n(avg)  \n",
       "1  ₹ 11.7 L\\n(avg)  \n",
       "2  ₹ 11.7 L\\n(avg)  \n",
       "3  ₹ 19.5 L\\n(avg)  \n",
       "4  ₹ 19.5 L\\n(avg)  \n",
       "5   ₹ 7.3 L\\n(avg)  \n",
       "6  ₹ 11.7 L\\n(avg)  \n",
       "7  ₹ 11.7 L\\n(avg)  \n",
       "8  ₹ 40.2 L\\n(avg)  \n",
       "9  ₹ 40.2 L\\n(avg)  "
      ]
     },
     "execution_count": 533,
     "metadata": {},
     "output_type": "execute_result"
    }
   ],
   "source": [
    "df=pd.DataFrame({'Company_name':coy_name,\n",
    "             'mni_salary':min_salary,\n",
    "             'max_salary':max_salary,\n",
    "             'Avg_salary':avg_salary})\n",
    "df"
   ]
  },
  {
   "cell_type": "code",
   "execution_count": null,
   "id": "23345e54",
   "metadata": {},
   "outputs": [],
   "source": []
  },
  {
   "cell_type": "code",
   "execution_count": null,
   "id": "bfaccf9e",
   "metadata": {},
   "outputs": [],
   "source": []
  },
  {
   "cell_type": "code",
   "execution_count": null,
   "id": "e907b2df",
   "metadata": {},
   "outputs": [],
   "source": []
  },
  {
   "cell_type": "code",
   "execution_count": null,
   "id": "a697a687",
   "metadata": {},
   "outputs": [],
   "source": []
  }
 ],
 "metadata": {
  "kernelspec": {
   "display_name": "Python 3",
   "language": "python",
   "name": "python3"
  },
  "language_info": {
   "codemirror_mode": {
    "name": "ipython",
    "version": 3
   },
   "file_extension": ".py",
   "mimetype": "text/x-python",
   "name": "python",
   "nbconvert_exporter": "python",
   "pygments_lexer": "ipython3",
   "version": "3.8.5"
  }
 },
 "nbformat": 4,
 "nbformat_minor": 5
}
